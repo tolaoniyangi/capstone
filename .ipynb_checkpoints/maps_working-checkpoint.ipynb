{
 "cells": [
  {
   "cell_type": "code",
   "execution_count": 14,
   "metadata": {},
   "outputs": [],
   "source": [
    "import geopandas as gpd\n",
    "import pandas as pd\n",
    "import numpy as np\n",
    "from shapely.geometry import Point, Polygon\n",
    "import matplotlib.pyplot as plt\n",
    "from fiona.crs import from_epsg\n",
    "import json"
   ]
  },
  {
   "cell_type": "code",
   "execution_count": 2,
   "metadata": {},
   "outputs": [],
   "source": [
    "import requests \n",
    "import geojson"
   ]
  },
  {
   "cell_type": "code",
   "execution_count": 3,
   "metadata": {},
   "outputs": [],
   "source": [
    "from ipyleaflet import Map, GeoData, GeoJSON, basemaps, basemap_to_tiles, Icon, Circle, Marker, LayerGroup, WidgetControl\n",
    "import ipywidgets as widgets\n",
    "from ipywidgets import Button \n",
    "from IPython.display import display, clear_output"
   ]
  },
  {
   "cell_type": "code",
   "execution_count": 4,
   "metadata": {},
   "outputs": [],
   "source": [
    "#drawing basic map\n",
    "center = (40.7210907,-73.9877836)\n",
    "basemap = basemap_to_tiles(basemaps.CartoDB.Positron)\n",
    "\n",
    "#variables for half-mi buffer\n",
    "radius = 402 #in-meters\n",
    "color = \"black\"\n",
    "fill_color = \"#000000\"\n",
    "fill_opacity = .2\n",
    "opacity = 1\n",
    "weight = 2\n",
    "title = \"Test\"\n",
    "###########\n",
    "\n",
    "circle = Circle()\n",
    "circle.location = center\n",
    "circle.opacity = 0\n",
    "circle.radius=radius\n",
    "\n",
    "draggable=False\n",
    "marker_opacity=1\n",
    "icon = Icon(icon_url='icon.png', icon_size=[15, 15])\n",
    "marker = Marker(location=center, draggable=draggable, icon=icon, opacity=marker_opacity)\n",
    "\n",
    "m = Map(layers=(basemap, ), center=center, zoom=15, min_zoom = 7, max_zoom = 20)\n",
    "\n",
    "layer_group = LayerGroup(layers=(marker, circle))\n",
    "m.add_layer(layer_group)\n",
    "\n",
    "button = Button(description=\"Generate Text\")\n",
    "output = widgets.Output()\n",
    "\n",
    "widget_control = WidgetControl(widget=button, position='topright')\n",
    "m.add_control(widget_control)"
   ]
  },
  {
   "cell_type": "code",
   "execution_count": 5,
   "metadata": {},
   "outputs": [],
   "source": [
    "def draw_buffer_original():\n",
    "    layer_group.clear_layers();\n",
    "    layer_group.add_layer(marker)\n",
    "\n",
    "    df2 = pd.DataFrame(marker.location)\n",
    "    df=df2.transpose()\n",
    "    df.columns=['Latitude','Longitude']\n",
    "\n",
    "    #creating a geodataframe from the point\n",
    "    gdf = gpd.GeoDataFrame(\n",
    "        df, geometry=gpd.points_from_xy(df.Longitude, df.Latitude))\n",
    "\n",
    "    # making buffer circle from point \n",
    "    test=gdf.copy()\n",
    "    test['geometry'] = test.geometry.buffer(.004,  cap_style=1, join_style=1)\n",
    "\n",
    "    #Make vector that covers the entirety of base map extent \n",
    "    #calculate difference with the circle \n",
    "    #then you have the highlighted map\n",
    "    rect =gdf.copy()\n",
    "    rect['geometry'] = rect.buffer(1,  cap_style=1, join_style=1)\n",
    "\n",
    "    diff = gpd.overlay(rect, test, how='difference')\n",
    "\n",
    "    geo_data = GeoData(geo_dataframe = diff,\n",
    "                       style={'color': color, \\\n",
    "                              'fillColor': fill_color, \\\n",
    "                              'fillOpacity': fill_opacity, \\\n",
    "                              'opacity': opacity, \\\n",
    "                              'weight': weight},\n",
    "                       name = title)\n",
    "\n",
    "    layer_group.add_layer(geo_data);\n",
    "\n",
    "draw_buffer_original()"
   ]
  },
  {
   "cell_type": "code",
   "execution_count": 6,
   "metadata": {},
   "outputs": [],
   "source": [
    "##click on map to add marker, removes old marker as well\n",
    "def handle_click(**kwargs):\n",
    "    if kwargs.get('type') == 'click':\n",
    "        layer_group.clear_layers();\n",
    "        marker = Marker(location=kwargs.get('coordinates'), draggable=draggable, icon=icon, opacity=marker_opacity)\n",
    "        layer_group.add_layer(marker)\n",
    "        \n",
    "        draw_buffer(**kwargs)"
   ]
  },
  {
   "cell_type": "code",
   "execution_count": 7,
   "metadata": {},
   "outputs": [],
   "source": [
    "# def on_location_changed(event):\n",
    "#     layer_group.clear_layers();\n",
    "#     marker = Marker(location=kwargs.get('coordinates'), draggable=draggable, icon=icon, opacity=marker_opacity)\n",
    "#     markerlocation = marker.location\n",
    "#     layer_group.add_layer(marker);\n",
    "    \n",
    "#     draw_buffer(**kwargs)\n",
    "#     m.on_interaction(handle_click)\n",
    "    \n",
    "#     pass\n",
    "\n",
    "# marker.observe(on_location_changed, 'location')"
   ]
  },
  {
   "cell_type": "code",
   "execution_count": 8,
   "metadata": {},
   "outputs": [],
   "source": [
    "def draw_buffer(**kwargs):\n",
    "    layer_group.clear_layers();\n",
    "    marker = Marker(location=kwargs.get('coordinates'), draggable=draggable, icon=icon, opacity=marker_opacity)\n",
    "    layer_group.add_layer(marker)\n",
    "\n",
    "    #extracting the marker location for the buffer\n",
    "    df2 = pd.DataFrame(marker.location)\n",
    "    df=df2.transpose()\n",
    "    df.columns=['Latitude','Longitude']\n",
    "\n",
    "    #creating a geodataframe from the point\n",
    "    gdf = gpd.GeoDataFrame(\n",
    "        df, geometry=gpd.points_from_xy(df.Longitude, df.Latitude))\n",
    "\n",
    "    # making buffer circle from point \n",
    "    test=gdf.copy()\n",
    "    test['geometry'] = test.geometry.buffer(.004,  cap_style=1, join_style=1)\n",
    "\n",
    "    #Make vector that covers the entirety of base map extent \n",
    "    #calculate difference with the circle \n",
    "    #then you have the highlighted map\n",
    "    rect =gdf.copy()\n",
    "    rect['geometry'] = rect.buffer(1,  cap_style=1, join_style=1)\n",
    "\n",
    "    diff = gpd.overlay(rect, test, how='difference')\n",
    "\n",
    "    geo_data = GeoData(geo_dataframe = diff,\n",
    "                       style={'color': color, \\\n",
    "                              'fillColor': fill_color, \\\n",
    "                              'fillOpacity': fill_opacity, \\\n",
    "                              'opacity': opacity, \\\n",
    "                              'weight': weight},\n",
    "    #                    hover_style={'fillColor': 'red' , \\\n",
    "    #                                 'fillOpacity': 0.2},\n",
    "                       name = title)\n",
    "\n",
    "    layer_group.add_layer(geo_data);"
   ]
  },
  {
   "cell_type": "code",
   "execution_count": 9,
   "metadata": {},
   "outputs": [],
   "source": [
    "def find_location():\n",
    "    #Extracting latitude and longitude values as separate strings from marker location ie from center\n",
    "    markerlocation = marker.location \n",
    "\n",
    "    lat = str(markerlocation[0])\n",
    "    lon = str(markerlocation[1])\n",
    "#     print(lat,'+', lon)\n",
    "\n",
    "    #Figure out which state and census block a latitude/longitude is in\n",
    "\n",
    "    #Contruct request URL\n",
    "    url = f'https://geo.fcc.gov/api/census/block/find?'\n",
    "\n",
    "    # api call using variables instead of directly is way easier\n",
    "    data_url = f'{url}lat={lat}&lon={lon}&format=json'\n",
    "    #Get response from API\n",
    "    response=requests.get(data_url)\n",
    "\n",
    "    #Parse json in response\n",
    "    data = response.json()\n",
    "#     print(response.text)\n",
    "\n",
    "    #Extracting the county and state being studied \n",
    "    state = data['results'][0]['state_fips']\n",
    "    county_fips = data['results'][0]['county_fips']\n",
    "\n",
    "    #Separating out the county fips from the state\n",
    "    county = county_fips[2:]\n",
    "\n",
    "#     print(state, county)\n",
    "    \n",
    "    return state"
   ]
  },
  {
   "cell_type": "code",
   "execution_count": 10,
   "metadata": {},
   "outputs": [],
   "source": [
    "def download_acs():\n",
    "    find_location()\n",
    "    \n",
    "    state = find_location()\n",
    "    \n",
    "    api_key = '9330dc4bf086a84f19fb412bb15f232507301de6'\n",
    "    acs_url = f'https://api.census.gov/data/2018/acs/acs5/'\n",
    "\n",
    "    pop_sex = 'B01003_001E,B01001_002E,B01001_026E'\n",
    "    household_type = 'B11001_002E,B11001_007E'\n",
    "    education = 'B15003_001E,B15003_017E,B15003_018E,B15003_019E,B15003_020E,B15003_021E,B15003_022E,B15003_023E,B15003_024E,B15003_025E'\n",
    "    household_income = 'B19001_002E,B19001_003E,B19001_004E,B19001_005E,B19001_006E,B19001_007E,B19001_008E,B19001_009E,B19001_010E,B19001_011E,B19001_012E,B19001_013E,B19001_014E,B19001_015E,B19001_016E,B19001_017E'\n",
    "    means_of_transport = 'B08301_002E,B08301_003E,B08301_003E,B08301_010E,B08301_016E,B08301_017E,B08301_018E,B08301_019E,B08301_020E,B08301_021E'\n",
    "    travel_time = 'B08303_002E,B08303_003E,B08303_004E,B08303_005E,B08303_006E,B08303_007E,B08303_008E,B08303_009E,B08303_010E,B08303_011E,B08303_012E,B08303_013E'\n",
    "\n",
    "    # api call using variables instead of directly is way easier\n",
    "    pop_sex_url = f'{acs_url}?&get={pop_sex}&for=tract:*&in=state:{state}%20county:*&key={api_key}'\n",
    "    household_type_url = f'{acs_url}?&get={household_type}&for=tract:*&in=state:{state}%20county:*&key={api_key}'\n",
    "    education_url = f'{acs_url}?&get={education}&for=tract:*&in=state:{state}%20county:*&key={api_key}'\n",
    "    household_income_url = f'{acs_url}?&get={household_income}&for=tract:*&in=state:{state}%20county:*&key={api_key}'\n",
    "    means_of_transport_url = f'{acs_url}?&get={means_of_transport}&for=tract:*&in=state:{state}%20county:*&key={api_key}'\n",
    "    travel_time_url = f'{acs_url}?&get={travel_time}&for=tract:*&in=state:{state}%20county:*&key={api_key}'\n",
    "\n",
    "    response_acs1=requests.get(pop_sex_url)\n",
    "    response_acs2=requests.get(household_type_url)\n",
    "    response_acs3=requests.get(education_url)\n",
    "    response_acs4=requests.get(household_income_url)\n",
    "    response_acs5=requests.get(means_of_transport_url)\n",
    "    response_acs6=requests.get(travel_time_url)\n",
    "    # print(response_acs.text)\n",
    "\n",
    "    #load the response into a JSON\n",
    "    data_acs1=response_acs1.json()\n",
    "    data_acs2=response_acs2.json()\n",
    "    data_acs3=response_acs3.json()\n",
    "    data_acs4=response_acs4.json()\n",
    "    data_acs5=response_acs5.json()\n",
    "    data_acs6=response_acs6.json()\n",
    "\n",
    "    #ignoring the first element which is column names, replacing columns with the columns from the table\n",
    "    acs1=pd.DataFrame(data_acs1[1:], columns=data_acs1[0])\n",
    "    acs2=pd.DataFrame(data_acs2[1:], columns=data_acs2[0])\n",
    "    acs3=pd.DataFrame(data_acs3[1:], columns=data_acs3[0])\n",
    "    acs4=pd.DataFrame(data_acs4[1:], columns=data_acs4[0])\n",
    "    acs5=pd.DataFrame(data_acs5[1:], columns=data_acs5[0])\n",
    "    acs6=pd.DataFrame(data_acs6[1:], columns=data_acs6[0])\n",
    "    \n",
    "    return acs1, acs2, acs3, acs4, acs5, acs6"
   ]
  },
  {
   "cell_type": "code",
   "execution_count": 12,
   "metadata": {},
   "outputs": [],
   "source": [
    "def clean_acs():"
   ]
  },
  {
   "cell_type": "code",
   "execution_count": 11,
   "metadata": {},
   "outputs": [],
   "source": [
    "def import_censustracts():\n",
    "    ##Adding in census geographies\n",
    "    state='STATE=36'\n",
    "\n",
    "    # census tracts link\n",
    "    endpoint = 'https://tigerweb.geo.census.gov/arcgis/rest/services/TIGERweb/Tracts_Blocks/MapServer/4/query'\n",
    "    s = requests.session()\n",
    "    s.params = {\n",
    "        'where': 'STATE=36 AND COUNTY=',\n",
    "        'text': '',\n",
    "        'objectIds': '',\n",
    "        'time': '',\n",
    "        'geometry': '[[-2336502.536,-20037700.],[1.1615796196E7,2.0656504635E7]]',\n",
    "        'geometryType': 'esriGeometryEnvelope',\n",
    "        'inSR': 102100, # EPSG 3857\n",
    "        'spatialRel': 'esriSpatialRelIntersects',\n",
    "        'relationParam': '',\n",
    "    #specify fields\n",
    "        'outFields': 'GEOID,STATE,COUNTY,TRACT,STGEOMETRY, OBJECTID',\n",
    "        'returnGeometry': True,\n",
    "        'returnTrueCurves': False,\n",
    "        'maxAllowableOffset': '',\n",
    "        'geometryPrecision': '',\n",
    "        'outSR': '',\n",
    "        'returnIdsOnly': False,\n",
    "        'returnCountOnly': False,\n",
    "        'orderByFields': '',\n",
    "        'groupByFieldsForStatistics': '',\n",
    "        'outStatistics': '',\n",
    "        'returnZ': False,\n",
    "        'returnM': False,\n",
    "        'gdbVersion': '',\n",
    "        'returnDistinctValues': False,\n",
    "        'f': 'geojson',        \n",
    "    }\n",
    "    start = 0\n",
    "    done = False\n",
    "    features = []\n",
    "    crs = None\n",
    "    while not done:\n",
    "        r = s.get(endpoint, params={\n",
    "            'resultOffset': start,\n",
    "            'resultRecordCount': 32,\n",
    "        })\n",
    "        r.raise_for_status()\n",
    "        tracts = geojson.loads(r.text)\n",
    "        newfeats = tracts.__geo_interface__['features']\n",
    "        if newfeats:\n",
    "            features.extend(newfeats)\n",
    "            crs=tracts.__geo_interface__['crs']\n",
    "            start += len(newfeats)\n",
    "            print(\"Received\", len(newfeats), \"entries,\", start, \"total\")\n",
    "        else:\n",
    "            done = True\n",
    "    tracts_df = gpd.GeoDataFrame.from_features(features, crs=crs)\n",
    "    \n",
    "    return tracts_df"
   ]
  },
  {
   "cell_type": "code",
   "execution_count": null,
   "metadata": {},
   "outputs": [],
   "source": [
    "def join_acs():"
   ]
  },
  {
   "cell_type": "code",
   "execution_count": null,
   "metadata": {},
   "outputs": [],
   "source": [
    "def proportional_split():"
   ]
  },
  {
   "cell_type": "code",
   "execution_count": null,
   "metadata": {},
   "outputs": [],
   "source": [
    "def aggregate():"
   ]
  },
  {
   "cell_type": "code",
   "execution_count": null,
   "metadata": {},
   "outputs": [],
   "source": [
    "def summary_stats():"
   ]
  },
  {
   "cell_type": "code",
   "execution_count": null,
   "metadata": {},
   "outputs": [],
   "source": [
    "#CHARTS!!! comes after cleaning the data and before buttons"
   ]
  },
  {
   "cell_type": "code",
   "execution_count": null,
   "metadata": {},
   "outputs": [],
   "source": [
    "def generate_text():"
   ]
  },
  {
   "cell_type": "code",
   "execution_count": 12,
   "metadata": {},
   "outputs": [
    {
     "data": {
      "application/vnd.jupyter.widget-view+json": {
       "model_id": "48608e3e1e344298bb436d24d1253d1e",
       "version_major": 2,
       "version_minor": 0
      },
      "text/plain": [
       "Button(description='Generate Text', style=ButtonStyle())"
      ]
     },
     "metadata": {},
     "output_type": "display_data"
    },
    {
     "data": {
      "application/vnd.jupyter.widget-view+json": {
       "model_id": "27afd55afd384e3e85782d27f77c1a6f",
       "version_major": 2,
       "version_minor": 0
      },
      "text/plain": [
       "Output()"
      ]
     },
     "metadata": {},
     "output_type": "display_data"
    }
   ],
   "source": [
    "display(button, output)\n",
    "\n",
    "def on_button_clicked(b):\n",
    "    output.clear_output()\n",
    "    \n",
    "    find_location()\n",
    "    acs1, acs2, acs3, acs4, acs5, acs6 = download_acs()\n",
    "#     tracts_df = import_censustracts()\n",
    "    \n",
    "    with output:\n",
    "        print(\"Button clicked.\")\n",
    "\n",
    "button.on_click(on_button_clicked)"
   ]
  },
  {
   "cell_type": "code",
   "execution_count": 13,
   "metadata": {},
   "outputs": [
    {
     "ename": "NameError",
     "evalue": "name 'acs4' is not defined",
     "output_type": "error",
     "traceback": [
      "\u001b[1;31m---------------------------------------------------------------------------\u001b[0m",
      "\u001b[1;31mNameError\u001b[0m                                 Traceback (most recent call last)",
      "\u001b[1;32m<ipython-input-13-9dd25d1e780f>\u001b[0m in \u001b[0;36m<module>\u001b[1;34m\u001b[0m\n\u001b[1;32m----> 1\u001b[1;33m \u001b[0macs4\u001b[0m\u001b[1;33m.\u001b[0m\u001b[0mhead\u001b[0m\u001b[1;33m(\u001b[0m\u001b[1;33m)\u001b[0m\u001b[1;33m\u001b[0m\u001b[1;33m\u001b[0m\u001b[0m\n\u001b[0m",
      "\u001b[1;31mNameError\u001b[0m: name 'acs4' is not defined"
     ]
    }
   ],
   "source": [
    "acs4.head()"
   ]
  },
  {
   "cell_type": "code",
   "execution_count": null,
   "metadata": {},
   "outputs": [],
   "source": [
    "button.on_click(on_button_clicked)\n",
    "m.on_interaction(handle_click)\n",
    "# marker.observe(on_location_changed, 'location')\n",
    "    \n",
    "m"
   ]
  },
  {
   "cell_type": "code",
   "execution_count": null,
   "metadata": {},
   "outputs": [],
   "source": []
  },
  {
   "cell_type": "code",
   "execution_count": null,
   "metadata": {},
   "outputs": [],
   "source": []
  },
  {
   "cell_type": "code",
   "execution_count": null,
   "metadata": {},
   "outputs": [],
   "source": []
  },
  {
   "cell_type": "code",
   "execution_count": null,
   "metadata": {},
   "outputs": [],
   "source": []
  },
  {
   "cell_type": "code",
   "execution_count": null,
   "metadata": {},
   "outputs": [],
   "source": []
  },
  {
   "cell_type": "code",
   "execution_count": null,
   "metadata": {},
   "outputs": [],
   "source": [
    "# import ipywidgets\n",
    "from arcgis.gis import GIS\n",
    "\n",
    "gis = GIS() # Connect to ArcGIS Online as an anonymous user"
   ]
  },
  {
   "cell_type": "code",
   "execution_count": null,
   "metadata": {},
   "outputs": [],
   "source": [
    "m = gis.map(\"New York, NY\", zoomlevel=11)\n",
    "geo_data = GeoData(geo_dataframe = test,\n",
    "                   style={'color': 'black', 'fillColor': '#3366cc', 'opacity':0.05, 'weight':1.9, 'dashArray':'2', 'fillOpacity':0.6},\n",
    "                   hover_style={'fillColor': 'red' , 'fillOpacity': 0.2},\n",
    "                   name = 'Countries')\n",
    "\n",
    "\n",
    "m.add_layer(geo_data)\n",
    "m\n",
    "\n",
    "# map2.toggle_window_view()"
   ]
  },
  {
   "cell_type": "code",
   "execution_count": null,
   "metadata": {},
   "outputs": [],
   "source": []
  },
  {
   "cell_type": "code",
   "execution_count": null,
   "metadata": {},
   "outputs": [],
   "source": []
  },
  {
   "cell_type": "code",
   "execution_count": null,
   "metadata": {},
   "outputs": [],
   "source": []
  },
  {
   "cell_type": "code",
   "execution_count": null,
   "metadata": {
    "scrolled": true
   },
   "outputs": [],
   "source": []
  },
  {
   "cell_type": "code",
   "execution_count": null,
   "metadata": {},
   "outputs": [],
   "source": []
  },
  {
   "cell_type": "code",
   "execution_count": null,
   "metadata": {},
   "outputs": [],
   "source": [
    "import geojson\n",
    "import tempfile\n",
    "\n",
    "def write_json(self, features):\n",
    "   # feature is a shapely geometry type\n",
    "   geom_in_geojson = geojson.Feature(geometry=features, properties={})\n",
    "   tmp_file = tempfile.mkstemp(suffix='.geojson')\n",
    "   with open(tmp_file[1], 'w') as outfile:\n",
    "      geojson.dump(geom_in_geojson, outfile)\n",
    "   return tmp_file[1]\n",
    "\n",
    "write_json \n",
    "# print(tmp_file[1])"
   ]
  },
  {
   "cell_type": "code",
   "execution_count": null,
   "metadata": {},
   "outputs": [],
   "source": []
  },
  {
   "cell_type": "code",
   "execution_count": null,
   "metadata": {},
   "outputs": [],
   "source": []
  },
  {
   "cell_type": "code",
   "execution_count": null,
   "metadata": {},
   "outputs": [],
   "source": [
    "from shapely.geometry import Polygon\n",
    "import geopandas as gpd\n",
    "import pandas as pd\n",
    "import numpy as np\n",
    "import requests\n",
    "\n",
    "def get_geography(geoid):\n",
    "    # https://api.censusreporter.org/1.0/geo/tiger2016/16000US5367000?geom=true\n",
    "\n",
    "    api_url = 'https://api.censusreporter.org/1.0/geo/tiger2016/{0}?geom=true'\n",
    "    data = requests.get(api_url.format(geoid)).json()\n",
    "\n",
    "\n",
    "    # Get Features\n",
    "    fdf = pd.DataFrame({\n",
    "                        'Geoid': geoid,\n",
    "                        'LandArea': data['properties']['aland'] / 2589988,\n",
    "                        'Population': data['properties']['population']\n",
    "                        }, index=[0])\n",
    "    fdf['PopulationDensity'] = fdf.Population / fdf.LandArea\n",
    "\n",
    "    # Convert Points into Geopandas Geometry\n",
    "    numpy_points =   np.array(data['geometry']['coordinates'][0])\n",
    "    fdf['Geometry'] = Polygon(numpy_points)\n",
    "\n",
    "    return gpd.GeoDataFrame(fdf, crs='epsg:4326', geometry = 'Geometry')\n",
    "\n",
    "get_geography('86000US78666').plot()"
   ]
  },
  {
   "cell_type": "code",
   "execution_count": null,
   "metadata": {},
   "outputs": [],
   "source": []
  },
  {
   "cell_type": "code",
   "execution_count": null,
   "metadata": {
    "scrolled": false
   },
   "outputs": [],
   "source": [
    "# #drawing basic map\n",
    "# center = (40.7210907,-73.9877836)\n",
    "# basemap = basemap_to_tiles(basemaps.CartoDB.Positron)\n",
    "\n",
    "# icon = Icon(icon_url='icon.png', icon_size=[15, 15])\n",
    "# marker = Marker(location=center, draggable=False, icon=icon, opacity = 0.8)\n",
    "\n",
    "# m = Map(layers=(basemap, ), center=center, zoom=15, min_zoom = 11, max_zoom = 20, ax=ax, fig=fig)\n",
    "\n",
    "# ###HALF-MI BUFFER\n",
    "# #set location of center as location of the point\n",
    "# markerlocation=marker.location\n",
    "# print(markerlocation)\n",
    "    \n",
    "# radius = 402 #in-meters\n",
    "# color = \"black\"\n",
    "# fill_color = \"white\"\n",
    "# fill_opacity = .2\n",
    "# weight = 2\n",
    "\n",
    "# ##click on map to add marker, removes old marker as well\n",
    "# def handle_click(**kwargs):\n",
    "#     if kwargs.get('type') == 'click':\n",
    "#         layer_group.clear_layers();\n",
    "#         marker = Marker(location=kwargs.get('coordinates'), draggable=False, icon=icon, opacity = 0.8)\n",
    "#         layer_group.add_layer(marker)\n",
    "        \n",
    "#         #updating the circle's location\n",
    "#         markerlocation=marker.location\n",
    "#         circle.location = markerlocation\n",
    "#         layer_group.add_layer(circle);\n",
    "        \n",
    "# m.on_interaction(handle_click)\n",
    "# ######\n",
    "\n",
    "# #create half-mi buffer\n",
    "# circle = Circle()\n",
    "# circle.location = markerlocation\n",
    "# circle.radius = radius\n",
    "# circle.color = color\n",
    "# circle.fill_color = fill_color\n",
    "# circle.fill_opacity = fill_opacity\n",
    "# circle.weight = weight\n",
    "# ###########\n",
    "\n",
    "    \n",
    "# # def on_location_changed(event):\n",
    "# # #remove any circles existing first\n",
    "# #     layer_group.clear_layers();\n",
    "\n",
    "# # #update location of center as location of the point\n",
    "# #     markerlocation = marker.location\n",
    "# #     circle.location = markerlocation\n",
    "# #     layer_group.add_layer(circle);\n",
    "        \n",
    "# # pass\n",
    "# # marker.observe(on_location_changed, 'location')\n",
    "# # #######\n",
    "\n",
    "\n",
    "# # #adding button that performs the analysis on click \n",
    "# # button = Button(description=\"Reset\")\n",
    "\n",
    "# # def on_button_clicked(b, geo_json):   \n",
    "    \n",
    "# # button.on_click(on_button_clicked)\n",
    "\n",
    "    \n",
    "# # widget_control = WidgetControl(widget=button, position='topright')\n",
    "# # m.add_control(widget_control)\n",
    "\n",
    "# m.add_control(LayersControl())\n",
    "\n",
    "# layer_group = LayerGroup(layers=(marker, circle))\n",
    "# m.add_layer(layer_group)\n",
    "\n",
    "# # display(m)"
   ]
  }
 ],
 "metadata": {
  "kernelspec": {
   "display_name": "Python 3",
   "language": "python",
   "name": "python3"
  },
  "language_info": {
   "codemirror_mode": {
    "name": "ipython",
    "version": 3
   },
   "file_extension": ".py",
   "mimetype": "text/x-python",
   "name": "python",
   "nbconvert_exporter": "python",
   "pygments_lexer": "ipython3",
   "version": "3.7.4"
  }
 },
 "nbformat": 4,
 "nbformat_minor": 4
}
