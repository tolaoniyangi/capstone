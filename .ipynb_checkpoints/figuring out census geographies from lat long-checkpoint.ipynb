{
 "cells": [
  {
   "cell_type": "code",
   "execution_count": 14,
   "metadata": {},
   "outputs": [],
   "source": [
    "import urllib, json, requests\n",
    "#  transforming lat long into FIPS codes"
   ]
  },
  {
   "cell_type": "code",
   "execution_count": 48,
   "metadata": {},
   "outputs": [
    {
     "name": "stdout",
     "output_type": "stream",
     "text": [
      "{\"input\":{\"lat\":42.3295,\"lon\":-71.0826},\"results\":[{\"block_fips\":\"250250804011018\",\"bbox\":[-71.083358,42.329297,-71.082166,42.330103],\"county_fips\":\"25025\",\"county_name\":\"Suffolk\",\"state_fips\":\"25\",\"state_code\":\"MA\",\"state_name\":\"Massachusetts\",\"block_pop_2015\":10,\"amt\":\"AMT001\",\"bea\":\"BEA003\",\"bta\":\"BTA051\",\"cma\":\"CMA006\",\"eag\":\"EAG001\",\"ivm\":\"IVM006\",\"mea\":\"MEA001\",\"mta\":\"MTA008\",\"pea\":\"PEA007\",\"rea\":\"REA001\",\"rpc\":\"RPC001\",\"vpc\":\"VPC001\"}]}\n",
      "25\n",
      "25025\n",
      "Suffolk\n"
     ]
    }
   ],
   "source": [
    "#Figure out which state and census block a latitude/longitude is in\n",
    "#USING PARAMETERS \n",
    "\n",
    "#Encode parameters \n",
    "lat = '42.3295'\n",
    "lon = '-71.0826'\n",
    "\n",
    "#Contruct request URL\n",
    "url = f'https://geo.fcc.gov/api/census/block/find?'\n",
    "\n",
    "# api call using variables instead of directly is way easier\n",
    "data_url = f'{url}lat={lat}&lon={lon}&format=json'\n",
    "#Get response from API\n",
    "response=requests.get(data_url)\n",
    "\n",
    "#Parse json in response\n",
    "data = response.json()\n",
    "\n",
    "print(response.text)\n",
    "\n",
    "#Print FIPS code\n",
    "print(data['results'][0]['state_fips'])\n",
    "print(data['results'][0]['county_fips'])\n",
    "print(data['results'][0]['county_name'])"
   ]
  },
  {
   "cell_type": "code",
   "execution_count": 47,
   "metadata": {},
   "outputs": [
    {
     "name": "stdout",
     "output_type": "stream",
     "text": [
      "{'input': {'lat': 42.3295, 'lon': -71.0826}, 'results': [{'block_fips': '250250804011018', 'bbox': [-71.083358, 42.329297, -71.082166, 42.330103], 'county_fips': '25025', 'county_name': 'Suffolk', 'state_fips': '25', 'state_code': 'MA', 'state_name': 'Massachusetts', 'block_pop_2015': 10, 'amt': 'AMT001', 'bea': 'BEA003', 'bta': 'BTA051', 'cma': 'CMA006', 'eag': 'EAG001', 'ivm': 'IVM006', 'mea': 'MEA001', 'mta': 'MTA008', 'pea': 'PEA007', 'rea': 'REA001', 'rpc': 'RPC001', 'vpc': 'VPC001'}]}\n",
      "{\n",
      "    \"input\": {\n",
      "        \"lat\": 42.3295,\n",
      "        \"lon\": -71.0826\n",
      "    },\n",
      "    \"results\": [\n",
      "        {\n",
      "            \"amt\": \"AMT001\",\n",
      "            \"bbox\": [\n",
      "                -71.083358,\n",
      "                42.329297,\n",
      "                -71.082166,\n",
      "                42.330103\n",
      "            ],\n",
      "            \"bea\": \"BEA003\",\n",
      "            \"block_fips\": \"250250804011018\",\n",
      "            \"block_pop_2015\": 10,\n",
      "            \"bta\": \"BTA051\",\n",
      "            \"cma\": \"CMA006\",\n",
      "            \"county_fips\": \"25025\",\n",
      "            \"county_name\": \"Suffolk\",\n",
      "            \"eag\": \"EAG001\",\n",
      "            \"ivm\": \"IVM006\",\n",
      "            \"mea\": \"MEA001\",\n",
      "            \"mta\": \"MTA008\",\n",
      "            \"pea\": \"PEA007\",\n",
      "            \"rea\": \"REA001\",\n",
      "            \"rpc\": \"RPC001\",\n",
      "            \"state_code\": \"MA\",\n",
      "            \"state_fips\": \"25\",\n",
      "            \"state_name\": \"Massachusetts\",\n",
      "            \"vpc\": \"VPC001\"\n",
      "        }\n",
      "    ]\n",
      "}\n",
      "25\n",
      "25025\n",
      "Suffolk\n"
     ]
    }
   ],
   "source": [
    "###SHORTER WAY\n",
    "#Figure out which state and census block a latitude/longitude is in\n",
    "with urllib.request.urlopen(\"https://geo.fcc.gov/api/census/block/find?lat=42.3295&lon=-71.0826&format=json\") as url:\n",
    "    data = json.loads(url.read().decode())\n",
    "    print(data)\n",
    "\n",
    "print(json.dumps(data, indent=4, sort_keys=True))\n",
    "\n",
    "print(data['results'][0]['state_fips'])\n",
    "print(data['results'][0]['county_fips'])\n",
    "print(data['results'][0]['county_name'])"
   ]
  },
  {
   "cell_type": "code",
   "execution_count": 55,
   "metadata": {},
   "outputs": [
    {
     "name": "stdout",
     "output_type": "stream",
     "text": [
      "25025\n"
     ]
    }
   ],
   "source": [
    "county = data['results'][0]['county_fips']\n",
    "print(county)"
   ]
  },
  {
   "cell_type": "code",
   "execution_count": null,
   "metadata": {},
   "outputs": [],
   "source": []
  },
  {
   "cell_type": "code",
   "execution_count": null,
   "metadata": {},
   "outputs": [],
   "source": []
  }
 ],
 "metadata": {
  "kernelspec": {
   "display_name": "Python 3",
   "language": "python",
   "name": "python3"
  },
  "language_info": {
   "codemirror_mode": {
    "name": "ipython",
    "version": 3
   },
   "file_extension": ".py",
   "mimetype": "text/x-python",
   "name": "python",
   "nbconvert_exporter": "python",
   "pygments_lexer": "ipython3",
   "version": "3.7.4"
  }
 },
 "nbformat": 4,
 "nbformat_minor": 2
}
