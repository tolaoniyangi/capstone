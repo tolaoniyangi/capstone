{
 "cells": [
  {
   "cell_type": "code",
   "execution_count": 1,
   "metadata": {},
   "outputs": [],
   "source": [
    "# links\n",
    "\n",
    "# acs\n",
    "# https://api.census.gov/data/2018/acs/acs5/profile/examples.html\n",
    "# https://api.census.gov/data/2018/acs/acs5/profile/geography.html\n",
    "# https://api.census.gov/data/2018/acs/acs5/variables.html\n",
    "# https://data.census.gov/cedsci/table?q=United%20States\n",
    "# https://www.census.gov/data/developers/data-sets/acs-5year.html\n",
    "\n",
    "# qwi\n",
    "# https://www.census.gov/data/developers/data-sets/qwi.html\n",
    "# https://api.census.gov/data/timeseries/qwi/sa/variables.html\n",
    "# https://api.census.gov/data/timeseries/qwi/sa/examples.html\n",
    "# https://api.census.gov/data/timeseries/qwi.html\n",
    "# https://lehd.ces.census.gov/doc/QWIPU_Data_Schema.pdf\n",
    "# https://lehd.ces.census.gov/doc/QWI_101.pdf"
   ]
  },
  {
   "cell_type": "code",
   "execution_count": 2,
   "metadata": {},
   "outputs": [
    {
     "data": {
      "text/plain": [
       "'C:\\\\Users\\\\Tola\\\\Documents\\\\Github\\\\capstone'"
      ]
     },
     "execution_count": 2,
     "metadata": {},
     "output_type": "execute_result"
    }
   ],
   "source": [
    "%pwd"
   ]
  },
  {
   "cell_type": "code",
   "execution_count": 3,
   "metadata": {},
   "outputs": [
    {
     "name": "stdout",
     "output_type": "stream",
     "text": [
      "[WinError 3] The system cannot find the path specified: 'Documents/Github/capstone'\n",
      "C:\\Users\\Tola\\Documents\\Github\\capstone\n"
     ]
    }
   ],
   "source": [
    "%cd Documents/Github/capstone"
   ]
  },
  {
   "cell_type": "code",
   "execution_count": 4,
   "metadata": {},
   "outputs": [],
   "source": [
    "#manipulate dataframes/geodataframes in python\n",
    "import pandas as pd\n",
    "import geopandas as gpd\n",
    "\n",
    "#make API calls with python\n",
    "import requests\n",
    "\n",
    "#allows us to store results of API call cleanly\n",
    "import json"
   ]
  },
  {
   "cell_type": "code",
   "execution_count": 5,
   "metadata": {},
   "outputs": [],
   "source": [
    "import numpy as np\n",
    "from shapely.geometry import Point\n",
    "from fiona.crs import from_epsg"
   ]
  },
  {
   "cell_type": "code",
   "execution_count": 6,
   "metadata": {},
   "outputs": [],
   "source": [
    "from ipyleaflet import Map, GeoData, GeoJSON, basemaps, basemap_to_tiles, Icon, Circle, Marker, LayerGroup, WidgetControl\n",
    "from ipywidgets import Button \n",
    "import ipywidgets as widgets"
   ]
  },
  {
   "cell_type": "code",
   "execution_count": 21,
   "metadata": {},
   "outputs": [
    {
     "name": "stdout",
     "output_type": "stream",
     "text": [
      "[40.7210907, -73.9877836]\n"
     ]
    },
    {
     "data": {
      "application/vnd.jupyter.widget-view+json": {
       "model_id": "e636834ff3a14ec888f5e688693c6743",
       "version_major": 2,
       "version_minor": 0
      },
      "text/plain": [
       "Map(center=[40.7210907, -73.9877836], controls=(ZoomControl(options=['position', 'zoom_in_text', 'zoom_in_titl…"
      ]
     },
     "metadata": {},
     "output_type": "display_data"
    },
    {
     "name": "stdout",
     "output_type": "stream",
     "text": [
      "           0\n",
      "0  40.721091\n",
      "1 -73.987784\n",
      "    Latitude  Longitude\n",
      "0  40.721091 -73.987784\n",
      "{'init': 'epsg:3857', 'no_defs': True}\n",
      "           0\n",
      "0  40.720591\n",
      "1 -73.994838\n",
      "    Latitude  Longitude\n",
      "0  40.720591 -73.994838\n",
      "{'init': 'epsg:3857', 'no_defs': True}\n",
      "           0\n",
      "0  40.721769\n",
      "1 -73.977023\n",
      "    Latitude  Longitude\n",
      "0  40.721769 -73.977023\n",
      "{'init': 'epsg:3857', 'no_defs': True}\n"
     ]
    }
   ],
   "source": [
    "#drawing basic map\n",
    "center = (40.7210907,-73.9877836)\n",
    "basemap = basemap_to_tiles(basemaps.CartoDB.Positron)\n",
    "\n",
    "icon = Icon(icon_url='icon.png', icon_size=[15, 15])\n",
    "marker = Marker(location=center, draggable=False, icon=icon, opacity = 0.8)\n",
    "\n",
    "m = Map(layers=(basemap, ), center=center, zoom=15, min_zoom = 11, max_zoom = 20)\n",
    "\n",
    "###HALF-MI BUFFER\n",
    "#set location of center as location of the point\n",
    "markerlocation=marker.location\n",
    "print(markerlocation)\n",
    "    \n",
    "radius = 402 #in-meters\n",
    "color = \"black\"\n",
    "fill_color = \"white\"\n",
    "fill_opacity = .2\n",
    "weight = 2\n",
    "\n",
    "##click on map to add marker, removes old marker as well\n",
    "def handle_click(**kwargs):\n",
    "    if kwargs.get('type') == 'click':\n",
    "        layer_group.clear_layers();\n",
    "        marker = Marker(location=kwargs.get('coordinates'), draggable=False, icon=icon, opacity = 0.8)\n",
    "        layer_group.add_layer(marker)\n",
    "        \n",
    "        #updating the circle's location\n",
    "        markerlocation=marker.location\n",
    "        circle.location = markerlocation\n",
    "        layer_group.add_layer(circle);\n",
    "        \n",
    "m.on_interaction(handle_click)\n",
    "######\n",
    "\n",
    "#create half-mi buffer\n",
    "circle = Circle()\n",
    "circle.location = markerlocation\n",
    "circle.radius = radius\n",
    "circle.color = color\n",
    "circle.fill_color = fill_color\n",
    "circle.fill_opacity = fill_opacity\n",
    "circle.weight = weight\n",
    "###########\n",
    "\n",
    "    \n",
    "# def on_location_changed(event):\n",
    "# #remove any circles existing first\n",
    "#     layer_group.clear_layers();\n",
    "\n",
    "# #update location of center as location of the point\n",
    "#     markerlocation = marker.location\n",
    "#     circle.location = markerlocation\n",
    "#     layer_group.add_layer(circle);\n",
    "        \n",
    "# pass\n",
    "# marker.observe(on_location_changed, 'location')\n",
    "# #######\n",
    "\n",
    "\n",
    "#adding button that performs the analysis on click \n",
    "button = Button(description=\"Analyze\")\n",
    "\n",
    "def on_button_clicked(b):   \n",
    "    #extracting the marker location for the buffer\n",
    "    location=circle.location\n",
    "    \n",
    "    df2 = pd.DataFrame(location)\n",
    "    print(df2)\n",
    "\n",
    "    df=df2.transpose()\n",
    "    df.columns=['Latitude','Longitude']\n",
    "    print(df.head())\n",
    "\n",
    "    #creating a geodataframe from the point\n",
    "    gdf = gpd.GeoDataFrame(\n",
    "        df, geometry=gpd.points_from_xy(df.Longitude, df.Latitude))\n",
    "#creating circle for cut\n",
    "    # gdf.crs = 'EPSG:4326'\n",
    "    gdf.crs = from_epsg(3857)\n",
    "    print(gdf.crs)\n",
    "    test=gdf.copy()\n",
    "    #making buffer\n",
    "    test['geometry'] = test.geometry.buffer(.004,  cap_style=1, join_style=1)\n",
    "    # change back\n",
    "    test.crs = from_epsg(3857)\n",
    "#creating rectangle for cut\n",
    "    rect_orig=gdf.copy()\n",
    "    rect_orig['geometry'] = rect_orig.geometry.buffer(4,  cap_style=1, join_style=1)\n",
    "#difference\n",
    "    diff = gpd.overlay(rect_orig, test, how='difference')\n",
    "\n",
    "    geo_data = GeoData(geo_dataframe = diff,\n",
    "                   style={'fillColor': 'black', 'color':'black', 'weight':2,'fillOpacity':0.5},\n",
    "#                    hover_style={'fillColor': 'red' , 'fillOpacity': 0.2},\n",
    "                   name = 'Boundary')\n",
    "    layer_group.add_layer(geo_data)\n",
    "    \n",
    "button.on_click(on_button_clicked)\n",
    "\n",
    "    \n",
    "widget_control = WidgetControl(widget=button, position='topright')\n",
    "m.add_control(widget_control)\n",
    "\n",
    "\n",
    "layer_group = LayerGroup(layers=(marker, circle))\n",
    "m.add_layer(layer_group)\n",
    "\n",
    "display(m)"
   ]
  },
  {
   "cell_type": "code",
   "execution_count": null,
   "metadata": {},
   "outputs": [],
   "source": [
    "# key = 9330dc4bf086a84f19fb412bb15f232507301de6\n",
    "with open('census_key.txt') as key:\n",
    "    api_key=key.read().strip()\n",
    " \n",
    "# here is defining the variables...\n",
    "NAME_acs='B01003_001E,B25074_001E'\n",
    "state='36'\n",
    "county='005,047,061'\n",
    "# tract='001002'\n",
    "time='2019-Q2'\n",
    "NAME_qwi='geography,industry,sex,agegrp,education,firmsize'\n",
    "MSA_short='metropolitan%20statistical%20area/micropolitan%20statistical%20area'"
   ]
  },
  {
   "cell_type": "code",
   "execution_count": null,
   "metadata": {},
   "outputs": [],
   "source": [
    "acs_url = f'https://api.census.gov/data/2018/acs/acs5/'\n",
    "qwi_url = f'https://api.census.gov/data/timeseries/qwi/sa'"
   ]
  },
  {
   "cell_type": "code",
   "execution_count": null,
   "metadata": {},
   "outputs": [],
   "source": [
    "# \thttps://api.census.gov/data/timeseries/qwi/sa?get=year,agegrp,quarter&for=metropolitan%20statistical%20area/micropolitan%20statistical%20area:*&in=state:24&time=2010-Q1&key=YOUR_KEY_GOES_HERE\n",
    "\n",
    "# api call using variables instead of directly is way easier\n",
    "qwi_data_url = f'{qwi_url}?&get={NAME_qwi}&for={MSA_short}:*&in=state:{state}&time={time}&key={api_key}'\n",
    "response_qwi=requests.get(qwi_data_url)\n",
    "print(response_qwi.text)"
   ]
  },
  {
   "cell_type": "code",
   "execution_count": null,
   "metadata": {},
   "outputs": [],
   "source": [
    "# https://api.census.gov/data/2018/acs/acs5/profile?get=DP04_0001E&for=tract:*&in=state:36%20county:005,047&key=9330dc4bf086a84f19fb412bb15f232507301de6\n",
    "\n",
    "# api call using variables instead of directly is way easier\n",
    "acs_data_url = f'{acs_url}?&get={NAME_acs}&for=tract:*&in=state:{state}%20county:{county}&key={api_key}'\n",
    "response_acs=requests.get(acs_data_url)\n",
    "print(response_acs.text)"
   ]
  },
  {
   "cell_type": "code",
   "execution_count": null,
   "metadata": {},
   "outputs": [],
   "source": [
    "#load the response into a JSON\n",
    "data_acs=response_acs.json()\n",
    "#ignoring the first element which is column names, replacing columns with the columns from the table\n",
    "acs=pd.DataFrame(data_acs[1:], columns=data_acs[0])\n",
    "\n",
    "acs.head()"
   ]
  },
  {
   "cell_type": "code",
   "execution_count": null,
   "metadata": {},
   "outputs": [],
   "source": [
    "#load the response into a JSON\n",
    "data_qwi=response_qwi.json()\n",
    "#ignoring the first element which is just column names, replacing columns with the columns from the table\n",
    "qwi=pd.DataFrame(data_qwi[1:], columns=data_qwi[0])\n",
    "\n",
    "qwi.head()"
   ]
  },
  {
   "cell_type": "code",
   "execution_count": null,
   "metadata": {},
   "outputs": [],
   "source": [
    "# #Write to a pickle so the api isnt accessed over and over again\n",
    "# acs.to_pickle('acs.pickle')\n",
    "# qwi.to_pickle('qwi.pickle')"
   ]
  },
  {
   "cell_type": "code",
   "execution_count": null,
   "metadata": {},
   "outputs": [],
   "source": [
    "# #Read from a pickle to dataframe\n",
    "# acs_new=pd.read_pickle('acs.pickle')\n",
    "# qwi_new=pd.read_pickle('qwi.pickle')"
   ]
  },
  {
   "cell_type": "code",
   "execution_count": null,
   "metadata": {},
   "outputs": [],
   "source": []
  },
  {
   "cell_type": "code",
   "execution_count": null,
   "metadata": {},
   "outputs": [],
   "source": []
  },
  {
   "cell_type": "code",
   "execution_count": null,
   "metadata": {},
   "outputs": [],
   "source": [
    "#proportional split\n"
   ]
  }
 ],
 "metadata": {
  "kernelspec": {
   "display_name": "Python 3",
   "language": "python",
   "name": "python3"
  },
  "language_info": {
   "codemirror_mode": {
    "name": "ipython",
    "version": 3
   },
   "file_extension": ".py",
   "mimetype": "text/x-python",
   "name": "python",
   "nbconvert_exporter": "python",
   "pygments_lexer": "ipython3",
   "version": "3.7.4"
  }
 },
 "nbformat": 4,
 "nbformat_minor": 2
}
