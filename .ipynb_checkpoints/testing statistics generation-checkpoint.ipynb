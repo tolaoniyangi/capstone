{
 "cells": [
  {
   "cell_type": "code",
   "execution_count": 1,
   "metadata": {},
   "outputs": [],
   "source": [
    "import geopandas as gpd\n",
    "import pandas as pd\n",
    "import numpy as np\n",
    "from shapely.geometry import Point, Polygon\n",
    "import matplotlib.pyplot as plt\n",
    "from fiona.crs import from_epsg"
   ]
  },
  {
   "cell_type": "code",
   "execution_count": 2,
   "metadata": {},
   "outputs": [],
   "source": [
    "import urllib, json, requests \n",
    "import geojson"
   ]
  },
  {
   "cell_type": "code",
   "execution_count": 3,
   "metadata": {},
   "outputs": [],
   "source": [
    "from ipyleaflet import Map, GeoData, GeoJSON, basemaps, basemap_to_tiles, Icon, Circle, Marker, LayerGroup, WidgetControl\n",
    "import ipywidgets as widgets\n",
    "from ipywidgets import Button \n",
    "from IPython.display import display, clear_output"
   ]
  },
  {
   "cell_type": "code",
   "execution_count": 4,
   "metadata": {},
   "outputs": [],
   "source": [
    "#need this to stop numpy from returning truncated arrays \n",
    "import sys\n",
    "np.set_printoptions(threshold=sys.maxsize)"
   ]
  },
  {
   "cell_type": "code",
   "execution_count": 5,
   "metadata": {},
   "outputs": [
    {
     "name": "stdout",
     "output_type": "stream",
     "text": [
      "Received 6 entries, 6 total\n"
     ]
    },
    {
     "data": {
      "text/html": [
       "<div>\n",
       "<style scoped>\n",
       "    .dataframe tbody tr th:only-of-type {\n",
       "        vertical-align: middle;\n",
       "    }\n",
       "\n",
       "    .dataframe tbody tr th {\n",
       "        vertical-align: top;\n",
       "    }\n",
       "\n",
       "    .dataframe thead th {\n",
       "        text-align: right;\n",
       "    }\n",
       "</style>\n",
       "<table border=\"1\" class=\"dataframe\">\n",
       "  <thead>\n",
       "    <tr style=\"text-align: right;\">\n",
       "      <th></th>\n",
       "      <th>geometry</th>\n",
       "      <th>GEOID</th>\n",
       "      <th>STATE</th>\n",
       "      <th>COUNTY</th>\n",
       "      <th>TRACT</th>\n",
       "      <th>NAME</th>\n",
       "      <th>OBJECTID</th>\n",
       "    </tr>\n",
       "  </thead>\n",
       "  <tbody>\n",
       "    <tr>\n",
       "      <td>0</td>\n",
       "      <td>POLYGON ((-74.00559 40.71217, -74.00544 40.712...</td>\n",
       "      <td>36061002900</td>\n",
       "      <td>36</td>\n",
       "      <td>061</td>\n",
       "      <td>002900</td>\n",
       "      <td>Census Tract 29</td>\n",
       "      <td>4534</td>\n",
       "    </tr>\n",
       "    <tr>\n",
       "      <td>1</td>\n",
       "      <td>POLYGON ((-73.98986 40.72053, -73.98962 40.720...</td>\n",
       "      <td>36061003001</td>\n",
       "      <td>36</td>\n",
       "      <td>061</td>\n",
       "      <td>003001</td>\n",
       "      <td>Census Tract 30.01</td>\n",
       "      <td>10843</td>\n",
       "    </tr>\n",
       "    <tr>\n",
       "      <td>2</td>\n",
       "      <td>POLYGON ((-73.99326 40.72235, -73.99352 40.721...</td>\n",
       "      <td>36061003601</td>\n",
       "      <td>36</td>\n",
       "      <td>061</td>\n",
       "      <td>003601</td>\n",
       "      <td>Census Tract 36.01</td>\n",
       "      <td>10846</td>\n",
       "    </tr>\n",
       "    <tr>\n",
       "      <td>3</td>\n",
       "      <td>POLYGON ((-73.99881 40.72302, -73.99798 40.722...</td>\n",
       "      <td>36061004300</td>\n",
       "      <td>36</td>\n",
       "      <td>061</td>\n",
       "      <td>004300</td>\n",
       "      <td>Census Tract 43</td>\n",
       "      <td>10850</td>\n",
       "    </tr>\n",
       "    <tr>\n",
       "      <td>4</td>\n",
       "      <td>POLYGON ((-73.99744 40.71407, -73.99750 40.714...</td>\n",
       "      <td>36061000800</td>\n",
       "      <td>36</td>\n",
       "      <td>061</td>\n",
       "      <td>000800</td>\n",
       "      <td>Census Tract 8</td>\n",
       "      <td>19841</td>\n",
       "    </tr>\n",
       "    <tr>\n",
       "      <td>5</td>\n",
       "      <td>POLYGON ((-73.99256 40.71439, -73.99247 40.713...</td>\n",
       "      <td>36061000600</td>\n",
       "      <td>36</td>\n",
       "      <td>061</td>\n",
       "      <td>000600</td>\n",
       "      <td>Census Tract 6</td>\n",
       "      <td>29413</td>\n",
       "    </tr>\n",
       "  </tbody>\n",
       "</table>\n",
       "</div>"
      ],
      "text/plain": [
       "                                            geometry        GEOID STATE  \\\n",
       "0  POLYGON ((-74.00559 40.71217, -74.00544 40.712...  36061002900    36   \n",
       "1  POLYGON ((-73.98986 40.72053, -73.98962 40.720...  36061003001    36   \n",
       "2  POLYGON ((-73.99326 40.72235, -73.99352 40.721...  36061003601    36   \n",
       "3  POLYGON ((-73.99881 40.72302, -73.99798 40.722...  36061004300    36   \n",
       "4  POLYGON ((-73.99744 40.71407, -73.99750 40.714...  36061000800    36   \n",
       "5  POLYGON ((-73.99256 40.71439, -73.99247 40.713...  36061000600    36   \n",
       "\n",
       "  COUNTY   TRACT                NAME  OBJECTID  \n",
       "0    061  002900     Census Tract 29      4534  \n",
       "1    061  003001  Census Tract 30.01     10843  \n",
       "2    061  003601  Census Tract 36.01     10846  \n",
       "3    061  004300     Census Tract 43     10850  \n",
       "4    061  000800      Census Tract 8     19841  \n",
       "5    061  000600      Census Tract 6     29413  "
      ]
     },
     "execution_count": 5,
     "metadata": {},
     "output_type": "execute_result"
    }
   ],
   "source": [
    "def import_censustracts():\n",
    "\n",
    "    # census tracts link\n",
    "    endpoint = 'https://tigerweb.geo.census.gov/arcgis/rest/services/TIGERweb/Tracts_Blocks/MapServer/4/query'\n",
    "    s = requests.session()\n",
    "    s.params = {\n",
    "        'where': 'GEOID=36061003001 OR GEOID=36061002900 OR GEOID=36061003601 OR GEOID=36061004300 OR GEOID=36061000800 OR GEOID=36061000600',\n",
    "        'inSR': 4326,\n",
    "        'spatialRel': 'esriSpatialRelIntersects',\n",
    "        'outFields': 'GEOID,STATE,COUNTY,TRACT,NAME,STGEOMETRY,OBJECTID',\n",
    "        'returnGeometry': True,\n",
    "        'f': 'geojson',        \n",
    "    }\n",
    "    start = 0\n",
    "    done = False\n",
    "    features = []\n",
    "    crs = None\n",
    "    while not done:\n",
    "        r = s.get(endpoint, params={\n",
    "            'resultOffset': start,\n",
    "            'resultRecordCount': 32,\n",
    "        })\n",
    "        censusgeo = geojson.loads(r.text)\n",
    "        newfeats = censusgeo.__geo_interface__['features']\n",
    "        if newfeats:\n",
    "            features.extend(newfeats)\n",
    "            crs=censusgeo.__geo_interface__['crs']\n",
    "            start += len(newfeats)\n",
    "            print(\"Received\", len(newfeats), \"entries,\", start, \"total\")\n",
    "        else:\n",
    "            done = True\n",
    "    \n",
    "    global tracts\n",
    "    tracts = gpd.GeoDataFrame.from_features(features, crs=crs)\n",
    "    return tracts\n",
    "\n",
    "import_censustracts()"
   ]
  },
  {
   "cell_type": "code",
   "execution_count": 6,
   "metadata": {},
   "outputs": [
    {
     "data": {
      "text/html": [
       "<div>\n",
       "<style scoped>\n",
       "    .dataframe tbody tr th:only-of-type {\n",
       "        vertical-align: middle;\n",
       "    }\n",
       "\n",
       "    .dataframe tbody tr th {\n",
       "        vertical-align: top;\n",
       "    }\n",
       "\n",
       "    .dataframe thead th {\n",
       "        text-align: right;\n",
       "    }\n",
       "</style>\n",
       "<table border=\"1\" class=\"dataframe\">\n",
       "  <thead>\n",
       "    <tr style=\"text-align: right;\">\n",
       "      <th></th>\n",
       "      <th>geometry</th>\n",
       "      <th>GEOID</th>\n",
       "      <th>STATE</th>\n",
       "      <th>COUNTY</th>\n",
       "      <th>TRACT</th>\n",
       "      <th>NAME</th>\n",
       "      <th>OBJECTID</th>\n",
       "    </tr>\n",
       "  </thead>\n",
       "  <tbody>\n",
       "    <tr>\n",
       "      <td>0</td>\n",
       "      <td>POLYGON ((-74.00559 40.71217, -74.00544 40.712...</td>\n",
       "      <td>36061002900</td>\n",
       "      <td>36</td>\n",
       "      <td>061</td>\n",
       "      <td>002900</td>\n",
       "      <td>Census Tract 29</td>\n",
       "      <td>4534</td>\n",
       "    </tr>\n",
       "    <tr>\n",
       "      <td>1</td>\n",
       "      <td>POLYGON ((-73.98986 40.72053, -73.98962 40.720...</td>\n",
       "      <td>36061003001</td>\n",
       "      <td>36</td>\n",
       "      <td>061</td>\n",
       "      <td>003001</td>\n",
       "      <td>Census Tract 30.01</td>\n",
       "      <td>10843</td>\n",
       "    </tr>\n",
       "    <tr>\n",
       "      <td>2</td>\n",
       "      <td>POLYGON ((-73.99326 40.72235, -73.99352 40.721...</td>\n",
       "      <td>36061003601</td>\n",
       "      <td>36</td>\n",
       "      <td>061</td>\n",
       "      <td>003601</td>\n",
       "      <td>Census Tract 36.01</td>\n",
       "      <td>10846</td>\n",
       "    </tr>\n",
       "    <tr>\n",
       "      <td>3</td>\n",
       "      <td>POLYGON ((-73.99881 40.72302, -73.99798 40.722...</td>\n",
       "      <td>36061004300</td>\n",
       "      <td>36</td>\n",
       "      <td>061</td>\n",
       "      <td>004300</td>\n",
       "      <td>Census Tract 43</td>\n",
       "      <td>10850</td>\n",
       "    </tr>\n",
       "    <tr>\n",
       "      <td>4</td>\n",
       "      <td>POLYGON ((-73.99744 40.71407, -73.99750 40.714...</td>\n",
       "      <td>36061000800</td>\n",
       "      <td>36</td>\n",
       "      <td>061</td>\n",
       "      <td>000800</td>\n",
       "      <td>Census Tract 8</td>\n",
       "      <td>19841</td>\n",
       "    </tr>\n",
       "    <tr>\n",
       "      <td>5</td>\n",
       "      <td>POLYGON ((-73.99256 40.71439, -73.99247 40.713...</td>\n",
       "      <td>36061000600</td>\n",
       "      <td>36</td>\n",
       "      <td>061</td>\n",
       "      <td>000600</td>\n",
       "      <td>Census Tract 6</td>\n",
       "      <td>29413</td>\n",
       "    </tr>\n",
       "  </tbody>\n",
       "</table>\n",
       "</div>"
      ],
      "text/plain": [
       "                                            geometry        GEOID STATE  \\\n",
       "0  POLYGON ((-74.00559 40.71217, -74.00544 40.712...  36061002900    36   \n",
       "1  POLYGON ((-73.98986 40.72053, -73.98962 40.720...  36061003001    36   \n",
       "2  POLYGON ((-73.99326 40.72235, -73.99352 40.721...  36061003601    36   \n",
       "3  POLYGON ((-73.99881 40.72302, -73.99798 40.722...  36061004300    36   \n",
       "4  POLYGON ((-73.99744 40.71407, -73.99750 40.714...  36061000800    36   \n",
       "5  POLYGON ((-73.99256 40.71439, -73.99247 40.713...  36061000600    36   \n",
       "\n",
       "  COUNTY   TRACT                NAME  OBJECTID  \n",
       "0    061  002900     Census Tract 29      4534  \n",
       "1    061  003001  Census Tract 30.01     10843  \n",
       "2    061  003601  Census Tract 36.01     10846  \n",
       "3    061  004300     Census Tract 43     10850  \n",
       "4    061  000800      Census Tract 8     19841  \n",
       "5    061  000600      Census Tract 6     29413  "
      ]
     },
     "execution_count": 6,
     "metadata": {},
     "output_type": "execute_result"
    }
   ],
   "source": [
    "tracts"
   ]
  },
  {
   "cell_type": "code",
   "execution_count": 7,
   "metadata": {},
   "outputs": [],
   "source": [
    "def download_acs():  \n",
    "    state = tracts[\"STATE\"].unique().tolist()\n",
    "    state = ', '.join(map(str, state)).replace(\" \", \"\")\n",
    "\n",
    "    tract = tracts[\"TRACT\"].unique().tolist()\n",
    "    tract = ', '.join(map(str, tract)).replace(\" \", \"\") \n",
    "\n",
    "    county = tracts[\"COUNTY\"].unique().tolist()\n",
    "    county = ', '.join(map(str, county)).replace(\" \", \"\") \n",
    "\n",
    "    api_key = '9330dc4bf086a84f19fb412bb15f232507301de6'\n",
    "    acs_url = f'https://api.census.gov/data/2018/acs/acs5/subject/'\n",
    "    \n",
    "    global acs_variables\n",
    "    acs_variables = 'S1603_C01_001E,S1603_C01_012E,S1603_C01_013E,S1603_C01_014E,S1603_C01_015E,S1603_C01_016E,S1603_C02_001E,S1603_C02_002E,S1603_C02_003E,S1603_C02_004E,S1603_C04_001E,S1603_C04_002E,S1603_C04_003E,S1603_C04_004E'\n",
    "    \n",
    "    get_acs = f'{acs_url}?&get={acs_variables}&for=tract:{tract}&in=state:{state}%20county:{county}&key={api_key}'\n",
    "\n",
    "    data_acs=requests.get(get_acs).json()\n",
    "    \n",
    "    global acs\n",
    "    acs=pd.DataFrame(data_acs[1:], columns=data_acs[0])\n",
    "\n",
    "download_acs()"
   ]
  },
  {
   "cell_type": "code",
   "execution_count": 8,
   "metadata": {},
   "outputs": [
    {
     "data": {
      "text/html": [
       "<div>\n",
       "<style scoped>\n",
       "    .dataframe tbody tr th:only-of-type {\n",
       "        vertical-align: middle;\n",
       "    }\n",
       "\n",
       "    .dataframe tbody tr th {\n",
       "        vertical-align: top;\n",
       "    }\n",
       "\n",
       "    .dataframe thead th {\n",
       "        text-align: right;\n",
       "    }\n",
       "</style>\n",
       "<table border=\"1\" class=\"dataframe\">\n",
       "  <thead>\n",
       "    <tr style=\"text-align: right;\">\n",
       "      <th></th>\n",
       "      <th>S1603_C01_001E</th>\n",
       "      <th>S1603_C01_012E</th>\n",
       "      <th>S1603_C01_013E</th>\n",
       "      <th>S1603_C01_014E</th>\n",
       "      <th>S1603_C01_015E</th>\n",
       "      <th>S1603_C01_016E</th>\n",
       "      <th>S1603_C02_001E</th>\n",
       "      <th>S1603_C02_002E</th>\n",
       "      <th>S1603_C02_003E</th>\n",
       "      <th>S1603_C02_004E</th>\n",
       "      <th>S1603_C04_001E</th>\n",
       "      <th>S1603_C04_002E</th>\n",
       "      <th>S1603_C04_003E</th>\n",
       "      <th>S1603_C04_004E</th>\n",
       "      <th>state</th>\n",
       "      <th>county</th>\n",
       "      <th>tract</th>\n",
       "    </tr>\n",
       "  </thead>\n",
       "  <tbody>\n",
       "    <tr>\n",
       "      <td>0</td>\n",
       "      <td>3129</td>\n",
       "      <td>2511</td>\n",
       "      <td>743</td>\n",
       "      <td>516</td>\n",
       "      <td>282</td>\n",
       "      <td>970</td>\n",
       "      <td>1206</td>\n",
       "      <td>148</td>\n",
       "      <td>955</td>\n",
       "      <td>103</td>\n",
       "      <td>1923</td>\n",
       "      <td>196</td>\n",
       "      <td>1318</td>\n",
       "      <td>409</td>\n",
       "      <td>36</td>\n",
       "      <td>061</td>\n",
       "      <td>003601</td>\n",
       "    </tr>\n",
       "    <tr>\n",
       "      <td>1</td>\n",
       "      <td>9201</td>\n",
       "      <td>7794</td>\n",
       "      <td>4318</td>\n",
       "      <td>1404</td>\n",
       "      <td>893</td>\n",
       "      <td>1179</td>\n",
       "      <td>2155</td>\n",
       "      <td>347</td>\n",
       "      <td>1379</td>\n",
       "      <td>429</td>\n",
       "      <td>7046</td>\n",
       "      <td>477</td>\n",
       "      <td>4285</td>\n",
       "      <td>2284</td>\n",
       "      <td>36</td>\n",
       "      <td>061</td>\n",
       "      <td>000600</td>\n",
       "    </tr>\n",
       "    <tr>\n",
       "      <td>2</td>\n",
       "      <td>8822</td>\n",
       "      <td>7372</td>\n",
       "      <td>4106</td>\n",
       "      <td>1009</td>\n",
       "      <td>761</td>\n",
       "      <td>1496</td>\n",
       "      <td>1475</td>\n",
       "      <td>121</td>\n",
       "      <td>990</td>\n",
       "      <td>364</td>\n",
       "      <td>7347</td>\n",
       "      <td>859</td>\n",
       "      <td>4323</td>\n",
       "      <td>2165</td>\n",
       "      <td>36</td>\n",
       "      <td>061</td>\n",
       "      <td>000800</td>\n",
       "    </tr>\n",
       "    <tr>\n",
       "      <td>3</td>\n",
       "      <td>6084</td>\n",
       "      <td>5316</td>\n",
       "      <td>2480</td>\n",
       "      <td>1009</td>\n",
       "      <td>496</td>\n",
       "      <td>1331</td>\n",
       "      <td>1738</td>\n",
       "      <td>150</td>\n",
       "      <td>1375</td>\n",
       "      <td>213</td>\n",
       "      <td>4346</td>\n",
       "      <td>327</td>\n",
       "      <td>2699</td>\n",
       "      <td>1320</td>\n",
       "      <td>36</td>\n",
       "      <td>061</td>\n",
       "      <td>002900</td>\n",
       "    </tr>\n",
       "    <tr>\n",
       "      <td>4</td>\n",
       "      <td>3781</td>\n",
       "      <td>3231</td>\n",
       "      <td>302</td>\n",
       "      <td>276</td>\n",
       "      <td>153</td>\n",
       "      <td>2500</td>\n",
       "      <td>2607</td>\n",
       "      <td>53</td>\n",
       "      <td>2182</td>\n",
       "      <td>372</td>\n",
       "      <td>1174</td>\n",
       "      <td>55</td>\n",
       "      <td>917</td>\n",
       "      <td>202</td>\n",
       "      <td>36</td>\n",
       "      <td>061</td>\n",
       "      <td>004300</td>\n",
       "    </tr>\n",
       "    <tr>\n",
       "      <td>5</td>\n",
       "      <td>3820</td>\n",
       "      <td>3216</td>\n",
       "      <td>242</td>\n",
       "      <td>230</td>\n",
       "      <td>351</td>\n",
       "      <td>2393</td>\n",
       "      <td>2645</td>\n",
       "      <td>33</td>\n",
       "      <td>2507</td>\n",
       "      <td>105</td>\n",
       "      <td>1175</td>\n",
       "      <td>69</td>\n",
       "      <td>981</td>\n",
       "      <td>125</td>\n",
       "      <td>36</td>\n",
       "      <td>061</td>\n",
       "      <td>003001</td>\n",
       "    </tr>\n",
       "  </tbody>\n",
       "</table>\n",
       "</div>"
      ],
      "text/plain": [
       "  S1603_C01_001E S1603_C01_012E S1603_C01_013E S1603_C01_014E S1603_C01_015E  \\\n",
       "0           3129           2511            743            516            282   \n",
       "1           9201           7794           4318           1404            893   \n",
       "2           8822           7372           4106           1009            761   \n",
       "3           6084           5316           2480           1009            496   \n",
       "4           3781           3231            302            276            153   \n",
       "5           3820           3216            242            230            351   \n",
       "\n",
       "  S1603_C01_016E S1603_C02_001E S1603_C02_002E S1603_C02_003E S1603_C02_004E  \\\n",
       "0            970           1206            148            955            103   \n",
       "1           1179           2155            347           1379            429   \n",
       "2           1496           1475            121            990            364   \n",
       "3           1331           1738            150           1375            213   \n",
       "4           2500           2607             53           2182            372   \n",
       "5           2393           2645             33           2507            105   \n",
       "\n",
       "  S1603_C04_001E S1603_C04_002E S1603_C04_003E S1603_C04_004E state county  \\\n",
       "0           1923            196           1318            409    36    061   \n",
       "1           7046            477           4285           2284    36    061   \n",
       "2           7347            859           4323           2165    36    061   \n",
       "3           4346            327           2699           1320    36    061   \n",
       "4           1174             55            917            202    36    061   \n",
       "5           1175             69            981            125    36    061   \n",
       "\n",
       "    tract  \n",
       "0  003601  \n",
       "1  000600  \n",
       "2  000800  \n",
       "3  002900  \n",
       "4  004300  \n",
       "5  003001  "
      ]
     },
     "execution_count": 8,
     "metadata": {},
     "output_type": "execute_result"
    }
   ],
   "source": [
    "acs"
   ]
  },
  {
   "cell_type": "code",
   "execution_count": 9,
   "metadata": {},
   "outputs": [
    {
     "data": {
      "text/plain": [
       "<matplotlib.axes._subplots.AxesSubplot at 0x17c178260c8>"
      ]
     },
     "execution_count": 9,
     "metadata": {},
     "output_type": "execute_result"
    },
    {
     "data": {
      "image/png": "[encoded data removed]",
      "text/plain": [
       "<Figure size 432x288 with 1 Axes>"
      ]
     },
     "metadata": {
      "needs_background": "light"
     },
     "output_type": "display_data"
    }
   ],
   "source": [
    "tracts[\"area\"]=tracts.area\n",
    "tracts_clipped = pd.merge(tracts, acs, left_on='TRACT', right_on='tract', how='left')\n",
    "\n",
    "tracts_clipped.plot()"
   ]
  },
  {
   "cell_type": "code",
   "execution_count": 11,
   "metadata": {},
   "outputs": [
    {
     "data": {
      "text/html": [
       "<div>\n",
       "<style scoped>\n",
       "    .dataframe tbody tr th:only-of-type {\n",
       "        vertical-align: middle;\n",
       "    }\n",
       "\n",
       "    .dataframe tbody tr th {\n",
       "        vertical-align: top;\n",
       "    }\n",
       "\n",
       "    .dataframe thead th {\n",
       "        text-align: right;\n",
       "    }\n",
       "</style>\n",
       "<table border=\"1\" class=\"dataframe\">\n",
       "  <thead>\n",
       "    <tr style=\"text-align: right;\">\n",
       "      <th></th>\n",
       "      <th>variables</th>\n",
       "      <th>sum_in_area</th>\n",
       "    </tr>\n",
       "  </thead>\n",
       "  <tbody>\n",
       "    <tr>\n",
       "      <td>0</td>\n",
       "      <td>S1603_C01_001E</td>\n",
       "      <td>34837</td>\n",
       "    </tr>\n",
       "    <tr>\n",
       "      <td>1</td>\n",
       "      <td>S1603_C01_012E</td>\n",
       "      <td>29440</td>\n",
       "    </tr>\n",
       "    <tr>\n",
       "      <td>2</td>\n",
       "      <td>S1603_C01_013E</td>\n",
       "      <td>12191</td>\n",
       "    </tr>\n",
       "    <tr>\n",
       "      <td>3</td>\n",
       "      <td>S1603_C01_014E</td>\n",
       "      <td>4444</td>\n",
       "    </tr>\n",
       "    <tr>\n",
       "      <td>4</td>\n",
       "      <td>S1603_C01_015E</td>\n",
       "      <td>2936</td>\n",
       "    </tr>\n",
       "    <tr>\n",
       "      <td>5</td>\n",
       "      <td>S1603_C01_016E</td>\n",
       "      <td>9869</td>\n",
       "    </tr>\n",
       "    <tr>\n",
       "      <td>6</td>\n",
       "      <td>S1603_C02_001E</td>\n",
       "      <td>11826</td>\n",
       "    </tr>\n",
       "    <tr>\n",
       "      <td>7</td>\n",
       "      <td>S1603_C02_002E</td>\n",
       "      <td>852</td>\n",
       "    </tr>\n",
       "    <tr>\n",
       "      <td>8</td>\n",
       "      <td>S1603_C02_003E</td>\n",
       "      <td>9388</td>\n",
       "    </tr>\n",
       "    <tr>\n",
       "      <td>9</td>\n",
       "      <td>S1603_C02_004E</td>\n",
       "      <td>1586</td>\n",
       "    </tr>\n",
       "    <tr>\n",
       "      <td>10</td>\n",
       "      <td>S1603_C04_001E</td>\n",
       "      <td>23011</td>\n",
       "    </tr>\n",
       "    <tr>\n",
       "      <td>11</td>\n",
       "      <td>S1603_C04_002E</td>\n",
       "      <td>1983</td>\n",
       "    </tr>\n",
       "    <tr>\n",
       "      <td>12</td>\n",
       "      <td>S1603_C04_003E</td>\n",
       "      <td>14523</td>\n",
       "    </tr>\n",
       "    <tr>\n",
       "      <td>13</td>\n",
       "      <td>S1603_C04_004E</td>\n",
       "      <td>6505</td>\n",
       "    </tr>\n",
       "  </tbody>\n",
       "</table>\n",
       "</div>"
      ],
      "text/plain": [
       "         variables  sum_in_area\n",
       "0   S1603_C01_001E        34837\n",
       "1   S1603_C01_012E        29440\n",
       "2   S1603_C01_013E        12191\n",
       "3   S1603_C01_014E         4444\n",
       "4   S1603_C01_015E         2936\n",
       "5   S1603_C01_016E         9869\n",
       "6   S1603_C02_001E        11826\n",
       "7   S1603_C02_002E          852\n",
       "8   S1603_C02_003E         9388\n",
       "9   S1603_C02_004E         1586\n",
       "10  S1603_C04_001E        23011\n",
       "11  S1603_C04_002E         1983\n",
       "12  S1603_C04_003E        14523\n",
       "13  S1603_C04_004E         6505"
      ]
     },
     "execution_count": 11,
     "metadata": {},
     "output_type": "execute_result"
    }
   ],
   "source": [
    "acs_site=tracts_clipped.copy()\n",
    "\n",
    "#SUMS for all the fields, total also there\n",
    "cols = acs_variables.split(\",\")\n",
    "\n",
    "acs_site[cols] = acs_site[cols].apply(pd.to_numeric, errors='coerce', axis=1)\n",
    "\n",
    "acs_site_sum = pd.DataFrame(acs_site[cols].sum())\n",
    "acs_site_sum.reset_index(inplace=True)\n",
    "acs_site_sum.columns = ['variables', 'sum_in_area']\n",
    "\n",
    "acs_site_sum"
   ]
  },
  {
   "cell_type": "code",
   "execution_count": 10,
   "metadata": {},
   "outputs": [],
   "source": [
    "# STEPS\n",
    "# - User selects person's age and gender\n",
    "# so table looks like [young male, young female, child male, child female, mid twenties male... \n",
    "# \t- by using if statements -> \n",
    "# \t\tif gender == female AND age =+ 25 or age = 29 etc \n",
    "# \t\t\treturn category = young female \n",
    "#and then user selects the percentile and we get the values from the tables i;ve created"
   ]
  },
  {
   "cell_type": "code",
   "execution_count": 260,
   "metadata": {},
   "outputs": [
    {
     "data": {
      "application/vnd.jupyter.widget-view+json": {
       "model_id": "802f7bd6e5814c90aea36aaf21d62df9",
       "version_major": 2,
       "version_minor": 0
      },
      "text/plain": [
       "Image(value=b'\\x89PNG\\r\\n\\x1a\\n\\x00\\x00\\x00\\rIHDR\\x00\\x00\\x02V\\x00\\x00\\x02V\\x08\\x06\\x00\\x00\\x00\\x9a\\xa5\\xc9\\x1…"
      ]
     },
     "metadata": {},
     "output_type": "display_data"
    }
   ],
   "source": [
    "file = open(\"icon.png\", \"rb\")\n",
    "image = file.read()\n",
    "widgets.Image(\n",
    "    value=image,\n",
    "    format='png',\n",
    "    width=300,\n",
    "    height=400,\n",
    ")\n",
    "\n",
    "\n",
    "# widgets.FileUpload(\n",
    "#     accept='',  # Accepted file extension e.g. '.txt', '.pdf', 'image/*', 'image/*,.pdf'\n",
    "#     multiple=False  # True to accept multiple files upload else False\n",
    "# )\n",
    "\n",
    "# widgets.Image(value=uploaded_file[\"content\"].tobytes())\n"
   ]
  },
  {
   "cell_type": "code",
   "execution_count": 315,
   "metadata": {},
   "outputs": [
    {
     "data": {
      "application/vnd.jupyter.widget-view+json": {
       "model_id": "6dd2954a8fa040629d6b0f662dd0aae3",
       "version_major": 2,
       "version_minor": 0
      },
      "text/plain": [
       "interactive(children=(IntSlider(value=100, description='a', max=300, min=-100), Output()), _dom_classes=('widg…"
      ]
     },
     "metadata": {},
     "output_type": "display_data"
    }
   ],
   "source": [
    "from IPython.display import display\n",
    "from ipywidgets import interact, interactive, fixed, interact_manual\n",
    "\n",
    "def f(a):\n",
    "#     display(a)\n",
    "    return a/100\n",
    "\n",
    "w = interactive(f, a=100, x=widgets.IntSlider(value=10, description='Percentile:', max=100, min=0))\n",
    "\n",
    "display(w)\n"
   ]
  },
  {
   "cell_type": "code",
   "execution_count": 306,
   "metadata": {},
   "outputs": [
    {
     "data": {
      "text/plain": [
       "1.0"
      ]
     },
     "execution_count": 306,
     "metadata": {},
     "output_type": "execute_result"
    }
   ],
   "source": [
    "# w.kwargs\n",
    "percentile_input = w.result\n",
    "percentile_input"
   ]
  },
  {
   "cell_type": "code",
   "execution_count": 317,
   "metadata": {},
   "outputs": [
    {
     "data": {
      "application/vnd.jupyter.widget-view+json": {
       "model_id": "284a360ddb05403bb385dea45bb76591",
       "version_major": 2,
       "version_minor": 0
      },
      "text/plain": [
       "interactive(children=(IntSlider(value=50, description='Percentile:', step=10), Output()), _dom_classes=('widge…"
      ]
     },
     "metadata": {},
     "output_type": "display_data"
    },
    {
     "data": {
      "text/plain": [
       "<function __main__.f(x)>"
      ]
     },
     "metadata": {},
     "output_type": "display_data"
    }
   ],
   "source": [
    "from ipywidgets import interact, interactive, fixed, interact_manual\n",
    "\n",
    "def f(x):\n",
    "    return x/100\n",
    "#     percentile_input = x/100\n",
    "    \n",
    "w=interact(f, x=widgets.IntSlider(min=0, max=100, step=10, value=50, description='Percentile:',))\n",
    "\n",
    "display(w)"
   ]
  },
  {
   "cell_type": "code",
   "execution_count": null,
   "metadata": {},
   "outputs": [],
   "source": [
    "# widgets.Button(\n",
    "#     description='Click me',\n",
    "#     disabled=False,\n",
    "#     button_style='', # 'success', 'info', 'warning', 'danger' or ''\n",
    "#     tooltip='Click me',\n",
    "#     icon='check' # (FontAwesome names without the `fa-` prefix)\n",
    "# )"
   ]
  },
  {
   "cell_type": "code",
   "execution_count": 254,
   "metadata": {},
   "outputs": [
    {
     "data": {
      "application/vnd.jupyter.widget-view+json": {
       "model_id": "ccc4e705bb4c4a98be3d60b8ca6e1d43",
       "version_major": 2,
       "version_minor": 0
      },
      "text/plain": [
       "Button(description='5 Years And Over', style=ButtonStyle())"
      ]
     },
     "metadata": {},
     "output_type": "display_data"
    },
    {
     "data": {
      "application/vnd.jupyter.widget-view+json": {
       "model_id": "66e2177f346f429498c1c08e6d8221ef",
       "version_major": 2,
       "version_minor": 0
      },
      "text/plain": [
       "Button(description='5 to 17 Years', style=ButtonStyle())"
      ]
     },
     "metadata": {},
     "output_type": "display_data"
    },
    {
     "data": {
      "application/vnd.jupyter.widget-view+json": {
       "model_id": "11236a210b24482b8d2afde918973ebe",
       "version_major": 2,
       "version_minor": 0
      },
      "text/plain": [
       "Button(description='18 to 25 Years', style=ButtonStyle())"
      ]
     },
     "metadata": {},
     "output_type": "display_data"
    },
    {
     "data": {
      "application/vnd.jupyter.widget-view+json": {
       "model_id": "93ca6619c38347d7bc047857e600a613",
       "version_major": 2,
       "version_minor": 0
      },
      "text/plain": [
       "Button(description='25 to 64 Years', style=ButtonStyle())"
      ]
     },
     "metadata": {},
     "output_type": "display_data"
    },
    {
     "data": {
      "application/vnd.jupyter.widget-view+json": {
       "model_id": "b30c631e12404a3782695ceb90873728",
       "version_major": 2,
       "version_minor": 0
      },
      "text/plain": [
       "Button(description='65 Years And Over', style=ButtonStyle())"
      ]
     },
     "metadata": {},
     "output_type": "display_data"
    },
    {
     "data": {
      "application/vnd.jupyter.widget-view+json": {
       "model_id": "c30f6f6f63cb4365904f14b0dc55ac12",
       "version_major": 2,
       "version_minor": 0
      },
      "text/plain": [
       "Output()"
      ]
     },
     "metadata": {},
     "output_type": "display_data"
    }
   ],
   "source": [
    "#button to return category \n",
    "button_age_01 = Button(description=\"5 Years And Over\")\n",
    "button_age_02 = Button(description=\"5 to 17 Years\")\n",
    "button_age_03 = Button(description=\"18 to 25 Years\")\n",
    "button_age_04 = Button(description=\"25 to 64 Years\")\n",
    "button_age_05 = Button(description=\"65 Years And Over\")\n",
    "\n",
    "button_male = Button(description=\"Male\")\n",
    "button_female = Button(description=\"Female\")\n",
    "\n",
    "output = widgets.Output()\n",
    "\n",
    "display(button_age_01, button_age_02, button_age_03, button_age_04, button_age_05, output)\n",
    "\n",
    "def on_button_clicked(button_age_01):\n",
    "    output.clear_output()\n",
    "    \n",
    "    user_selected_age=\"5 Years and Over\"\n",
    "#     user_selected_gender=\"Language Spoken\"\n",
    "    \n",
    "#     global state, county\n",
    "#     state, county = find_location()\n",
    "    \n",
    "    with output:\n",
    "        print(\"Button clicked.\")\n",
    "\n",
    "button_age_01.on_click(on_button_clicked)"
   ]
  },
  {
   "cell_type": "code",
   "execution_count": 26,
   "metadata": {},
   "outputs": [
    {
     "data": {
      "text/html": [
       "<div>\n",
       "<style scoped>\n",
       "    .dataframe tbody tr th:only-of-type {\n",
       "        vertical-align: middle;\n",
       "    }\n",
       "\n",
       "    .dataframe tbody tr th {\n",
       "        vertical-align: top;\n",
       "    }\n",
       "\n",
       "    .dataframe thead th {\n",
       "        text-align: right;\n",
       "    }\n",
       "</style>\n",
       "<table border=\"1\" class=\"dataframe\">\n",
       "  <thead>\n",
       "    <tr style=\"text-align: right;\">\n",
       "      <th></th>\n",
       "      <th>age_group</th>\n",
       "      <th>variable_group</th>\n",
       "      <th>variable</th>\n",
       "      <th>variable_name</th>\n",
       "    </tr>\n",
       "  </thead>\n",
       "  <tbody>\n",
       "    <tr>\n",
       "      <td>0</td>\n",
       "      <td>5 Years And Over</td>\n",
       "      <td>NaN</td>\n",
       "      <td>S1603_C01_001E</td>\n",
       "      <td>Total Population</td>\n",
       "    </tr>\n",
       "    <tr>\n",
       "      <td>1</td>\n",
       "      <td>5 Years And Over</td>\n",
       "      <td>Language Spoken At Home</td>\n",
       "      <td>S1603_C02_001E</td>\n",
       "      <td>Speak Only English at Home</td>\n",
       "    </tr>\n",
       "    <tr>\n",
       "      <td>2</td>\n",
       "      <td>5 Years And Over</td>\n",
       "      <td>Language Spoken At Home</td>\n",
       "      <td>S1603_C04_001E</td>\n",
       "      <td>Speak a Language other than English at Home</td>\n",
       "    </tr>\n",
       "    <tr>\n",
       "      <td>3</td>\n",
       "      <td>5 to 17 Years</td>\n",
       "      <td>Language Spoken At Home</td>\n",
       "      <td>S1603_C02_002E</td>\n",
       "      <td>Speak Only English at Home</td>\n",
       "    </tr>\n",
       "    <tr>\n",
       "      <td>4</td>\n",
       "      <td>5 to 17 Years</td>\n",
       "      <td>Language Spoken At Home</td>\n",
       "      <td>S1603_C04_002E</td>\n",
       "      <td>Speak a Language other than English at Home</td>\n",
       "    </tr>\n",
       "    <tr>\n",
       "      <td>5</td>\n",
       "      <td>18 to 64 Years</td>\n",
       "      <td>Language Spoken At Home</td>\n",
       "      <td>S1603_C02_003E</td>\n",
       "      <td>Speak Only English at Home</td>\n",
       "    </tr>\n",
       "    <tr>\n",
       "      <td>6</td>\n",
       "      <td>18 to 64 Years</td>\n",
       "      <td>Language Spoken At Home</td>\n",
       "      <td>S1603_C04_003E</td>\n",
       "      <td>Speak a Language other than English at Home</td>\n",
       "    </tr>\n",
       "    <tr>\n",
       "      <td>7</td>\n",
       "      <td>65 Years and Over</td>\n",
       "      <td>Language Spoken At Home</td>\n",
       "      <td>S1603_C02_003E</td>\n",
       "      <td>Speak Only English at Home</td>\n",
       "    </tr>\n",
       "    <tr>\n",
       "      <td>8</td>\n",
       "      <td>65 Years and Over</td>\n",
       "      <td>Language Spoken At Home</td>\n",
       "      <td>S1603_C04_004E</td>\n",
       "      <td>Speak a Language other than English at Home</td>\n",
       "    </tr>\n",
       "    <tr>\n",
       "      <td>9</td>\n",
       "      <td>25 Years and Over</td>\n",
       "      <td>NaN</td>\n",
       "      <td>S1603_C01_012E</td>\n",
       "      <td>Total Population</td>\n",
       "    </tr>\n",
       "    <tr>\n",
       "      <td>10</td>\n",
       "      <td>25 Years and Over</td>\n",
       "      <td>Educational Attainment</td>\n",
       "      <td>S1603_C01_013E</td>\n",
       "      <td>Less than High school graduate</td>\n",
       "    </tr>\n",
       "    <tr>\n",
       "      <td>11</td>\n",
       "      <td>25 Years and Over</td>\n",
       "      <td>Educational Attainment</td>\n",
       "      <td>S1603_C01_014E</td>\n",
       "      <td>High school graduate (includes equivalency)</td>\n",
       "    </tr>\n",
       "    <tr>\n",
       "      <td>12</td>\n",
       "      <td>25 Years and Over</td>\n",
       "      <td>Educational Attainment</td>\n",
       "      <td>S1603_C01_015E</td>\n",
       "      <td>Some college or associate degree</td>\n",
       "    </tr>\n",
       "    <tr>\n",
       "      <td>13</td>\n",
       "      <td>25 Years and Over</td>\n",
       "      <td>Educational Attainment</td>\n",
       "      <td>S1603_C01_016E</td>\n",
       "      <td>Bachelor's Degree or Higher</td>\n",
       "    </tr>\n",
       "  </tbody>\n",
       "</table>\n",
       "</div>"
      ],
      "text/plain": [
       "             age_group           variable_group        variable  \\\n",
       "0     5 Years And Over                      NaN  S1603_C01_001E   \n",
       "1     5 Years And Over  Language Spoken At Home  S1603_C02_001E   \n",
       "2     5 Years And Over  Language Spoken At Home  S1603_C04_001E   \n",
       "3        5 to 17 Years  Language Spoken At Home  S1603_C02_002E   \n",
       "4        5 to 17 Years  Language Spoken At Home  S1603_C04_002E   \n",
       "5       18 to 64 Years  Language Spoken At Home  S1603_C02_003E   \n",
       "6       18 to 64 Years  Language Spoken At Home  S1603_C04_003E   \n",
       "7   65 Years and Over   Language Spoken At Home  S1603_C02_003E   \n",
       "8   65 Years and Over   Language Spoken At Home  S1603_C04_004E   \n",
       "9   25 Years and Over                       NaN  S1603_C01_012E   \n",
       "10  25 Years and Over    Educational Attainment  S1603_C01_013E   \n",
       "11  25 Years and Over    Educational Attainment  S1603_C01_014E   \n",
       "12  25 Years and Over    Educational Attainment  S1603_C01_015E   \n",
       "13  25 Years and Over    Educational Attainment  S1603_C01_016E   \n",
       "\n",
       "                                  variable_name  \n",
       "0                              Total Population  \n",
       "1                    Speak Only English at Home  \n",
       "2   Speak a Language other than English at Home  \n",
       "3                    Speak Only English at Home  \n",
       "4   Speak a Language other than English at Home  \n",
       "5                    Speak Only English at Home  \n",
       "6   Speak a Language other than English at Home  \n",
       "7                    Speak Only English at Home  \n",
       "8   Speak a Language other than English at Home  \n",
       "9                              Total Population  \n",
       "10               Less than High school graduate  \n",
       "11  High school graduate (includes equivalency)  \n",
       "12             Some college or associate degree  \n",
       "13                  Bachelor's Degree or Higher  "
      ]
     },
     "execution_count": 26,
     "metadata": {},
     "output_type": "execute_result"
    }
   ],
   "source": [
    "data_dict = pd.read_csv(\"data-dictionary.csv\")\n",
    "data_dict"
   ]
  },
  {
   "cell_type": "code",
   "execution_count": 253,
   "metadata": {},
   "outputs": [
    {
     "name": "stdout",
     "output_type": "stream",
     "text": [
      "['S1603_C02_003E', 'S1603_C04_004E']\n"
     ]
    }
   ],
   "source": [
    "#making the age and gender categories --> eg young woman, etc ...agegroup=5to17 and sex=female\n",
    "\n",
    "#Datasets get pulled from the data dictionary where they fit. So basically\n",
    "    #if user picks these two buttons, then we know the age group = x in dict and gender = y in dict \n",
    "    #get text inputs from button outputs basically \n",
    "    #so therefore we're gonna pick what aligns with it for the datasets\n",
    "    #function - user selects these two then boom \n",
    "\n",
    "# user_selected_age=\"65 Years and Over\"\n",
    "user_selected_gender=\"Language Spoken\"\n",
    "\n",
    "selection = data_dict[(data_dict[\"age_group\"].str.contains(user_selected_age)) & \\\n",
    "                      (data_dict[\"variable_group\"].str.contains(user_selected_gender))]\n",
    "\n",
    "list_of_variable_inputs = selection[\"variable\"].values[0:]\n",
    "variable_inputs = ', '.join(list_of_variable_inputs).replace(\" \", \"\")\n",
    "variable_inputs = variable_inputs.split(',')\n",
    "print(variable_inputs)"
   ]
  },
  {
   "cell_type": "code",
   "execution_count": 173,
   "metadata": {},
   "outputs": [
    {
     "data": {
      "text/html": [
       "<div>\n",
       "<style scoped>\n",
       "    .dataframe tbody tr th:only-of-type {\n",
       "        vertical-align: middle;\n",
       "    }\n",
       "\n",
       "    .dataframe tbody tr th {\n",
       "        vertical-align: top;\n",
       "    }\n",
       "\n",
       "    .dataframe thead th {\n",
       "        text-align: right;\n",
       "    }\n",
       "</style>\n",
       "<table border=\"1\" class=\"dataframe\">\n",
       "  <thead>\n",
       "    <tr style=\"text-align: right;\">\n",
       "      <th></th>\n",
       "      <th>variables</th>\n",
       "      <th>sum_in_area</th>\n",
       "    </tr>\n",
       "  </thead>\n",
       "  <tbody>\n",
       "    <tr>\n",
       "      <td>8</td>\n",
       "      <td>S1603_C02_003E</td>\n",
       "      <td>9388</td>\n",
       "    </tr>\n",
       "    <tr>\n",
       "      <td>13</td>\n",
       "      <td>S1603_C04_004E</td>\n",
       "      <td>6505</td>\n",
       "    </tr>\n",
       "  </tbody>\n",
       "</table>\n",
       "</div>"
      ],
      "text/plain": [
       "         variables  sum_in_area\n",
       "8   S1603_C02_003E         9388\n",
       "13  S1603_C04_004E         6505"
      ]
     },
     "execution_count": 173,
     "metadata": {},
     "output_type": "execute_result"
    }
   ],
   "source": [
    "df=acs_site_sum.loc[acs_site_sum['variables'].isin(variable_inputs)]\n",
    "df"
   ]
  },
  {
   "cell_type": "code",
   "execution_count": 174,
   "metadata": {},
   "outputs": [
    {
     "data": {
      "text/html": [
       "<div>\n",
       "<style scoped>\n",
       "    .dataframe tbody tr th:only-of-type {\n",
       "        vertical-align: middle;\n",
       "    }\n",
       "\n",
       "    .dataframe tbody tr th {\n",
       "        vertical-align: top;\n",
       "    }\n",
       "\n",
       "    .dataframe thead th {\n",
       "        text-align: right;\n",
       "    }\n",
       "</style>\n",
       "<table border=\"1\" class=\"dataframe\">\n",
       "  <thead>\n",
       "    <tr style=\"text-align: right;\">\n",
       "      <th></th>\n",
       "      <th>variables</th>\n",
       "      <th>sum_in_area</th>\n",
       "      <th>age_group</th>\n",
       "      <th>variable_group</th>\n",
       "      <th>variable</th>\n",
       "      <th>variable_name</th>\n",
       "    </tr>\n",
       "  </thead>\n",
       "  <tbody>\n",
       "    <tr>\n",
       "      <td>0</td>\n",
       "      <td>S1603_C02_003E</td>\n",
       "      <td>9388</td>\n",
       "      <td>18 to 64 Years</td>\n",
       "      <td>Language Spoken At Home</td>\n",
       "      <td>S1603_C02_003E</td>\n",
       "      <td>Speak Only English at Home</td>\n",
       "    </tr>\n",
       "    <tr>\n",
       "      <td>1</td>\n",
       "      <td>S1603_C02_003E</td>\n",
       "      <td>9388</td>\n",
       "      <td>65 Years and Over</td>\n",
       "      <td>Language Spoken At Home</td>\n",
       "      <td>S1603_C02_003E</td>\n",
       "      <td>Speak Only English at Home</td>\n",
       "    </tr>\n",
       "    <tr>\n",
       "      <td>2</td>\n",
       "      <td>S1603_C04_004E</td>\n",
       "      <td>6505</td>\n",
       "      <td>65 Years and Over</td>\n",
       "      <td>Language Spoken At Home</td>\n",
       "      <td>S1603_C04_004E</td>\n",
       "      <td>Speak a Language other than English at Home</td>\n",
       "    </tr>\n",
       "  </tbody>\n",
       "</table>\n",
       "</div>"
      ],
      "text/plain": [
       "        variables  sum_in_area           age_group           variable_group  \\\n",
       "0  S1603_C02_003E         9388      18 to 64 Years  Language Spoken At Home   \n",
       "1  S1603_C02_003E         9388  65 Years and Over   Language Spoken At Home   \n",
       "2  S1603_C04_004E         6505  65 Years and Over   Language Spoken At Home   \n",
       "\n",
       "         variable                                variable_name  \n",
       "0  S1603_C02_003E                   Speak Only English at Home  \n",
       "1  S1603_C02_003E                   Speak Only English at Home  \n",
       "2  S1603_C04_004E  Speak a Language other than English at Home  "
      ]
     },
     "execution_count": 174,
     "metadata": {},
     "output_type": "execute_result"
    }
   ],
   "source": [
    "# eventually would need to split these up into the diff bins for different types of variable groups \n",
    "df2 = pd.merge(df, data_dict, how=\"left\", on=\"variables\")\n",
    "df2"
   ]
  },
  {
   "cell_type": "code",
   "execution_count": 210,
   "metadata": {},
   "outputs": [
    {
     "data": {
      "text/html": [
       "<div>\n",
       "<style scoped>\n",
       "    .dataframe tbody tr th:only-of-type {\n",
       "        vertical-align: middle;\n",
       "    }\n",
       "\n",
       "    .dataframe tbody tr th {\n",
       "        vertical-align: top;\n",
       "    }\n",
       "\n",
       "    .dataframe thead th {\n",
       "        text-align: right;\n",
       "    }\n",
       "</style>\n",
       "<table border=\"1\" class=\"dataframe\">\n",
       "  <thead>\n",
       "    <tr style=\"text-align: right;\">\n",
       "      <th></th>\n",
       "      <th>variables</th>\n",
       "      <th>sum_in_area</th>\n",
       "      <th>age_group</th>\n",
       "      <th>variable_group</th>\n",
       "      <th>variable</th>\n",
       "      <th>variable_name</th>\n",
       "    </tr>\n",
       "  </thead>\n",
       "  <tbody>\n",
       "    <tr>\n",
       "      <td>0</td>\n",
       "      <td>S1603_C02_003E</td>\n",
       "      <td>9388</td>\n",
       "      <td>18 to 64 Years</td>\n",
       "      <td>Language Spoken At Home</td>\n",
       "      <td>S1603_C02_003E</td>\n",
       "      <td>Speak Only English at Home</td>\n",
       "    </tr>\n",
       "    <tr>\n",
       "      <td>1</td>\n",
       "      <td>S1603_C02_003E</td>\n",
       "      <td>9388</td>\n",
       "      <td>65 Years and Over</td>\n",
       "      <td>Language Spoken At Home</td>\n",
       "      <td>S1603_C02_003E</td>\n",
       "      <td>Speak Only English at Home</td>\n",
       "    </tr>\n",
       "    <tr>\n",
       "      <td>2</td>\n",
       "      <td>S1603_C04_004E</td>\n",
       "      <td>6505</td>\n",
       "      <td>65 Years and Over</td>\n",
       "      <td>Language Spoken At Home</td>\n",
       "      <td>S1603_C04_004E</td>\n",
       "      <td>Speak a Language other than English at Home</td>\n",
       "    </tr>\n",
       "  </tbody>\n",
       "</table>\n",
       "</div>"
      ],
      "text/plain": [
       "        variables  sum_in_area           age_group           variable_group  \\\n",
       "0  S1603_C02_003E         9388      18 to 64 Years  Language Spoken At Home   \n",
       "1  S1603_C02_003E         9388  65 Years and Over   Language Spoken At Home   \n",
       "2  S1603_C04_004E         6505  65 Years and Over   Language Spoken At Home   \n",
       "\n",
       "         variable                                variable_name  \n",
       "0  S1603_C02_003E                   Speak Only English at Home  \n",
       "1  S1603_C02_003E                   Speak Only English at Home  \n",
       "2  S1603_C04_004E  Speak a Language other than English at Home  "
      ]
     },
     "execution_count": 210,
     "metadata": {},
     "output_type": "execute_result"
    }
   ],
   "source": [
    "subject_bins =[]\n",
    "\n",
    "for i in subject_bins:\n",
    "    language = df2[(df2[\"variable_group\"].str.contains('Language'))]\n",
    "    # education = df2[(df2[\"variable_group\"].str.contains('Educational Attainment'))]\n",
    "    # household_type = df2[(df2[\"variable_group\"].str.contains('Household Type'))]\n",
    "    # household_income = df2[(df2[\"variable_group\"].str.contains('Household Income'))]\n",
    "    # travel_time_to_work = df2[(df2[\"variable_group\"].str.contains('Travel Time'))]\n",
    "    # means_of_transportation = df2[(df2[\"variable_group\"].str.contains('Means of Transportation'))]\n",
    "    \n",
    "    subject_bins.append([language, education, income, household_type, household_income, \\\n",
    "                          travel_time_to_work, means_of_transportation])\n",
    "    \n",
    "language"
   ]
  },
  {
   "cell_type": "code",
   "execution_count": 274,
   "metadata": {},
   "outputs": [
    {
     "ename": "TypeError",
     "evalue": "'>=' not supported between instances of 'function' and 'int'",
     "output_type": "error",
     "traceback": [
      "\u001b[1;31m---------------------------------------------------------------------------\u001b[0m",
      "\u001b[1;31mTypeError\u001b[0m                                 Traceback (most recent call last)",
      "\u001b[1;32m<ipython-input-274-cce5a748e414>\u001b[0m in \u001b[0;36m<module>\u001b[1;34m\u001b[0m\n\u001b[0;32m     14\u001b[0m \u001b[1;33m\u001b[0m\u001b[0m\n\u001b[0;32m     15\u001b[0m \u001b[1;31m#10th percentile = 0.1\u001b[0m\u001b[1;33m\u001b[0m\u001b[1;33m\u001b[0m\u001b[1;33m\u001b[0m\u001b[0m\n\u001b[1;32m---> 16\u001b[1;33m \u001b[0mpercentile\u001b[0m\u001b[1;33m=\u001b[0m\u001b[0mpercentile_table\u001b[0m\u001b[1;33m.\u001b[0m\u001b[0msum_in_area\u001b[0m\u001b[1;33m.\u001b[0m\u001b[0mquantile\u001b[0m\u001b[1;33m(\u001b[0m\u001b[0mpercentile_input\u001b[0m\u001b[1;33m)\u001b[0m\u001b[1;33m.\u001b[0m\u001b[0mastype\u001b[0m\u001b[1;33m(\u001b[0m\u001b[0mint\u001b[0m\u001b[1;33m)\u001b[0m\u001b[1;33m.\u001b[0m\u001b[0mastype\u001b[0m\u001b[1;33m(\u001b[0m\u001b[0mstr\u001b[0m\u001b[1;33m)\u001b[0m\u001b[1;33m\u001b[0m\u001b[1;33m\u001b[0m\u001b[0m\n\u001b[0m\u001b[0;32m     17\u001b[0m \u001b[1;33m\u001b[0m\u001b[0m\n\u001b[0;32m     18\u001b[0m \u001b[0mprint\u001b[0m\u001b[1;33m(\u001b[0m\u001b[0mpercentile\u001b[0m\u001b[1;33m)\u001b[0m\u001b[1;33m\u001b[0m\u001b[1;33m\u001b[0m\u001b[0m\n",
      "\u001b[1;32m~\\Anaconda3\\lib\\site-packages\\pandas\\core\\series.py\u001b[0m in \u001b[0;36mquantile\u001b[1;34m(self, q, interpolation)\u001b[0m\n\u001b[0;32m   2391\u001b[0m         \"\"\"\n\u001b[0;32m   2392\u001b[0m \u001b[1;33m\u001b[0m\u001b[0m\n\u001b[1;32m-> 2393\u001b[1;33m         \u001b[0mself\u001b[0m\u001b[1;33m.\u001b[0m\u001b[0m_check_percentile\u001b[0m\u001b[1;33m(\u001b[0m\u001b[0mq\u001b[0m\u001b[1;33m)\u001b[0m\u001b[1;33m\u001b[0m\u001b[1;33m\u001b[0m\u001b[0m\n\u001b[0m\u001b[0;32m   2394\u001b[0m \u001b[1;33m\u001b[0m\u001b[0m\n\u001b[0;32m   2395\u001b[0m         \u001b[1;31m# We dispatch to DataFrame so that core.internals only has to worry\u001b[0m\u001b[1;33m\u001b[0m\u001b[1;33m\u001b[0m\u001b[1;33m\u001b[0m\u001b[0m\n",
      "\u001b[1;32m~\\Anaconda3\\lib\\site-packages\\pandas\\core\\generic.py\u001b[0m in \u001b[0;36m_check_percentile\u001b[1;34m(self, q)\u001b[0m\n\u001b[0;32m  10295\u001b[0m         \u001b[0mq\u001b[0m \u001b[1;33m=\u001b[0m \u001b[0mnp\u001b[0m\u001b[1;33m.\u001b[0m\u001b[0masarray\u001b[0m\u001b[1;33m(\u001b[0m\u001b[0mq\u001b[0m\u001b[1;33m)\u001b[0m\u001b[1;33m\u001b[0m\u001b[1;33m\u001b[0m\u001b[0m\n\u001b[0;32m  10296\u001b[0m         \u001b[1;32mif\u001b[0m \u001b[0mq\u001b[0m\u001b[1;33m.\u001b[0m\u001b[0mndim\u001b[0m \u001b[1;33m==\u001b[0m \u001b[1;36m0\u001b[0m\u001b[1;33m:\u001b[0m\u001b[1;33m\u001b[0m\u001b[1;33m\u001b[0m\u001b[0m\n\u001b[1;32m> 10297\u001b[1;33m             \u001b[1;32mif\u001b[0m \u001b[1;32mnot\u001b[0m \u001b[1;36m0\u001b[0m \u001b[1;33m<=\u001b[0m \u001b[0mq\u001b[0m \u001b[1;33m<=\u001b[0m \u001b[1;36m1\u001b[0m\u001b[1;33m:\u001b[0m\u001b[1;33m\u001b[0m\u001b[1;33m\u001b[0m\u001b[0m\n\u001b[0m\u001b[0;32m  10298\u001b[0m                 \u001b[1;32mraise\u001b[0m \u001b[0mValueError\u001b[0m\u001b[1;33m(\u001b[0m\u001b[0mmsg\u001b[0m\u001b[1;33m.\u001b[0m\u001b[0mformat\u001b[0m\u001b[1;33m(\u001b[0m\u001b[0mq\u001b[0m \u001b[1;33m/\u001b[0m \u001b[1;36m100.0\u001b[0m\u001b[1;33m)\u001b[0m\u001b[1;33m)\u001b[0m\u001b[1;33m\u001b[0m\u001b[1;33m\u001b[0m\u001b[0m\n\u001b[0;32m  10299\u001b[0m         \u001b[1;32melse\u001b[0m\u001b[1;33m:\u001b[0m\u001b[1;33m\u001b[0m\u001b[1;33m\u001b[0m\u001b[0m\n",
      "\u001b[1;31mTypeError\u001b[0m: '>=' not supported between instances of 'function' and 'int'"
     ]
    }
   ],
   "source": [
    "#loop for each separate table - basically will become a whole big function\n",
    "# for i in subject_bins:\n",
    "\n",
    "# for i, df in enumerate(subject_bins):\n",
    "#     df.columns = [col_name+'_df{}'.format(i) for col_name in df.columns]\n",
    "    #df is language etc \n",
    "    \n",
    "    #everything below is in a function\n",
    "    #do function??\n",
    "    \n",
    "#adding in 0 value...to have complete table \n",
    "percentile_table = df.append({'sum_in_area' : 0, 'variables':'Baseline_Value'}, ignore_index=True)\n",
    "percentile_table.sort_values(\"sum_in_area\", axis = 0, ascending = True, inplace = True)\n",
    "\n",
    "#10th percentile = 0.1\n",
    "percentile=percentile_table.sum_in_area.quantile(percentile_input).astype(int).astype(str)\n",
    "\n",
    "print(percentile)"
   ]
  },
  {
   "cell_type": "code",
   "execution_count": 198,
   "metadata": {},
   "outputs": [
    {
     "data": {
      "text/html": [
       "<div>\n",
       "<style scoped>\n",
       "    .dataframe tbody tr th:only-of-type {\n",
       "        vertical-align: middle;\n",
       "    }\n",
       "\n",
       "    .dataframe tbody tr th {\n",
       "        vertical-align: top;\n",
       "    }\n",
       "\n",
       "    .dataframe thead th {\n",
       "        text-align: right;\n",
       "    }\n",
       "</style>\n",
       "<table border=\"1\" class=\"dataframe\">\n",
       "  <thead>\n",
       "    <tr style=\"text-align: right;\">\n",
       "      <th>variables</th>\n",
       "      <th>Baseline_Value</th>\n",
       "      <th>S1603_C02_002E</th>\n",
       "      <th>S1603_C04_002E</th>\n",
       "    </tr>\n",
       "  </thead>\n",
       "  <tbody>\n",
       "    <tr>\n",
       "      <td>sum_in_area</td>\n",
       "      <td>0</td>\n",
       "      <td>852</td>\n",
       "      <td>1983</td>\n",
       "    </tr>\n",
       "  </tbody>\n",
       "</table>\n",
       "</div>"
      ],
      "text/plain": [
       "variables   Baseline_Value S1603_C02_002E S1603_C04_002E\n",
       "sum_in_area              0            852           1983"
      ]
     },
     "execution_count": 198,
     "metadata": {},
     "output_type": "execute_result"
    }
   ],
   "source": [
    "percentile_table.sort_values(by=['sum_in_area'], inplace=True)\n",
    "percentile_table_filtered = percentile_table.filter([\"variables\", \"sum_in_area\"])\n",
    "transposed = percentile_table_filtered.T\n",
    "transposed.columns = transposed.iloc[0]\n",
    "# transposed.drop(df.index[1])\n",
    "transposed=transposed[1:]\n",
    "transposed"
   ]
  },
  {
   "cell_type": "code",
   "execution_count": 18,
   "metadata": {},
   "outputs": [],
   "source": [
    "#calculating what ranges these values lie in\n",
    "ranges=[]\n",
    "\n",
    "for item, i in enumerate(transposed.columns):\n",
    "    each_range = np.arange(transposed.min()[item-1]+1, transposed.max()[item]+1).astype(int)\n",
    "    ranges.append([each_range])\n",
    "#     if item==0:\n",
    "#         lower_range = np.arange(0, transposed.max()[0]+1).astype(int)\n",
    "#         ranges.append([lower_range])\n",
    "#     else:\n",
    "#         upper_ranges = np.arange(transposed.min()[item-1]+1, transposed.max()[item]+1).astype(int)\n",
    "#         ranges.append([upper_ranges])"
   ]
  },
  {
   "cell_type": "code",
   "execution_count": 19,
   "metadata": {},
   "outputs": [
    {
     "data": {
      "text/html": [
       "<div>\n",
       "<style scoped>\n",
       "    .dataframe tbody tr th:only-of-type {\n",
       "        vertical-align: middle;\n",
       "    }\n",
       "\n",
       "    .dataframe tbody tr th {\n",
       "        vertical-align: top;\n",
       "    }\n",
       "\n",
       "    .dataframe thead th {\n",
       "        text-align: right;\n",
       "    }\n",
       "</style>\n",
       "<table border=\"1\" class=\"dataframe\">\n",
       "  <thead>\n",
       "    <tr style=\"text-align: right;\">\n",
       "      <th></th>\n",
       "      <th>index_x</th>\n",
       "      <th>sum_in_area_x</th>\n",
       "      <th>index_y</th>\n",
       "      <th>variables</th>\n",
       "      <th>sum_in_area_y</th>\n",
       "      <th>sum_ranges</th>\n",
       "    </tr>\n",
       "  </thead>\n",
       "  <tbody>\n",
       "    <tr>\n",
       "      <td>0</td>\n",
       "      <td>0</td>\n",
       "      <td>[]</td>\n",
       "      <td>2</td>\n",
       "      <td>Baseline_Value</td>\n",
       "      <td>0</td>\n",
       "      <td>[]</td>\n",
       "    </tr>\n",
       "    <tr>\n",
       "      <td>1</td>\n",
       "      <td>1</td>\n",
       "      <td>[1, 2, 3, 4, 5, 6, 7, 8, 9, 10, 11, 12, 13, 14...</td>\n",
       "      <td>0</td>\n",
       "      <td>S1603_C02_002E</td>\n",
       "      <td>852</td>\n",
       "      <td>[  1   2   3   4   5   6   7   8   9  10  11  ...</td>\n",
       "    </tr>\n",
       "    <tr>\n",
       "      <td>2</td>\n",
       "      <td>2</td>\n",
       "      <td>[853, 854, 855, 856, 857, 858, 859, 860, 861, ...</td>\n",
       "      <td>1</td>\n",
       "      <td>S1603_C04_002E</td>\n",
       "      <td>1983</td>\n",
       "      <td>[ 853  854  855  856  857  858  859  860  861 ...</td>\n",
       "    </tr>\n",
       "  </tbody>\n",
       "</table>\n",
       "</div>"
      ],
      "text/plain": [
       "   index_x                                      sum_in_area_x  index_y  \\\n",
       "0        0                                                 []        2   \n",
       "1        1  [1, 2, 3, 4, 5, 6, 7, 8, 9, 10, 11, 12, 13, 14...        0   \n",
       "2        2  [853, 854, 855, 856, 857, 858, 859, 860, 861, ...        1   \n",
       "\n",
       "        variables  sum_in_area_y  \\\n",
       "0  Baseline_Value              0   \n",
       "1  S1603_C02_002E            852   \n",
       "2  S1603_C04_002E           1983   \n",
       "\n",
       "                                          sum_ranges  \n",
       "0                                                 []  \n",
       "1  [  1   2   3   4   5   6   7   8   9  10  11  ...  \n",
       "2  [ 853  854  855  856  857  858  859  860  861 ...  "
      ]
     },
     "execution_count": 19,
     "metadata": {},
     "output_type": "execute_result"
    }
   ],
   "source": [
    "range_table = pd.DataFrame(data=ranges, index=None, columns=[\"sum_in_area\"])\n",
    "\n",
    "#do for each\n",
    "percentile_table = percentile_table.reset_index()\n",
    "range_table = range_table.reset_index()\n",
    "\n",
    "range_table_cumulative = pd.merge(range_table, percentile_table, left_index=True, right_index=True, on=None)\n",
    "range_table_cumulative[\"sum_ranges\"] = range_table_cumulative[\"sum_in_area_x\"].astype(str)\n",
    "range_table_cumulative"
   ]
  },
  {
   "cell_type": "code",
   "execution_count": 98,
   "metadata": {},
   "outputs": [
    {
     "name": "stdout",
     "output_type": "stream",
     "text": [
      "S1603_C04_002E : Speak a Language other than English at Home\n"
     ]
    }
   ],
   "source": [
    "# this needs to be in a big for loop\n",
    "\n",
    "descriptors =[]\n",
    "\n",
    "if range_table_cumulative[\"sum_ranges\"].str.contains(percentile).any():\n",
    "    result = range_table_cumulative[range_table_cumulative['sum_ranges'].str.contains(percentile)]\n",
    "    result_variable = result [\"variables\"].values[0]\n",
    "    \n",
    "    #So returning the data dictionary for this \n",
    "    dict_result = data_dict[data_dict[\"variables\"].str.contains(result_variable)]\n",
    "    result_text = dict_result[\"variable_name\"].values[0]\n",
    "\n",
    "    #then append to empty dataframe that will have the data for text generation\n",
    "    descriptors.append([result_text])\n",
    "    \n",
    "    print(result_variable,\":\", result_text)\n",
    "\n",
    "else:\n",
    "    print(\"WOAH! corresponds to none - check what is wrong\")"
   ]
  },
  {
   "cell_type": "code",
   "execution_count": null,
   "metadata": {},
   "outputs": [],
   "source": [
    "#TEXT GENERATION"
   ]
  },
  {
   "cell_type": "code",
   "execution_count": null,
   "metadata": {},
   "outputs": [],
   "source": [
    "#if results = x then ... "
   ]
  },
  {
   "cell_type": "code",
   "execution_count": null,
   "metadata": {},
   "outputs": [],
   "source": []
  },
  {
   "cell_type": "code",
   "execution_count": null,
   "metadata": {},
   "outputs": [],
   "source": []
  },
  {
   "cell_type": "code",
   "execution_count": null,
   "metadata": {},
   "outputs": [],
   "source": []
  },
  {
   "cell_type": "code",
   "execution_count": null,
   "metadata": {},
   "outputs": [],
   "source": []
  },
  {
   "cell_type": "code",
   "execution_count": null,
   "metadata": {},
   "outputs": [],
   "source": []
  },
  {
   "cell_type": "code",
   "execution_count": 23,
   "metadata": {},
   "outputs": [
    {
     "ename": "AttributeError",
     "evalue": "'DataFrame' object has no attribute 'onlyEnglish'",
     "output_type": "error",
     "traceback": [
      "\u001b[1;31m---------------------------------------------------------------------------\u001b[0m",
      "\u001b[1;31mAttributeError\u001b[0m                            Traceback (most recent call last)",
      "\u001b[1;32m<ipython-input-23-c54f6761989f>\u001b[0m in \u001b[0;36m<module>\u001b[1;34m\u001b[0m\n\u001b[0;32m      1\u001b[0m \u001b[1;31m#duplicate basically\u001b[0m\u001b[1;33m\u001b[0m\u001b[1;33m\u001b[0m\u001b[1;33m\u001b[0m\u001b[0m\n\u001b[0;32m      2\u001b[0m \u001b[1;33m\u001b[0m\u001b[0m\n\u001b[1;32m----> 3\u001b[1;33m \u001b[0mdf_array\u001b[0m \u001b[1;33m=\u001b[0m \u001b[0mnp\u001b[0m\u001b[1;33m.\u001b[0m\u001b[0marray\u001b[0m\u001b[1;33m(\u001b[0m\u001b[0mdf\u001b[0m\u001b[1;33m.\u001b[0m\u001b[0mT\u001b[0m\u001b[1;33m.\u001b[0m\u001b[0monlyEnglish\u001b[0m\u001b[1;33m)\u001b[0m\u001b[1;33m\u001b[0m\u001b[1;33m\u001b[0m\u001b[0m\n\u001b[0m\u001b[0;32m      4\u001b[0m \u001b[1;31m# df_array = np.array(df)\u001b[0m\u001b[1;33m\u001b[0m\u001b[1;33m\u001b[0m\u001b[1;33m\u001b[0m\u001b[0m\n\u001b[0;32m      5\u001b[0m \u001b[0mrange_min\u001b[0m \u001b[1;33m=\u001b[0m \u001b[0mdf_array\u001b[0m\u001b[1;33m.\u001b[0m\u001b[0mmin\u001b[0m\u001b[1;33m(\u001b[0m\u001b[1;33m)\u001b[0m\u001b[1;33m\u001b[0m\u001b[1;33m\u001b[0m\u001b[0m\n",
      "\u001b[1;32m~\\Anaconda3\\lib\\site-packages\\pandas\\core\\generic.py\u001b[0m in \u001b[0;36m__getattr__\u001b[1;34m(self, name)\u001b[0m\n\u001b[0;32m   5177\u001b[0m             \u001b[1;32mif\u001b[0m \u001b[0mself\u001b[0m\u001b[1;33m.\u001b[0m\u001b[0m_info_axis\u001b[0m\u001b[1;33m.\u001b[0m\u001b[0m_can_hold_identifiers_and_holds_name\u001b[0m\u001b[1;33m(\u001b[0m\u001b[0mname\u001b[0m\u001b[1;33m)\u001b[0m\u001b[1;33m:\u001b[0m\u001b[1;33m\u001b[0m\u001b[1;33m\u001b[0m\u001b[0m\n\u001b[0;32m   5178\u001b[0m                 \u001b[1;32mreturn\u001b[0m \u001b[0mself\u001b[0m\u001b[1;33m[\u001b[0m\u001b[0mname\u001b[0m\u001b[1;33m]\u001b[0m\u001b[1;33m\u001b[0m\u001b[1;33m\u001b[0m\u001b[0m\n\u001b[1;32m-> 5179\u001b[1;33m             \u001b[1;32mreturn\u001b[0m \u001b[0mobject\u001b[0m\u001b[1;33m.\u001b[0m\u001b[0m__getattribute__\u001b[0m\u001b[1;33m(\u001b[0m\u001b[0mself\u001b[0m\u001b[1;33m,\u001b[0m \u001b[0mname\u001b[0m\u001b[1;33m)\u001b[0m\u001b[1;33m\u001b[0m\u001b[1;33m\u001b[0m\u001b[0m\n\u001b[0m\u001b[0;32m   5180\u001b[0m \u001b[1;33m\u001b[0m\u001b[0m\n\u001b[0;32m   5181\u001b[0m     \u001b[1;32mdef\u001b[0m \u001b[0m__setattr__\u001b[0m\u001b[1;33m(\u001b[0m\u001b[0mself\u001b[0m\u001b[1;33m,\u001b[0m \u001b[0mname\u001b[0m\u001b[1;33m,\u001b[0m \u001b[0mvalue\u001b[0m\u001b[1;33m)\u001b[0m\u001b[1;33m:\u001b[0m\u001b[1;33m\u001b[0m\u001b[1;33m\u001b[0m\u001b[0m\n",
      "\u001b[1;31mAttributeError\u001b[0m: 'DataFrame' object has no attribute 'onlyEnglish'"
     ]
    }
   ],
   "source": [
    "#duplicate basically\n",
    "\n",
    "df_array = np.array(df.T.onlyEnglish)\n",
    "# df_array = np.array(df)\n",
    "range_min = df_array.min()\n",
    "range_max = df_array.max()\n",
    "range_max"
   ]
  }
 ],
 "metadata": {
  "kernelspec": {
   "display_name": "Python 3",
   "language": "python",
   "name": "python3"
  },
  "language_info": {
   "codemirror_mode": {
    "name": "ipython",
    "version": 3
   },
   "file_extension": ".py",
   "mimetype": "text/x-python",
   "name": "python",
   "nbconvert_exporter": "python",
   "pygments_lexer": "ipython3",
   "version": "3.7.4"
  }
 },
 "nbformat": 4,
 "nbformat_minor": 2
}
