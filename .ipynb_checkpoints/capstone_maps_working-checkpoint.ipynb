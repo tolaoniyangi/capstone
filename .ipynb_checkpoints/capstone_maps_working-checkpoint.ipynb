{
 "cells": [
  {
   "cell_type": "code",
   "execution_count": 1,
   "metadata": {},
   "outputs": [],
   "source": [
    "import geopandas as gpd\n",
    "import pandas as pd\n",
    "import numpy as np\n",
    "from shapely.geometry import Point\n",
    "from fiona.crs import from_epsg\n",
    "import json"
   ]
  },
  {
   "cell_type": "code",
   "execution_count": 2,
   "metadata": {},
   "outputs": [],
   "source": [
    "from ipyleaflet import Map, GeoData, GeoJSON, basemaps, basemap_to_tiles, Icon, Circle, Marker, LayerGroup, WidgetControl\n",
    "from ipywidgets import Button \n",
    "import ipywidgets as widgets"
   ]
  },
  {
   "cell_type": "code",
   "execution_count": 3,
   "metadata": {
    "scrolled": false
   },
   "outputs": [
    {
     "name": "stdout",
     "output_type": "stream",
     "text": [
      "[40.7210907, -73.9877836]\n"
     ]
    },
    {
     "data": {
      "application/vnd.jupyter.widget-view+json": {
       "model_id": "6ddf16d2210d4dc79ea3e47e5278b4ed",
       "version_major": 2,
       "version_minor": 0
      },
      "text/plain": [
       "Map(center=[40.7210907, -73.9877836], controls=(ZoomControl(options=['position', 'zoom_in_text', 'zoom_in_titl…"
      ]
     },
     "metadata": {},
     "output_type": "display_data"
    }
   ],
   "source": [
    "#drawing basic map\n",
    "center = (40.7210907,-73.9877836)\n",
    "basemap = basemap_to_tiles(basemaps.CartoDB.Positron)\n",
    "\n",
    "icon = Icon(icon_url='icon.png', icon_size=[15, 15])\n",
    "marker = Marker(location=center, draggable=False, icon=icon, opacity = 0.8)\n",
    "\n",
    "m = Map(layers=(basemap, ), center=center, zoom=15, min_zoom = 11, max_zoom = 20)\n",
    "\n",
    "###HALF-MI BUFFER\n",
    "#set location of center as location of the point\n",
    "markerlocation=marker.location\n",
    "print(markerlocation)\n",
    "    \n",
    "radius = 402 #in-meters\n",
    "color = \"black\"\n",
    "fill_color = \"white\"\n",
    "fill_opacity = .2\n",
    "weight = 2\n",
    "\n",
    "##click on map to add marker, removes old marker as well\n",
    "def handle_click(**kwargs):\n",
    "    if kwargs.get('type') == 'click':\n",
    "        layer_group.clear_layers();\n",
    "        marker = Marker(location=kwargs.get('coordinates'), draggable=False, icon=icon, opacity = 0.8)\n",
    "        layer_group.add_layer(marker)\n",
    "        \n",
    "        #updating the circle's location\n",
    "        markerlocation=marker.location\n",
    "        circle.location = markerlocation\n",
    "        layer_group.add_layer(circle);\n",
    "        \n",
    "m.on_interaction(handle_click)\n",
    "######\n",
    "\n",
    "#create half-mi buffer\n",
    "circle = Circle()\n",
    "circle.location = markerlocation\n",
    "circle.radius = radius\n",
    "circle.color = color\n",
    "circle.fill_color = fill_color\n",
    "circle.fill_opacity = fill_opacity\n",
    "circle.weight = weight\n",
    "###########\n",
    "\n",
    "    \n",
    "# def on_location_changed(event):\n",
    "# #remove any circles existing first\n",
    "#     layer_group.clear_layers();\n",
    "\n",
    "# #update location of center as location of the point\n",
    "#     markerlocation = marker.location\n",
    "#     circle.location = markerlocation\n",
    "#     layer_group.add_layer(circle);\n",
    "        \n",
    "# pass\n",
    "# marker.observe(on_location_changed, 'location')\n",
    "# #######\n",
    "\n",
    "\n",
    "# #adding button that performs the analysis on click \n",
    "# button = Button(description=\"Reset\")\n",
    "\n",
    "# def on_button_clicked(b, geo_json):   \n",
    "    \n",
    "# button.on_click(on_button_clicked)\n",
    "\n",
    "    \n",
    "# widget_control = WidgetControl(widget=button, position='topright')\n",
    "# m.add_control(widget_control)\n",
    "\n",
    "\n",
    "layer_group = LayerGroup(layers=(marker, circle))\n",
    "m.add_layer(layer_group)\n",
    "\n",
    "display(m)"
   ]
  },
  {
   "cell_type": "code",
   "execution_count": null,
   "metadata": {},
   "outputs": [],
   "source": []
  },
  {
   "cell_type": "code",
   "execution_count": 4,
   "metadata": {},
   "outputs": [
    {
     "name": "stdout",
     "output_type": "stream",
     "text": [
      "           0\n",
      "0  40.721091\n",
      "1 -73.987784\n"
     ]
    },
    {
     "data": {
      "text/html": [
       "<div>\n",
       "<style scoped>\n",
       "    .dataframe tbody tr th:only-of-type {\n",
       "        vertical-align: middle;\n",
       "    }\n",
       "\n",
       "    .dataframe tbody tr th {\n",
       "        vertical-align: top;\n",
       "    }\n",
       "\n",
       "    .dataframe thead th {\n",
       "        text-align: right;\n",
       "    }\n",
       "</style>\n",
       "<table border=\"1\" class=\"dataframe\">\n",
       "  <thead>\n",
       "    <tr style=\"text-align: right;\">\n",
       "      <th></th>\n",
       "      <th>Latitude</th>\n",
       "      <th>Longitude</th>\n",
       "    </tr>\n",
       "  </thead>\n",
       "  <tbody>\n",
       "    <tr>\n",
       "      <td>0</td>\n",
       "      <td>40.721091</td>\n",
       "      <td>-73.987784</td>\n",
       "    </tr>\n",
       "  </tbody>\n",
       "</table>\n",
       "</div>"
      ],
      "text/plain": [
       "    Latitude  Longitude\n",
       "0  40.721091 -73.987784"
      ]
     },
     "execution_count": 4,
     "metadata": {},
     "output_type": "execute_result"
    }
   ],
   "source": [
    "#extracting the marker location for the buffer\n",
    "location = markerlocation.copy()\n",
    "\n",
    "df2 = pd.DataFrame(location)\n",
    "print(df2)\n",
    "\n",
    "df=df2.transpose()\n",
    "df.columns=['Latitude','Longitude']\n",
    "df.head()"
   ]
  },
  {
   "cell_type": "code",
   "execution_count": 5,
   "metadata": {},
   "outputs": [
    {
     "name": "stdout",
     "output_type": "stream",
     "text": [
      "{'init': 'epsg:3857', 'no_defs': True}\n"
     ]
    }
   ],
   "source": [
    "#creating a geodataframe from the point\n",
    "gdf = gpd.GeoDataFrame(\n",
    "    df, geometry=gpd.points_from_xy(df.Longitude, df.Latitude))\n",
    "\n",
    "gdf.plot()\n",
    "# gdf.crs = 'EPSG:4326'\n",
    "gdf.crs = from_epsg(3857)\n",
    "print(gdf.crs)"
   ]
  },
  {
   "cell_type": "code",
   "execution_count": 6,
   "metadata": {},
   "outputs": [
    {
     "name": "stdout",
     "output_type": "stream",
     "text": [
      "{'init': 'epsg:54032', 'no_defs': True}\n"
     ]
    }
   ],
   "source": [
    "test=gdf.copy()\n",
    "\n",
    "# test.crs = from_epsg(3857)\n",
    "\n",
    "test.crs = from_epsg(54032)\n",
    "\n",
    "print(test.crs)\n",
    "#change to aeqd"
   ]
  },
  {
   "cell_type": "code",
   "execution_count": 7,
   "metadata": {},
   "outputs": [],
   "source": [
    "#making buffer\n",
    "\n",
    "test['geometry'] = test.geometry.buffer(.004,  cap_style=1, join_style=1)"
   ]
  },
  {
   "cell_type": "code",
   "execution_count": 8,
   "metadata": {},
   "outputs": [
    {
     "data": {
      "text/plain": [
       "<matplotlib.axes._subplots.AxesSubplot at 0x269284a94c8>"
      ]
     },
     "execution_count": 8,
     "metadata": {},
     "output_type": "execute_result"
    },
    {
     "data": {
      "image/png": "[encoded data removed]",
      "text/plain": [
       "<Figure size 432x288 with 1 Axes>"
      ]
     },
     "metadata": {
      "needs_background": "light"
     },
     "output_type": "display_data"
    }
   ],
   "source": [
    "# change back\n",
    "test.crs = from_epsg(3857)\n",
    "\n",
    "test.plot()"
   ]
  },
  {
   "cell_type": "code",
   "execution_count": 60,
   "metadata": {},
   "outputs": [],
   "source": [
    "rect_orig=gdf.copy()\n",
    "rect_orig['geometry'] = rect_orig.geometry.buffer(4,  cap_style=1, join_style=1)\n",
    "\n",
    "# rect=rect_orig.envelope\n",
    "# rect.plot()\n",
    "\n",
    "diff = gpd.overlay(rect_orig, test, how='difference')"
   ]
  },
  {
   "cell_type": "code",
   "execution_count": 63,
   "metadata": {},
   "outputs": [
    {
     "data": {
      "application/vnd.jupyter.widget-view+json": {
       "model_id": "326a6fd45d9e430d96866ab2e6a469e5",
       "version_major": 2,
       "version_minor": 0
      },
      "text/plain": [
       "Map(center=[55.3791104480105, 193.00781250000003], controls=(ZoomControl(options=['position', 'zoom_in_text', …"
      ]
     },
     "metadata": {},
     "output_type": "display_data"
    }
   ],
   "source": [
    "from shapely.geometry import Polygon\n",
    "\n",
    "geo_data = GeoData(geo_dataframe = diff,\n",
    "                   style={'color': 'black', 'fillColor': '#3366cc', 'opacity':0.05, 'weight':1.9, 'dashArray':'2', 'fillOpacity':0.6},\n",
    "                   hover_style={'fillColor': 'red' , 'fillOpacity': 0.2},\n",
    "                   name = 'Countries')\n",
    "\n",
    "\n",
    "m.add_layer(geo_data)\n",
    "# m.add_control(LayersControl())\n",
    "\n",
    "m"
   ]
  },
  {
   "cell_type": "code",
   "execution_count": 53,
   "metadata": {},
   "outputs": [
    {
     "name": "stdout",
     "output_type": "stream",
     "text": [
      "0    POLYGON ((4.37718 50.85446, 13.40776 52.51817,...\n",
      "Name: geometry, dtype: geometry\n"
     ]
    },
    {
     "data": {
      "text/plain": [
       "<matplotlib.axes._subplots.AxesSubplot at 0x2692884c248>"
      ]
     },
     "execution_count": 53,
     "metadata": {},
     "output_type": "execute_result"
    },
    {
     "data": {
      "image/png": "[encoded data removed]",
      "text/plain": [
       "<Figure size 432x288 with 1 Axes>"
      ]
     },
     "metadata": {
      "needs_background": "light"
     },
     "output_type": "display_data"
    }
   ],
   "source": [
    "lat_point_list = [50.854457, 52.518172, 50.072651, 48.853033, 50.854457]\n",
    "lon_point_list = [4.377184, 13.407759, 14.435935, 2.349553, 4.377184]\n",
    "\n",
    "polygon_geom = Polygon(zip(lon_point_list, lat_point_list))\n",
    "crs = {'init': 'epsg:4326'}\n",
    "polygon = gpd.GeoDataFrame(index=[0], crs=crs, geometry=[polygon_geom])       \n",
    "print(polygon.geometry)\n",
    "\n",
    "polygon.plot()"
   ]
  },
  {
   "cell_type": "code",
   "execution_count": 18,
   "metadata": {},
   "outputs": [
    {
     "ename": "TraitError",
     "evalue": "The 'geo_dataframe' trait of a GeoData instance must be a GeoDataFrame, but a value of class 'list' (i.e. [(-74.42290765358695, 45.39286001598599), (-74.43102886629593, 45.304749544147974), (-74.45130435882973, 45.21762060436458), (-74.48348547224315, 45.1323057616408), (-74.52721388370169, 45.049616639284274), (-74.5820268153558, 44.97033651421593), (-74.64736296746827, 44.89521329343101), (-74.72256907268554, 44.824952917920506), (-74.8069069756517, 44.76021323382723), (-74.89956115070326, 44.701598364618334), (-74.99964657960545, 44.64965361264617), (-75.10621692071173, 44.604860913649276), (-75.21827291013554, 44.56763486349806), (-75.33477094417532, 44.53831933277375), (-75.45463180005838, 44.517184681533564), (-75.5767494588547, 44.504425583792866), (-75.7, 44.50015946877779), (-75.82325054114528, 44.504425583792866), (-75.94536819994161, 44.517184681533564), (-76.06522905582467, 44.538319332773746), (-76.18172708986447, 44.56763486349807), (-76.29378307928829, 44.604860913649276), (-76.40035342039455, 44.64965361264617), (-76.50043884929676, 44.701598364618334), (-76.59309302434829, 44.76021323382723), (-76.67743092731446, 44.824952917920506), (-76.75263703253174, 44.89521329343102), (-76.8179731846442, 44.97033651421592), (-76.87278611629831, 45.049616639284274), (-76.91651452775687, 45.132305761640794), (-76.94869564117027, 45.21762060436459), (-76.96897113370407, 45.304749544147974), (-76.97709234641306, 45.39286001598599), (-76.97292466027376, 45.48110624570844), (-76.95645092776701, 45.568637249705766), (-76.92777384846646, 45.65460503368619), (-76.88711718082747, 45.73817291482957), (-76.83482569028662, 45.818523884534166), (-76.77136374625024, 45.894868922384475), (-76.6973124977633, 45.96645516633109), (-76.61336557957326, 46.03257383970781), (-76.52032332664515, 46.09256783295951), (-76.41908550536326, 46.14583883713008), (-76.31064260280758, 46.19185392753323), (-76.19606575048921, 46.230151499801956), (-76.07649539441185, 46.26034646679444), (-75.95312885778955, 46.28213463363224), (-75.82720697461527, 46.29529617934927), (-75.7, 46.299698187008225), (-75.57279302538474, 46.29529617934927), (-75.44687114221045, 46.28213463363223), (-75.32350460558816, 46.26034646679444), (-75.20393424951081, 46.230151499801956), (-75.08935739719243, 46.19185392753323), (-74.98091449463675, 46.145838837130086), (-74.87967667335485, 46.09256783295952), (-74.78663442042675, 46.03257383970781), (-74.7026875022367, 45.966455166331095), (-74.62863625374976, 45.894868922384475), (-74.56517430971338, 45.818523884534166), (-74.51288281917255, 45.73817291482959), (-74.47222615153356, 45.654605033686195), (-74.443549072233, 45.56863724970577), (-74.42707533972624, 45.481106245708446), (-74.42290765358695, 45.392860015985995), (-74.42290765358695, 45.39286001598599)]) was specified.",
     "output_type": "error",
     "traceback": [
      "\u001b[1;31m---------------------------------------------------------------------------\u001b[0m",
      "\u001b[1;31mTraitError\u001b[0m                                Traceback (most recent call last)",
      "\u001b[1;32m<ipython-input-18-af3ff68a2109>\u001b[0m in \u001b[0;36m<module>\u001b[1;34m\u001b[0m\n\u001b[0;32m     25\u001b[0m                    \u001b[0mstyle\u001b[0m\u001b[1;33m=\u001b[0m\u001b[1;33m{\u001b[0m\u001b[1;34m'color'\u001b[0m\u001b[1;33m:\u001b[0m \u001b[1;34m'black'\u001b[0m\u001b[1;33m,\u001b[0m \u001b[1;34m'fillColor'\u001b[0m\u001b[1;33m:\u001b[0m \u001b[1;34m'#3366cc'\u001b[0m\u001b[1;33m,\u001b[0m \u001b[1;34m'opacity'\u001b[0m\u001b[1;33m:\u001b[0m\u001b[1;36m0.05\u001b[0m\u001b[1;33m,\u001b[0m \u001b[1;34m'weight'\u001b[0m\u001b[1;33m:\u001b[0m\u001b[1;36m1.9\u001b[0m\u001b[1;33m,\u001b[0m \u001b[1;34m'dashArray'\u001b[0m\u001b[1;33m:\u001b[0m\u001b[1;34m'2'\u001b[0m\u001b[1;33m,\u001b[0m \u001b[1;34m'fillOpacity'\u001b[0m\u001b[1;33m:\u001b[0m\u001b[1;36m0.6\u001b[0m\u001b[1;33m}\u001b[0m\u001b[1;33m,\u001b[0m\u001b[1;33m\u001b[0m\u001b[1;33m\u001b[0m\u001b[0m\n\u001b[0;32m     26\u001b[0m                    \u001b[0mhover_style\u001b[0m\u001b[1;33m=\u001b[0m\u001b[1;33m{\u001b[0m\u001b[1;34m'fillColor'\u001b[0m\u001b[1;33m:\u001b[0m \u001b[1;34m'red'\u001b[0m \u001b[1;33m,\u001b[0m \u001b[1;34m'fillOpacity'\u001b[0m\u001b[1;33m:\u001b[0m \u001b[1;36m0.2\u001b[0m\u001b[1;33m}\u001b[0m\u001b[1;33m,\u001b[0m\u001b[1;33m\u001b[0m\u001b[1;33m\u001b[0m\u001b[0m\n\u001b[1;32m---> 27\u001b[1;33m                    name = 'Countries')\n\u001b[0m\u001b[0;32m     28\u001b[0m \u001b[1;33m\u001b[0m\u001b[0m\n\u001b[0;32m     29\u001b[0m \u001b[1;33m\u001b[0m\u001b[0m\n",
      "\u001b[1;32m~\\Anaconda3\\lib\\site-packages\\ipyleaflet\\leaflet.py\u001b[0m in \u001b[0;36m__init__\u001b[1;34m(self, **kwargs)\u001b[0m\n\u001b[0;32m    570\u001b[0m \u001b[1;33m\u001b[0m\u001b[0m\n\u001b[0;32m    571\u001b[0m     \u001b[1;32mdef\u001b[0m \u001b[0m__init__\u001b[0m\u001b[1;33m(\u001b[0m\u001b[0mself\u001b[0m\u001b[1;33m,\u001b[0m \u001b[1;33m**\u001b[0m\u001b[0mkwargs\u001b[0m\u001b[1;33m)\u001b[0m\u001b[1;33m:\u001b[0m\u001b[1;33m\u001b[0m\u001b[1;33m\u001b[0m\u001b[0m\n\u001b[1;32m--> 572\u001b[1;33m         \u001b[0msuper\u001b[0m\u001b[1;33m(\u001b[0m\u001b[0mGeoData\u001b[0m\u001b[1;33m,\u001b[0m \u001b[0mself\u001b[0m\u001b[1;33m)\u001b[0m\u001b[1;33m.\u001b[0m\u001b[0m__init__\u001b[0m\u001b[1;33m(\u001b[0m\u001b[1;33m**\u001b[0m\u001b[0mkwargs\u001b[0m\u001b[1;33m)\u001b[0m\u001b[1;33m\u001b[0m\u001b[1;33m\u001b[0m\u001b[0m\n\u001b[0m\u001b[0;32m    573\u001b[0m         \u001b[0mself\u001b[0m\u001b[1;33m.\u001b[0m\u001b[0mdata\u001b[0m \u001b[1;33m=\u001b[0m \u001b[0mself\u001b[0m\u001b[1;33m.\u001b[0m\u001b[0m_get_data\u001b[0m\u001b[1;33m(\u001b[0m\u001b[1;33m)\u001b[0m\u001b[1;33m\u001b[0m\u001b[1;33m\u001b[0m\u001b[0m\n\u001b[0;32m    574\u001b[0m \u001b[1;33m\u001b[0m\u001b[0m\n",
      "\u001b[1;32m~\\Anaconda3\\lib\\site-packages\\ipyleaflet\\leaflet.py\u001b[0m in \u001b[0;36m__init__\u001b[1;34m(self, **kwargs)\u001b[0m\n\u001b[0;32m    543\u001b[0m \u001b[1;33m\u001b[0m\u001b[0m\n\u001b[0;32m    544\u001b[0m     \u001b[1;32mdef\u001b[0m \u001b[0m__init__\u001b[0m\u001b[1;33m(\u001b[0m\u001b[0mself\u001b[0m\u001b[1;33m,\u001b[0m \u001b[1;33m**\u001b[0m\u001b[0mkwargs\u001b[0m\u001b[1;33m)\u001b[0m\u001b[1;33m:\u001b[0m\u001b[1;33m\u001b[0m\u001b[1;33m\u001b[0m\u001b[0m\n\u001b[1;32m--> 545\u001b[1;33m         \u001b[0msuper\u001b[0m\u001b[1;33m(\u001b[0m\u001b[0mGeoJSON\u001b[0m\u001b[1;33m,\u001b[0m \u001b[0mself\u001b[0m\u001b[1;33m)\u001b[0m\u001b[1;33m.\u001b[0m\u001b[0m__init__\u001b[0m\u001b[1;33m(\u001b[0m\u001b[1;33m**\u001b[0m\u001b[0mkwargs\u001b[0m\u001b[1;33m)\u001b[0m\u001b[1;33m\u001b[0m\u001b[1;33m\u001b[0m\u001b[0m\n\u001b[0m\u001b[0;32m    546\u001b[0m         \u001b[0mself\u001b[0m\u001b[1;33m.\u001b[0m\u001b[0mon_msg\u001b[0m\u001b[1;33m(\u001b[0m\u001b[0mself\u001b[0m\u001b[1;33m.\u001b[0m\u001b[0m_handle_m_msg\u001b[0m\u001b[1;33m)\u001b[0m\u001b[1;33m\u001b[0m\u001b[1;33m\u001b[0m\u001b[0m\n\u001b[0;32m    547\u001b[0m \u001b[1;33m\u001b[0m\u001b[0m\n",
      "\u001b[1;32m~\\Anaconda3\\lib\\site-packages\\ipyleaflet\\leaflet.py\u001b[0m in \u001b[0;36m__init__\u001b[1;34m(self, **kwargs)\u001b[0m\n\u001b[0;32m    100\u001b[0m \u001b[1;33m\u001b[0m\u001b[0m\n\u001b[0;32m    101\u001b[0m     \u001b[1;32mdef\u001b[0m \u001b[0m__init__\u001b[0m\u001b[1;33m(\u001b[0m\u001b[0mself\u001b[0m\u001b[1;33m,\u001b[0m \u001b[1;33m**\u001b[0m\u001b[0mkwargs\u001b[0m\u001b[1;33m)\u001b[0m\u001b[1;33m:\u001b[0m\u001b[1;33m\u001b[0m\u001b[1;33m\u001b[0m\u001b[0m\n\u001b[1;32m--> 102\u001b[1;33m         \u001b[0msuper\u001b[0m\u001b[1;33m(\u001b[0m\u001b[0mLayer\u001b[0m\u001b[1;33m,\u001b[0m \u001b[0mself\u001b[0m\u001b[1;33m)\u001b[0m\u001b[1;33m.\u001b[0m\u001b[0m__init__\u001b[0m\u001b[1;33m(\u001b[0m\u001b[1;33m**\u001b[0m\u001b[0mkwargs\u001b[0m\u001b[1;33m)\u001b[0m\u001b[1;33m\u001b[0m\u001b[1;33m\u001b[0m\u001b[0m\n\u001b[0m\u001b[0;32m    103\u001b[0m         \u001b[0mself\u001b[0m\u001b[1;33m.\u001b[0m\u001b[0mon_msg\u001b[0m\u001b[1;33m(\u001b[0m\u001b[0mself\u001b[0m\u001b[1;33m.\u001b[0m\u001b[0m_handle_mouse_events\u001b[0m\u001b[1;33m)\u001b[0m\u001b[1;33m\u001b[0m\u001b[1;33m\u001b[0m\u001b[0m\n\u001b[0;32m    104\u001b[0m \u001b[1;33m\u001b[0m\u001b[0m\n",
      "\u001b[1;32m~\\Anaconda3\\lib\\site-packages\\ipywidgets\\widgets\\widget.py\u001b[0m in \u001b[0;36m__init__\u001b[1;34m(self, **kwargs)\u001b[0m\n\u001b[0;32m    410\u001b[0m         \u001b[1;34m\"\"\"Public constructor\"\"\"\u001b[0m\u001b[1;33m\u001b[0m\u001b[1;33m\u001b[0m\u001b[0m\n\u001b[0;32m    411\u001b[0m         \u001b[0mself\u001b[0m\u001b[1;33m.\u001b[0m\u001b[0m_model_id\u001b[0m \u001b[1;33m=\u001b[0m \u001b[0mkwargs\u001b[0m\u001b[1;33m.\u001b[0m\u001b[0mpop\u001b[0m\u001b[1;33m(\u001b[0m\u001b[1;34m'model_id'\u001b[0m\u001b[1;33m,\u001b[0m \u001b[1;32mNone\u001b[0m\u001b[1;33m)\u001b[0m\u001b[1;33m\u001b[0m\u001b[1;33m\u001b[0m\u001b[0m\n\u001b[1;32m--> 412\u001b[1;33m         \u001b[0msuper\u001b[0m\u001b[1;33m(\u001b[0m\u001b[0mWidget\u001b[0m\u001b[1;33m,\u001b[0m \u001b[0mself\u001b[0m\u001b[1;33m)\u001b[0m\u001b[1;33m.\u001b[0m\u001b[0m__init__\u001b[0m\u001b[1;33m(\u001b[0m\u001b[1;33m**\u001b[0m\u001b[0mkwargs\u001b[0m\u001b[1;33m)\u001b[0m\u001b[1;33m\u001b[0m\u001b[1;33m\u001b[0m\u001b[0m\n\u001b[0m\u001b[0;32m    413\u001b[0m \u001b[1;33m\u001b[0m\u001b[0m\n\u001b[0;32m    414\u001b[0m         \u001b[0mWidget\u001b[0m\u001b[1;33m.\u001b[0m\u001b[0m_call_widget_constructed\u001b[0m\u001b[1;33m(\u001b[0m\u001b[0mself\u001b[0m\u001b[1;33m)\u001b[0m\u001b[1;33m\u001b[0m\u001b[1;33m\u001b[0m\u001b[0m\n",
      "\u001b[1;32m~\\Anaconda3\\lib\\site-packages\\traitlets\\traitlets.py\u001b[0m in \u001b[0;36m__init__\u001b[1;34m(self, *args, **kwargs)\u001b[0m\n\u001b[0;32m    995\u001b[0m             \u001b[1;32mfor\u001b[0m \u001b[0mkey\u001b[0m\u001b[1;33m,\u001b[0m \u001b[0mvalue\u001b[0m \u001b[1;32min\u001b[0m \u001b[0mkwargs\u001b[0m\u001b[1;33m.\u001b[0m\u001b[0mitems\u001b[0m\u001b[1;33m(\u001b[0m\u001b[1;33m)\u001b[0m\u001b[1;33m:\u001b[0m\u001b[1;33m\u001b[0m\u001b[1;33m\u001b[0m\u001b[0m\n\u001b[0;32m    996\u001b[0m                 \u001b[1;32mif\u001b[0m \u001b[0mself\u001b[0m\u001b[1;33m.\u001b[0m\u001b[0mhas_trait\u001b[0m\u001b[1;33m(\u001b[0m\u001b[0mkey\u001b[0m\u001b[1;33m)\u001b[0m\u001b[1;33m:\u001b[0m\u001b[1;33m\u001b[0m\u001b[1;33m\u001b[0m\u001b[0m\n\u001b[1;32m--> 997\u001b[1;33m                     \u001b[0msetattr\u001b[0m\u001b[1;33m(\u001b[0m\u001b[0mself\u001b[0m\u001b[1;33m,\u001b[0m \u001b[0mkey\u001b[0m\u001b[1;33m,\u001b[0m \u001b[0mvalue\u001b[0m\u001b[1;33m)\u001b[0m\u001b[1;33m\u001b[0m\u001b[1;33m\u001b[0m\u001b[0m\n\u001b[0m\u001b[0;32m    998\u001b[0m                 \u001b[1;32melse\u001b[0m\u001b[1;33m:\u001b[0m\u001b[1;33m\u001b[0m\u001b[1;33m\u001b[0m\u001b[0m\n\u001b[0;32m    999\u001b[0m                     \u001b[1;31m# passthrough args that don't set traits to super\u001b[0m\u001b[1;33m\u001b[0m\u001b[1;33m\u001b[0m\u001b[1;33m\u001b[0m\u001b[0m\n",
      "\u001b[1;32m~\\Anaconda3\\lib\\site-packages\\traitlets\\traitlets.py\u001b[0m in \u001b[0;36m__set__\u001b[1;34m(self, obj, value)\u001b[0m\n\u001b[0;32m    583\u001b[0m             \u001b[1;32mraise\u001b[0m \u001b[0mTraitError\u001b[0m\u001b[1;33m(\u001b[0m\u001b[1;34m'The \"%s\" trait is read-only.'\u001b[0m \u001b[1;33m%\u001b[0m \u001b[0mself\u001b[0m\u001b[1;33m.\u001b[0m\u001b[0mname\u001b[0m\u001b[1;33m)\u001b[0m\u001b[1;33m\u001b[0m\u001b[1;33m\u001b[0m\u001b[0m\n\u001b[0;32m    584\u001b[0m         \u001b[1;32melse\u001b[0m\u001b[1;33m:\u001b[0m\u001b[1;33m\u001b[0m\u001b[1;33m\u001b[0m\u001b[0m\n\u001b[1;32m--> 585\u001b[1;33m             \u001b[0mself\u001b[0m\u001b[1;33m.\u001b[0m\u001b[0mset\u001b[0m\u001b[1;33m(\u001b[0m\u001b[0mobj\u001b[0m\u001b[1;33m,\u001b[0m \u001b[0mvalue\u001b[0m\u001b[1;33m)\u001b[0m\u001b[1;33m\u001b[0m\u001b[1;33m\u001b[0m\u001b[0m\n\u001b[0m\u001b[0;32m    586\u001b[0m \u001b[1;33m\u001b[0m\u001b[0m\n\u001b[0;32m    587\u001b[0m     \u001b[1;32mdef\u001b[0m \u001b[0m_validate\u001b[0m\u001b[1;33m(\u001b[0m\u001b[0mself\u001b[0m\u001b[1;33m,\u001b[0m \u001b[0mobj\u001b[0m\u001b[1;33m,\u001b[0m \u001b[0mvalue\u001b[0m\u001b[1;33m)\u001b[0m\u001b[1;33m:\u001b[0m\u001b[1;33m\u001b[0m\u001b[1;33m\u001b[0m\u001b[0m\n",
      "\u001b[1;32m~\\Anaconda3\\lib\\site-packages\\traitlets\\traitlets.py\u001b[0m in \u001b[0;36mset\u001b[1;34m(self, obj, value)\u001b[0m\n\u001b[0;32m    557\u001b[0m \u001b[1;33m\u001b[0m\u001b[0m\n\u001b[0;32m    558\u001b[0m     \u001b[1;32mdef\u001b[0m \u001b[0mset\u001b[0m\u001b[1;33m(\u001b[0m\u001b[0mself\u001b[0m\u001b[1;33m,\u001b[0m \u001b[0mobj\u001b[0m\u001b[1;33m,\u001b[0m \u001b[0mvalue\u001b[0m\u001b[1;33m)\u001b[0m\u001b[1;33m:\u001b[0m\u001b[1;33m\u001b[0m\u001b[1;33m\u001b[0m\u001b[0m\n\u001b[1;32m--> 559\u001b[1;33m         \u001b[0mnew_value\u001b[0m \u001b[1;33m=\u001b[0m \u001b[0mself\u001b[0m\u001b[1;33m.\u001b[0m\u001b[0m_validate\u001b[0m\u001b[1;33m(\u001b[0m\u001b[0mobj\u001b[0m\u001b[1;33m,\u001b[0m \u001b[0mvalue\u001b[0m\u001b[1;33m)\u001b[0m\u001b[1;33m\u001b[0m\u001b[1;33m\u001b[0m\u001b[0m\n\u001b[0m\u001b[0;32m    560\u001b[0m         \u001b[1;32mtry\u001b[0m\u001b[1;33m:\u001b[0m\u001b[1;33m\u001b[0m\u001b[1;33m\u001b[0m\u001b[0m\n\u001b[0;32m    561\u001b[0m             \u001b[0mold_value\u001b[0m \u001b[1;33m=\u001b[0m \u001b[0mobj\u001b[0m\u001b[1;33m.\u001b[0m\u001b[0m_trait_values\u001b[0m\u001b[1;33m[\u001b[0m\u001b[0mself\u001b[0m\u001b[1;33m.\u001b[0m\u001b[0mname\u001b[0m\u001b[1;33m]\u001b[0m\u001b[1;33m\u001b[0m\u001b[1;33m\u001b[0m\u001b[0m\n",
      "\u001b[1;32m~\\Anaconda3\\lib\\site-packages\\traitlets\\traitlets.py\u001b[0m in \u001b[0;36m_validate\u001b[1;34m(self, obj, value)\u001b[0m\n\u001b[0;32m    589\u001b[0m             \u001b[1;32mreturn\u001b[0m \u001b[0mvalue\u001b[0m\u001b[1;33m\u001b[0m\u001b[1;33m\u001b[0m\u001b[0m\n\u001b[0;32m    590\u001b[0m         \u001b[1;32mif\u001b[0m \u001b[0mhasattr\u001b[0m\u001b[1;33m(\u001b[0m\u001b[0mself\u001b[0m\u001b[1;33m,\u001b[0m \u001b[1;34m'validate'\u001b[0m\u001b[1;33m)\u001b[0m\u001b[1;33m:\u001b[0m\u001b[1;33m\u001b[0m\u001b[1;33m\u001b[0m\u001b[0m\n\u001b[1;32m--> 591\u001b[1;33m             \u001b[0mvalue\u001b[0m \u001b[1;33m=\u001b[0m \u001b[0mself\u001b[0m\u001b[1;33m.\u001b[0m\u001b[0mvalidate\u001b[0m\u001b[1;33m(\u001b[0m\u001b[0mobj\u001b[0m\u001b[1;33m,\u001b[0m \u001b[0mvalue\u001b[0m\u001b[1;33m)\u001b[0m\u001b[1;33m\u001b[0m\u001b[1;33m\u001b[0m\u001b[0m\n\u001b[0m\u001b[0;32m    592\u001b[0m         \u001b[1;32mif\u001b[0m \u001b[0mobj\u001b[0m\u001b[1;33m.\u001b[0m\u001b[0m_cross_validation_lock\u001b[0m \u001b[1;32mis\u001b[0m \u001b[1;32mFalse\u001b[0m\u001b[1;33m:\u001b[0m\u001b[1;33m\u001b[0m\u001b[1;33m\u001b[0m\u001b[0m\n\u001b[0;32m    593\u001b[0m             \u001b[0mvalue\u001b[0m \u001b[1;33m=\u001b[0m \u001b[0mself\u001b[0m\u001b[1;33m.\u001b[0m\u001b[0m_cross_validate\u001b[0m\u001b[1;33m(\u001b[0m\u001b[0mobj\u001b[0m\u001b[1;33m,\u001b[0m \u001b[0mvalue\u001b[0m\u001b[1;33m)\u001b[0m\u001b[1;33m\u001b[0m\u001b[1;33m\u001b[0m\u001b[0m\n",
      "\u001b[1;32m~\\Anaconda3\\lib\\site-packages\\traitlets\\traitlets.py\u001b[0m in \u001b[0;36mvalidate\u001b[1;34m(self, obj, value)\u001b[0m\n\u001b[0;32m   1675\u001b[0m             \u001b[1;32mreturn\u001b[0m \u001b[0mvalue\u001b[0m\u001b[1;33m\u001b[0m\u001b[1;33m\u001b[0m\u001b[0m\n\u001b[0;32m   1676\u001b[0m         \u001b[1;32melse\u001b[0m\u001b[1;33m:\u001b[0m\u001b[1;33m\u001b[0m\u001b[1;33m\u001b[0m\u001b[0m\n\u001b[1;32m-> 1677\u001b[1;33m             \u001b[0mself\u001b[0m\u001b[1;33m.\u001b[0m\u001b[0merror\u001b[0m\u001b[1;33m(\u001b[0m\u001b[0mobj\u001b[0m\u001b[1;33m,\u001b[0m \u001b[0mvalue\u001b[0m\u001b[1;33m)\u001b[0m\u001b[1;33m\u001b[0m\u001b[1;33m\u001b[0m\u001b[0m\n\u001b[0m\u001b[0;32m   1678\u001b[0m \u001b[1;33m\u001b[0m\u001b[0m\n\u001b[0;32m   1679\u001b[0m     \u001b[1;32mdef\u001b[0m \u001b[0minfo\u001b[0m\u001b[1;33m(\u001b[0m\u001b[0mself\u001b[0m\u001b[1;33m)\u001b[0m\u001b[1;33m:\u001b[0m\u001b[1;33m\u001b[0m\u001b[1;33m\u001b[0m\u001b[0m\n",
      "\u001b[1;32m~\\Anaconda3\\lib\\site-packages\\traitlets\\traitlets.py\u001b[0m in \u001b[0;36merror\u001b[1;34m(self, obj, value)\u001b[0m\n\u001b[0;32m   1522\u001b[0m                 \u001b[1;33m%\u001b[0m \u001b[1;33m(\u001b[0m\u001b[0mself\u001b[0m\u001b[1;33m.\u001b[0m\u001b[0mname\u001b[0m\u001b[1;33m,\u001b[0m \u001b[0mself\u001b[0m\u001b[1;33m.\u001b[0m\u001b[0minfo\u001b[0m\u001b[1;33m(\u001b[0m\u001b[1;33m)\u001b[0m\u001b[1;33m,\u001b[0m \u001b[0mmsg\u001b[0m\u001b[1;33m)\u001b[0m\u001b[1;33m\u001b[0m\u001b[1;33m\u001b[0m\u001b[0m\n\u001b[0;32m   1523\u001b[0m \u001b[1;33m\u001b[0m\u001b[0m\n\u001b[1;32m-> 1524\u001b[1;33m         \u001b[1;32mraise\u001b[0m \u001b[0mTraitError\u001b[0m\u001b[1;33m(\u001b[0m\u001b[0me\u001b[0m\u001b[1;33m)\u001b[0m\u001b[1;33m\u001b[0m\u001b[1;33m\u001b[0m\u001b[0m\n\u001b[0m\u001b[0;32m   1525\u001b[0m \u001b[1;33m\u001b[0m\u001b[0m\n\u001b[0;32m   1526\u001b[0m \u001b[1;33m\u001b[0m\u001b[0m\n",
      "\u001b[1;31mTraitError\u001b[0m: The 'geo_dataframe' trait of a GeoData instance must be a GeoDataFrame, but a value of class 'list' (i.e. [(-74.42290765358695, 45.39286001598599), (-74.43102886629593, 45.304749544147974), (-74.45130435882973, 45.21762060436458), (-74.48348547224315, 45.1323057616408), (-74.52721388370169, 45.049616639284274), (-74.5820268153558, 44.97033651421593), (-74.64736296746827, 44.89521329343101), (-74.72256907268554, 44.824952917920506), (-74.8069069756517, 44.76021323382723), (-74.89956115070326, 44.701598364618334), (-74.99964657960545, 44.64965361264617), (-75.10621692071173, 44.604860913649276), (-75.21827291013554, 44.56763486349806), (-75.33477094417532, 44.53831933277375), (-75.45463180005838, 44.517184681533564), (-75.5767494588547, 44.504425583792866), (-75.7, 44.50015946877779), (-75.82325054114528, 44.504425583792866), (-75.94536819994161, 44.517184681533564), (-76.06522905582467, 44.538319332773746), (-76.18172708986447, 44.56763486349807), (-76.29378307928829, 44.604860913649276), (-76.40035342039455, 44.64965361264617), (-76.50043884929676, 44.701598364618334), (-76.59309302434829, 44.76021323382723), (-76.67743092731446, 44.824952917920506), (-76.75263703253174, 44.89521329343102), (-76.8179731846442, 44.97033651421592), (-76.87278611629831, 45.049616639284274), (-76.91651452775687, 45.132305761640794), (-76.94869564117027, 45.21762060436459), (-76.96897113370407, 45.304749544147974), (-76.97709234641306, 45.39286001598599), (-76.97292466027376, 45.48110624570844), (-76.95645092776701, 45.568637249705766), (-76.92777384846646, 45.65460503368619), (-76.88711718082747, 45.73817291482957), (-76.83482569028662, 45.818523884534166), (-76.77136374625024, 45.894868922384475), (-76.6973124977633, 45.96645516633109), (-76.61336557957326, 46.03257383970781), (-76.52032332664515, 46.09256783295951), (-76.41908550536326, 46.14583883713008), (-76.31064260280758, 46.19185392753323), (-76.19606575048921, 46.230151499801956), (-76.07649539441185, 46.26034646679444), (-75.95312885778955, 46.28213463363224), (-75.82720697461527, 46.29529617934927), (-75.7, 46.299698187008225), (-75.57279302538474, 46.29529617934927), (-75.44687114221045, 46.28213463363223), (-75.32350460558816, 46.26034646679444), (-75.20393424951081, 46.230151499801956), (-75.08935739719243, 46.19185392753323), (-74.98091449463675, 46.145838837130086), (-74.87967667335485, 46.09256783295952), (-74.78663442042675, 46.03257383970781), (-74.7026875022367, 45.966455166331095), (-74.62863625374976, 45.894868922384475), (-74.56517430971338, 45.818523884534166), (-74.51288281917255, 45.73817291482959), (-74.47222615153356, 45.654605033686195), (-74.443549072233, 45.56863724970577), (-74.42707533972624, 45.481106245708446), (-74.42290765358695, 45.392860015985995), (-74.42290765358695, 45.39286001598599)]) was specified."
     ]
    }
   ],
   "source": [
    "from functools import partial\n",
    "import pyproj\n",
    "from shapely.ops import transform\n",
    "from shapely.geometry import Point\n",
    "\n",
    "proj_wgs84 = pyproj.Proj(init='epsg:4326')\n",
    "\n",
    "\n",
    "def geodesic_point_buffer(lat, lon, km):\n",
    "    # Azimuthal equidistant projection\n",
    "    aeqd_proj = '+proj=aeqd +lat_0={lat} +lon_0={lon} +x_0=0 +y_0=0'\n",
    "    project = partial(\n",
    "        pyproj.transform,\n",
    "        pyproj.Proj(aeqd_proj.format(lat=lat, lon=lon)),\n",
    "        proj_wgs84)\n",
    "    buf = Point(0, 0).buffer(km * 1000)  # distance in metres\n",
    "    return transform(project, buf).exterior.coords[:]\n",
    "\n",
    "# Example\n",
    "b = geodesic_point_buffer(45.4, -75.7, 100.0)\n",
    "\n",
    "# print(b)\n",
    "\n",
    "df3 = pd.DataFrame(b)\n",
    "print(df3)\n",
    "\n",
    "df=df2.transpose()\n",
    "df.columns=['Latitude','Longitude']\n",
    "df.head()\n",
    "\n",
    "geo_data = GeoData(geo_dataframe = b,\n",
    "                   style={'color': 'black', 'fillColor': '#3366cc', 'opacity':0.05, 'weight':1.9, 'dashArray':'2', 'fillOpacity':0.6},\n",
    "                   hover_style={'fillColor': 'red' , 'fillOpacity': 0.2},\n",
    "                   name = 'Countries')\n",
    "\n",
    "\n",
    "m.add_layer(geo_data)\n",
    "# m.add_control(LayersControl())\n",
    "\n",
    "m"
   ]
  },
  {
   "cell_type": "code",
   "execution_count": null,
   "metadata": {},
   "outputs": [],
   "source": [
    "#Make vector that covers the entirety of base map extent \n",
    "#calculate difference with the circle \n",
    "#then you have the highlighted map\n"
   ]
  },
  {
   "cell_type": "code",
   "execution_count": 26,
   "metadata": {},
   "outputs": [
    {
     "data": {
      "text/plain": [
       "<matplotlib.axes._subplots.AxesSubplot at 0x269283cb048>"
      ]
     },
     "execution_count": 26,
     "metadata": {},
     "output_type": "execute_result"
    },
    {
     "data": {
      "image/png": "[encoded data removed]",
      "text/plain": [
       "<Figure size 432x288 with 1 Axes>"
      ]
     },
     "metadata": {
      "needs_background": "light"
     },
     "output_type": "display_data"
    }
   ],
   "source": [
    "df3 = pd.DataFrame(b)\n",
    "# print(df3)\n",
    "# df4=df3.transpose()\n",
    "df3.columns=['Longitude','Latitude']\n",
    "df3.head()\n",
    "\n",
    "df3.plot()"
   ]
  },
  {
   "cell_type": "code",
   "execution_count": 27,
   "metadata": {},
   "outputs": [
    {
     "name": "stdout",
     "output_type": "stream",
     "text": [
      "[(915884.0, 5042590.0), (915885.7452406437, 5042589.984769516), (915887.4899496703, 5042589.939082702), (915889.2335956243, 5042589.862953476), (915890.9756473744, 5042589.756405026), (915892.7155742748, 5042589.619469809), (915894.4528463267, 5042589.452189537), (915896.1869343405, 5042589.254615164), (915897.917310096, 5042589.026806874), (915899.643446504, 5042588.768834059), (915901.3648177667, 5042588.480775301), (915903.0808995377, 5042588.1627183445), (915904.7911690818, 5042587.814760073), (915906.4951054344, 5042587.437006478), (915908.1921895599, 5042587.0295726275), (915909.8819045102, 5042586.592582629), (915911.5637355817, 5042586.126169594), (915913.2371704723, 5042585.6304755965), (915914.9016994375, 5042585.105651629), (915916.5568154458, 5042584.55185756), (915918.2020143325, 5042583.969262078), (915919.8367949545, 5042583.35804265), (915921.4606593415, 5042582.718385457), (915923.0731128489, 5042582.050485346), (915924.6736643076, 5042581.354545765), (915926.2618261741, 5042580.630778704), (915927.8371146789, 5042579.87940463), (915929.3990499739, 5042579.100652419), (915930.9471562785, 5042578.294759286), (915932.4809620247, 5042577.461970714), (915934.0, 5042576.602540378), (915935.503807491, 5042575.71673007), (915936.9919264233, 5042574.804809616), (915938.4639035015, 5042573.867056794), (915939.919290347, 5042572.9037572555), (915941.3576436351, 5042571.915204429), (915942.7785252292, 5042570.901699438), (915944.1815023152, 5042569.863551005), (915945.5661475325, 5042568.801075361), (915946.932039105, 5042567.714596146), (915948.2787609687, 5042566.604444312), (915949.605902899, 5042565.470958022), (915950.9130606359, 5042564.314482547), (915952.1998360063, 5042563.135370162), (915953.4658370459, 5042561.933980034), (915954.7106781186, 5042560.710678118), (915955.9339800338, 5042559.465837046), (915957.135370162, 5042558.199836006), (915958.3144825477, 5042556.913060636), (915959.4709580223, 5042555.605902899), (915960.6044443119, 5042554.278760969), (915961.7145961457, 5042552.932039105), (915962.8010753606, 5042551.566147532), (915963.8635510047, 5042550.181502315), (915964.9016994375, 5042548.77852523), (915965.915204429, 5042547.357643635), (915966.9037572555, 5042545.919290347), (915967.8670567946, 5042544.463903502), (915968.8048096156, 5042542.991926423), (915969.7167300702, 5042541.503807491), (915970.6025403785, 5042540.0), (915971.4619707139, 5042538.480962025), (915972.2947592859, 5042536.947156278), (915973.1006524188, 5042535.399049974), (915973.8794046299, 5042533.837114679), (915974.6307787037, 5042532.261826174), (915975.3545457643, 5042530.673664307), (915976.0504853453, 5042529.073112849), (915976.7183854567, 5042527.460659342), (915977.3580426497, 5042525.836794955), (915977.9692620786, 5042524.202014333), (915978.5518575599, 5042522.556815445), (915979.1056516295, 5042520.901699438), (915979.6304755963, 5042519.237170472), (915980.1261695939, 5042517.563735582), (915980.592582629, 5042515.88190451), (915981.0295726276, 5042514.19218956), (915981.4370064785, 5042512.495105434), (915981.8147600734, 5042510.791169082), (915982.1627183447, 5042509.080899538), (915982.4807753012, 5042507.3648177665), (915982.7688340595, 5042505.643446504), (915983.0268068742, 5042503.917310096), (915983.2546151641, 5042502.186934341), (915983.4521895369, 5042500.452846327), (915983.6194698092, 5042498.715574275), (915983.756405026, 5042496.975647374), (915983.8629534754, 5042495.233595625), (915983.9390827019, 5042493.489949671), (915983.9847695157, 5042491.745240644), (915984.0, 5042490.0), (915983.9847695157, 5042488.254759356), (915983.9390827019, 5042486.510050329), (915983.8629534754, 5042484.766404375), (915983.756405026, 5042483.024352626), (915983.6194698092, 5042481.284425725), (915983.4521895369, 5042479.547153673), (915983.2546151641, 5042477.813065659), (915983.0268068742, 5042476.082689904), (915982.7688340595, 5042474.356553496), (915982.4807753012, 5042472.6351822335), (915982.1627183447, 5042470.919100462), (915981.8147600734, 5042469.208830918), (915981.4370064785, 5042467.504894566), (915981.0295726276, 5042465.80781044), (915980.592582629, 5042464.11809549), (915980.1261695939, 5042462.436264418), (915979.6304755963, 5042460.762829528), (915979.1056516295, 5042459.098300562), (915978.5518575599, 5042457.443184555), (915977.9692620786, 5042455.797985667), (915977.3580426497, 5042454.163205045), (915976.7183854567, 5042452.539340658), (915976.0504853453, 5042450.926887151), (915975.3545457643, 5042449.326335693), (915974.6307787037, 5042447.738173826), (915973.8794046299, 5042446.162885321), (915973.1006524188, 5042444.600950026), (915972.2947592859, 5042443.052843722), (915971.4619707139, 5042441.519037975), (915970.6025403785, 5042440.0), (915969.7167300702, 5042438.496192509), (915968.8048096156, 5042437.008073577), (915967.8670567946, 5042435.536096498), (915966.9037572555, 5042434.080709653), (915965.915204429, 5042432.642356365), (915964.9016994375, 5042431.22147477), (915963.8635510047, 5042429.818497685), (915962.8010753606, 5042428.433852468), (915961.7145961457, 5042427.067960895), (915960.6044443119, 5042425.721239031), (915959.4709580223, 5042424.394097101), (915958.3144825477, 5042423.086939364), (915957.135370162, 5042421.800163994), (915955.9339800338, 5042420.534162954), (915954.7106781186, 5042419.289321882), (915953.4658370459, 5042418.066019966), (915952.1998360063, 5042416.864629838), (915950.9130606359, 5042415.685517453), (915949.605902899, 5042414.529041978), (915948.2787609687, 5042413.395555688), (915946.932039105, 5042412.285403854), (915945.5661475325, 5042411.198924639), (915944.1815023152, 5042410.136448995), (915942.7785252292, 5042409.098300562), (915941.3576436351, 5042408.084795571), (915939.919290347, 5042407.0962427445), (915938.4639035015, 5042406.132943206), (915936.9919264233, 5042405.195190384), (915935.503807491, 5042404.28326993), (915934.0, 5042403.397459622), (915932.4809620247, 5042402.538029286), (915930.9471562785, 5042401.705240714), (915929.3990499739, 5042400.899347581), (915927.8371146789, 5042400.12059537), (915926.2618261741, 5042399.369221296), (915924.6736643076, 5042398.645454235), (915923.0731128489, 5042397.949514654), (915921.4606593415, 5042397.281614543), (915919.8367949545, 5042396.64195735), (915918.2020143325, 5042396.030737922), (915916.5568154458, 5042395.44814244), (915914.9016994375, 5042394.894348371), (915913.2371704723, 5042394.3695244035), (915911.5637355817, 5042393.873830406), (915909.8819045102, 5042393.407417371), (915908.1921895599, 5042392.9704273725), (915906.4951054344, 5042392.562993522), (915904.7911690818, 5042392.185239927), (915903.0808995377, 5042391.8372816555), (915901.3648177667, 5042391.519224699), (915899.643446504, 5042391.231165941), (915897.917310096, 5042390.973193126), (915896.1869343405, 5042390.745384836), (915894.4528463267, 5042390.547810463), (915892.7155742748, 5042390.380530191), (915890.9756473744, 5042390.243594974), (915889.2335956243, 5042390.137046524), (915887.4899496703, 5042390.060917298), (915885.7452406437, 5042390.015230484), (915884.0, 5042390.0), (915882.2547593563, 5042390.015230484), (915880.5100503297, 5042390.060917298), (915878.7664043757, 5042390.137046524), (915877.0243526256, 5042390.243594974), (915875.2844257252, 5042390.380530191), (915873.5471536733, 5042390.547810463), (915871.8130656595, 5042390.745384836), (915870.082689904, 5042390.973193126), (915868.356553496, 5042391.231165941), (915866.6351822333, 5042391.519224699), (915864.9191004623, 5042391.8372816555), (915863.2088309182, 5042392.185239927), (915861.5048945656, 5042392.562993522), (915859.8078104401, 5042392.9704273725), (915858.1180954898, 5042393.407417371), (915856.4362644183, 5042393.873830406), (915854.7628295277, 5042394.3695244035), (915853.0983005625, 5042394.894348371), (915851.4431845542, 5042395.44814244), (915849.7979856675, 5042396.030737922), (915848.1632050455, 5042396.64195735), (915846.5393406585, 5042397.281614543), (915844.9268871511, 5042397.949514654), (915843.3263356924, 5042398.645454235), (915841.7381738259, 5042399.369221296), (915840.1628853211, 5042400.12059537), (915838.6009500261, 5042400.899347581), (915837.0528437215, 5042401.705240714), (915835.5190379753, 5042402.538029286), (915834.0, 5042403.397459622), (915832.496192509, 5042404.28326993), (915831.0080735767, 5042405.195190384), (915829.5360964985, 5042406.132943206), (915828.080709653, 5042407.0962427445), (915826.6423563649, 5042408.084795571), (915825.2214747708, 5042409.098300562), (915823.8184976848, 5042410.136448995), (915822.4338524675, 5042411.198924639), (915821.067960895, 5042412.285403854), (915819.7212390313, 5042413.395555688), (915818.394097101, 5042414.529041978), (915817.0869393641, 5042415.685517453), (915815.8001639937, 5042416.864629838), (915814.5341629541, 5042418.066019966), (915813.2893218814, 5042419.289321882), (915812.0660199662, 5042420.534162954), (915810.864629838, 5042421.800163994), (915809.6855174523, 5042423.086939364), (915808.5290419777, 5042424.394097101), (915807.3955556881, 5042425.721239031), (915806.2854038543, 5042427.067960895), (915805.1989246394, 5042428.433852468), (915804.1364489953, 5042429.818497685), (915803.0983005625, 5042431.22147477), (915802.084795571, 5042432.642356365), (915801.0962427445, 5042434.080709653), (915800.1329432054, 5042435.536096498), (915799.1951903844, 5042437.008073577), (915798.2832699298, 5042438.496192509), (915797.3974596215, 5042440.0), (915796.5380292861, 5042441.519037975), (915795.7052407141, 5042443.052843722), (915794.8993475812, 5042444.600950026), (915794.1205953701, 5042446.162885321), (915793.3692212963, 5042447.738173826), (915792.6454542357, 5042449.326335693), (915791.9495146547, 5042450.926887151), (915791.2816145433, 5042452.539340658), (915790.6419573503, 5042454.163205045), (915790.0307379214, 5042455.797985667), (915789.4481424401, 5042457.443184555), (915788.8943483705, 5042459.098300562), (915788.3695244037, 5042460.762829528), (915787.8738304061, 5042462.436264418), (915787.407417371, 5042464.11809549), (915786.9704273724, 5042465.80781044), (915786.5629935215, 5042467.504894566), (915786.1852399266, 5042469.208830918), (915785.8372816553, 5042470.919100462), (915785.5192246988, 5042472.6351822335), (915785.2311659405, 5042474.356553496), (915784.9731931258, 5042476.082689904), (915784.7453848359, 5042477.813065659), (915784.5478104631, 5042479.547153673), (915784.3805301908, 5042481.284425725), (915784.243594974, 5042483.024352626), (915784.1370465246, 5042484.766404375), (915784.0609172981, 5042486.510050329), (915784.0152304843, 5042488.254759356), (915784.0, 5042490.0), (915784.0152304843, 5042491.745240644), (915784.0609172981, 5042493.489949671), (915784.1370465246, 5042495.233595625), (915784.243594974, 5042496.975647374), (915784.3805301908, 5042498.715574275), (915784.5478104631, 5042500.452846327), (915784.7453848359, 5042502.186934341), (915784.9731931258, 5042503.917310096), (915785.2311659405, 5042505.643446504), (915785.5192246988, 5042507.3648177665), (915785.8372816553, 5042509.080899538), (915786.1852399266, 5042510.791169082), (915786.5629935215, 5042512.495105434), (915786.9704273724, 5042514.19218956), (915787.407417371, 5042515.88190451), (915787.8738304061, 5042517.563735582), (915788.3695244037, 5042519.237170472), (915788.8943483705, 5042520.901699438), (915789.4481424401, 5042522.556815445), (915790.0307379214, 5042524.202014333), (915790.6419573503, 5042525.836794955), (915791.2816145433, 5042527.460659342), (915791.9495146547, 5042529.073112849), (915792.6454542357, 5042530.673664307), (915793.3692212963, 5042532.261826174), (915794.1205953701, 5042533.837114679), (915794.8993475812, 5042535.399049974), (915795.7052407141, 5042536.947156278), (915796.5380292861, 5042538.480962025), (915797.3974596215, 5042540.0), (915798.2832699298, 5042541.503807491), (915799.1951903844, 5042542.991926423), (915800.1329432054, 5042544.463903502), (915801.0962427445, 5042545.919290347), (915802.084795571, 5042547.357643635), (915803.0983005625, 5042548.77852523), (915804.1364489953, 5042550.181502315), (915805.1989246394, 5042551.566147532), (915806.2854038543, 5042552.932039105), (915807.3955556881, 5042554.278760969), (915808.5290419777, 5042555.605902899), (915809.6855174523, 5042556.913060636), (915810.864629838, 5042558.199836006), (915812.0660199662, 5042559.465837046), (915813.2893218814, 5042560.710678118), (915814.5341629541, 5042561.933980034), (915815.8001639937, 5042563.135370162), (915817.0869393641, 5042564.314482547), (915818.394097101, 5042565.470958022), (915819.7212390313, 5042566.604444312), (915821.067960895, 5042567.714596146), (915822.4338524675, 5042568.801075361), (915823.8184976848, 5042569.863551005), (915825.2214747708, 5042570.901699438), (915826.6423563649, 5042571.915204429), (915828.080709653, 5042572.9037572555), (915829.5360964985, 5042573.867056794), (915831.0080735767, 5042574.804809616), (915832.496192509, 5042575.71673007), (915834.0, 5042576.602540378), (915835.5190379753, 5042577.461970714), (915837.0528437215, 5042578.294759286), (915838.6009500261, 5042579.100652419), (915840.1628853211, 5042579.87940463), (915841.7381738259, 5042580.630778704), (915843.3263356924, 5042581.354545765), (915844.9268871511, 5042582.050485346), (915846.5393406585, 5042582.718385457), (915848.1632050455, 5042583.35804265), (915849.7979856675, 5042583.969262078), (915851.4431845542, 5042584.55185756), (915853.0983005625, 5042585.105651629), (915854.7628295277, 5042585.6304755965), (915856.4362644183, 5042586.126169594), (915858.1180954898, 5042586.592582629), (915859.8078104401, 5042587.0295726275), (915861.5048945656, 5042587.437006478), (915863.2088309182, 5042587.814760073), (915864.9191004623, 5042588.1627183445), (915866.6351822333, 5042588.480775301), (915868.356553496, 5042588.768834059), (915870.082689904, 5042589.026806874), (915871.8130656595, 5042589.254615164), (915873.5471536733, 5042589.452189537), (915875.2844257252, 5042589.619469809), (915877.0243526256, 5042589.756405026), (915878.7664043757, 5042589.862953476), (915880.5100503297, 5042589.939082702), (915882.2547593563, 5042589.984769516)]\n"
     ]
    }
   ],
   "source": [
    "import numpy as np\n",
    "\n",
    "bufferLength = 100  # 0.1 km\n",
    "polygonSides = 360\n",
    "\n",
    "x = 915884\n",
    "y = 5042490\n",
    "\n",
    "angles = np.linspace(0, 2 * np.pi, polygonSides, endpoint=False)\n",
    "points_list = [(x + np.sin(a) * bufferLength,\n",
    "                y + np.cos(a) * bufferLength)\n",
    "               for a in angles]\n",
    "\n",
    "print(points_list)"
   ]
  },
  {
   "cell_type": "code",
   "execution_count": 45,
   "metadata": {},
   "outputs": [
    {
     "data": {
      "application/vnd.jupyter.widget-view+json": {
       "model_id": "326a6fd45d9e430d96866ab2e6a469e5",
       "version_major": 2,
       "version_minor": 0
      },
      "text/plain": [
       "Map(center=[53, 354], controls=(ZoomControl(options=['position', 'zoom_in_text', 'zoom_in_title', 'zoom_out_te…"
      ]
     },
     "metadata": {},
     "output_type": "display_data"
    }
   ],
   "source": [
    "from ipyleaflet import Map, basemaps, basemap_to_tiles, Rectangle\n",
    "\n",
    "watercolor = basemap_to_tiles(basemaps.Stamen.Watercolor)\n",
    "\n",
    "m = Map(layers=(watercolor, ), center=(53, 354), zoom=0)\n",
    "\n",
    "rectangle = Rectangle(bounds=((0, 0), (400, 400)))\n",
    "\n",
    "m.add_layer(rectangle)\n",
    "\n",
    "m"
   ]
  },
  {
   "cell_type": "code",
   "execution_count": null,
   "metadata": {},
   "outputs": [],
   "source": []
  },
  {
   "cell_type": "code",
   "execution_count": null,
   "metadata": {},
   "outputs": [],
   "source": []
  },
  {
   "cell_type": "code",
   "execution_count": null,
   "metadata": {},
   "outputs": [],
   "source": []
  },
  {
   "cell_type": "code",
   "execution_count": null,
   "metadata": {},
   "outputs": [],
   "source": []
  },
  {
   "cell_type": "code",
   "execution_count": null,
   "metadata": {},
   "outputs": [],
   "source": []
  },
  {
   "cell_type": "code",
   "execution_count": null,
   "metadata": {},
   "outputs": [],
   "source": []
  },
  {
   "cell_type": "code",
   "execution_count": null,
   "metadata": {},
   "outputs": [],
   "source": []
  },
  {
   "cell_type": "code",
   "execution_count": null,
   "metadata": {},
   "outputs": [],
   "source": [
    "\n",
    "# import ipywidgets\n",
    "from arcgis.gis import GIS\n",
    "\n",
    "gis = GIS() # Connect to ArcGIS Online as an anonymous user"
   ]
  },
  {
   "cell_type": "code",
   "execution_count": null,
   "metadata": {},
   "outputs": [],
   "source": [
    "m = gis.map(\"New York, NY\", zoomlevel=11)\n",
    "geo_data = GeoData(geo_dataframe = test,\n",
    "                   style={'color': 'black', 'fillColor': '#3366cc', 'opacity':0.05, 'weight':1.9, 'dashArray':'2', 'fillOpacity':0.6},\n",
    "                   hover_style={'fillColor': 'red' , 'fillOpacity': 0.2},\n",
    "                   name = 'Countries')\n",
    "\n",
    "\n",
    "m.add_layer(geo_data)\n",
    "m\n",
    "\n",
    "# map2.toggle_window_view()"
   ]
  },
  {
   "cell_type": "code",
   "execution_count": null,
   "metadata": {},
   "outputs": [],
   "source": []
  },
  {
   "cell_type": "code",
   "execution_count": null,
   "metadata": {},
   "outputs": [],
   "source": []
  },
  {
   "cell_type": "code",
   "execution_count": null,
   "metadata": {},
   "outputs": [],
   "source": []
  },
  {
   "cell_type": "code",
   "execution_count": null,
   "metadata": {},
   "outputs": [],
   "source": []
  },
  {
   "cell_type": "code",
   "execution_count": null,
   "metadata": {
    "scrolled": true
   },
   "outputs": [],
   "source": []
  },
  {
   "cell_type": "code",
   "execution_count": null,
   "metadata": {},
   "outputs": [],
   "source": []
  },
  {
   "cell_type": "code",
   "execution_count": null,
   "metadata": {},
   "outputs": [],
   "source": [
    "import geojson\n",
    "import tempfile\n",
    "\n",
    "def write_json(self, features):\n",
    "   # feature is a shapely geometry type\n",
    "   geom_in_geojson = geojson.Feature(geometry=features, properties={})\n",
    "   tmp_file = tempfile.mkstemp(suffix='.geojson')\n",
    "   with open(tmp_file[1], 'w') as outfile:\n",
    "      geojson.dump(geom_in_geojson, outfile)\n",
    "   return tmp_file[1]\n",
    "\n",
    "write_json \n",
    "# print(tmp_file[1])"
   ]
  },
  {
   "cell_type": "code",
   "execution_count": null,
   "metadata": {},
   "outputs": [],
   "source": []
  },
  {
   "cell_type": "code",
   "execution_count": null,
   "metadata": {},
   "outputs": [],
   "source": []
  },
  {
   "cell_type": "code",
   "execution_count": 70,
   "metadata": {},
   "outputs": [
    {
     "ename": "KeyError",
     "evalue": "'properties'",
     "output_type": "error",
     "traceback": [
      "\u001b[1;31m---------------------------------------------------------------------------\u001b[0m",
      "\u001b[1;31mKeyError\u001b[0m                                  Traceback (most recent call last)",
      "\u001b[1;32m<ipython-input-70-02d193feeed8>\u001b[0m in \u001b[0;36m<module>\u001b[1;34m\u001b[0m\n\u001b[0;32m     26\u001b[0m     \u001b[1;32mreturn\u001b[0m \u001b[0mgpd\u001b[0m\u001b[1;33m.\u001b[0m\u001b[0mGeoDataFrame\u001b[0m\u001b[1;33m(\u001b[0m\u001b[0mfdf\u001b[0m\u001b[1;33m,\u001b[0m \u001b[0mcrs\u001b[0m\u001b[1;33m=\u001b[0m\u001b[1;34m'epsg:4326'\u001b[0m\u001b[1;33m,\u001b[0m \u001b[0mgeometry\u001b[0m \u001b[1;33m=\u001b[0m \u001b[1;34m'Geometry'\u001b[0m\u001b[1;33m)\u001b[0m\u001b[1;33m\u001b[0m\u001b[1;33m\u001b[0m\u001b[0m\n\u001b[0;32m     27\u001b[0m \u001b[1;33m\u001b[0m\u001b[0m\n\u001b[1;32m---> 28\u001b[1;33m \u001b[0mget_geography\u001b[0m\u001b[1;33m(\u001b[0m\u001b[1;34m'86000US78666'\u001b[0m\u001b[1;33m)\u001b[0m\u001b[1;33m.\u001b[0m\u001b[0mplot\u001b[0m\u001b[1;33m(\u001b[0m\u001b[1;33m)\u001b[0m\u001b[1;33m\u001b[0m\u001b[1;33m\u001b[0m\u001b[0m\n\u001b[0m",
      "\u001b[1;32m<ipython-input-70-02d193feeed8>\u001b[0m in \u001b[0;36mget_geography\u001b[1;34m(geoid)\u001b[0m\n\u001b[0;32m     15\u001b[0m     fdf = pd.DataFrame({\n\u001b[0;32m     16\u001b[0m                         \u001b[1;34m'Geoid'\u001b[0m\u001b[1;33m:\u001b[0m \u001b[0mgeoid\u001b[0m\u001b[1;33m,\u001b[0m\u001b[1;33m\u001b[0m\u001b[1;33m\u001b[0m\u001b[0m\n\u001b[1;32m---> 17\u001b[1;33m                         \u001b[1;34m'LandArea'\u001b[0m\u001b[1;33m:\u001b[0m \u001b[0mdata\u001b[0m\u001b[1;33m[\u001b[0m\u001b[1;34m'properties'\u001b[0m\u001b[1;33m]\u001b[0m\u001b[1;33m[\u001b[0m\u001b[1;34m'aland'\u001b[0m\u001b[1;33m]\u001b[0m \u001b[1;33m/\u001b[0m \u001b[1;36m2589988\u001b[0m\u001b[1;33m,\u001b[0m\u001b[1;33m\u001b[0m\u001b[1;33m\u001b[0m\u001b[0m\n\u001b[0m\u001b[0;32m     18\u001b[0m                         \u001b[1;34m'Population'\u001b[0m\u001b[1;33m:\u001b[0m \u001b[0mdata\u001b[0m\u001b[1;33m[\u001b[0m\u001b[1;34m'properties'\u001b[0m\u001b[1;33m]\u001b[0m\u001b[1;33m[\u001b[0m\u001b[1;34m'population'\u001b[0m\u001b[1;33m]\u001b[0m\u001b[1;33m\u001b[0m\u001b[1;33m\u001b[0m\u001b[0m\n\u001b[0;32m     19\u001b[0m                         }, index=[0])\n",
      "\u001b[1;31mKeyError\u001b[0m: 'properties'"
     ]
    }
   ],
   "source": [
    "from shapely.geometry import Polygon\n",
    "import geopandas as gpd\n",
    "import pandas as pd\n",
    "import numpy as np\n",
    "import requests\n",
    "\n",
    "def get_geography(geoid):\n",
    "    # https://api.censusreporter.org/1.0/geo/tiger2016/16000US5367000?geom=true\n",
    "\n",
    "    api_url = 'https://api.censusreporter.org/1.0/geo/tiger2016/{0}?geom=true'\n",
    "    data = requests.get(api_url.format(geoid)).json()\n",
    "\n",
    "\n",
    "    # Get Features\n",
    "    fdf = pd.DataFrame({\n",
    "                        'Geoid': geoid,\n",
    "                        'LandArea': data['properties']['aland'] / 2589988,\n",
    "                        'Population': data['properties']['population']\n",
    "                        }, index=[0])\n",
    "    fdf['PopulationDensity'] = fdf.Population / fdf.LandArea\n",
    "\n",
    "    # Convert Points into Geopandas Geometry\n",
    "    numpy_points =   np.array(data['geometry']['coordinates'][0])\n",
    "    fdf['Geometry'] = Polygon(numpy_points)\n",
    "\n",
    "    return gpd.GeoDataFrame(fdf, crs='epsg:4326', geometry = 'Geometry')\n",
    "\n",
    "get_geography('86000US78666').plot()"
   ]
  },
  {
   "cell_type": "code",
   "execution_count": null,
   "metadata": {},
   "outputs": [],
   "source": []
  }
 ],
 "metadata": {
  "kernelspec": {
   "display_name": "Python 3",
   "language": "python",
   "name": "python3"
  },
  "language_info": {
   "codemirror_mode": {
    "name": "ipython",
    "version": 3
   },
   "file_extension": ".py",
   "mimetype": "text/x-python",
   "name": "python",
   "nbconvert_exporter": "python",
   "pygments_lexer": "ipython3",
   "version": "3.7.4"
  }
 },
 "nbformat": 4,
 "nbformat_minor": 4
}
