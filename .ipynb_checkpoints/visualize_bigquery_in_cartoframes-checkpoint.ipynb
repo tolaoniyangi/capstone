{
 "cells": [
  {
   "cell_type": "code",
   "execution_count": 1,
   "metadata": {
    "colab": {},
    "colab_type": "code",
    "id": "nezJJ2EeXQGu"
   },
   "outputs": [
    {
     "name": "stdout",
     "output_type": "stream",
     "text": [
      "Collecting cartoframes\n",
      "  Downloading https://files.pythonhosted.org/packages/81/27/5896bab644350e93c197330a382f4d9fe3ad53b5cc79f8d529d9f46b91c6/cartoframes-1.0.2-py2.py3-none-any.whl (246kB)\n",
      "Collecting fastavro==0.22.7 (from cartoframes)\n",
      "  Downloading https://files.pythonhosted.org/packages/bb/8d/944f6db3c2af05c7d3d6deaa3d9e0b554a4f59de4d24e99ca1bcdc48d704/fastavro-0.22.7-cp37-cp37m-win_amd64.whl (346kB)\n",
      "Collecting semantic-version<3,>=2.8.0 (from cartoframes)\n",
      "  Downloading https://files.pythonhosted.org/packages/ba/00/098b5c385c3cf8f1ff4d9b909623859de4eb95c115aed81263a4e3b84ea3/semantic_version-2.8.4-py2.py3-none-any.whl\n",
      "Collecting google-cloud-bigquery==1.22.0 (from cartoframes)\n",
      "  Downloading https://files.pythonhosted.org/packages/61/b1/51d389b239ce882866f28f027f7b1b9b0aa91f8b87fc9e168141719a002b/google_cloud_bigquery-1.22.0-py2.py3-none-any.whl (161kB)\n",
      "Collecting google-cloud-storage==1.23.0 (from cartoframes)\n",
      "  Downloading https://files.pythonhosted.org/packages/87/78/7cf94b3d0961b1a3036ba351c7fdc04170baa73d20fcb41240da214c83fd/google_cloud_storage-1.23.0-py2.py3-none-any.whl (72kB)\n",
      "Collecting unidecode<2.0,>=1.1.0 (from cartoframes)\n",
      "  Downloading https://files.pythonhosted.org/packages/d0/42/d9edfed04228bacea2d824904cae367ee9efd05e6cce7ceaaedd0b0ad964/Unidecode-1.1.1-py2.py3-none-any.whl (238kB)\n",
      "Requirement already satisfied: geopandas<1.0,>=0.6.0 in c:\\users\\tola\\anaconda3\\lib\\site-packages (from cartoframes) (0.6.1)\n",
      "Collecting appdirs<2.0,>=1.4.3 (from cartoframes)\n",
      "  Downloading https://files.pythonhosted.org/packages/56/eb/810e700ed1349edde4cbdc1b2a21e28cdf115f9faf263f6bbf8447c1abf3/appdirs-1.4.3-py2.py3-none-any.whl\n",
      "Collecting carto<2.0,>=1.10.1 (from cartoframes)\n",
      "  Downloading https://files.pythonhosted.org/packages/35/65/b5323524931a7ee35991f16de5de83c7880483bc9d4cbabac0521a877720/carto-1.10.1.tar.gz\n",
      "Requirement already satisfied: jinja2<3.0,>=2.10.1 in c:\\users\\tola\\anaconda3\\lib\\site-packages (from cartoframes) (2.10.3)\n",
      "Collecting google-cloud-bigquery-storage==0.7.0 (from cartoframes)\n",
      "  Downloading https://files.pythonhosted.org/packages/bf/48/b42fc39a4141a9493a969d81fb2f9f75d089d5eeedabe912c22ec8a31f4d/google_cloud_bigquery_storage-0.7.0-py2.py3-none-any.whl (55kB)\n",
      "Requirement already satisfied: tqdm<5.0,>=4.32.1 in c:\\users\\tola\\anaconda3\\lib\\site-packages (from cartoframes) (4.36.1)\n",
      "Collecting google-resumable-media!=0.4.0,<0.6.0dev,>=0.3.1 (from google-cloud-bigquery==1.22.0->cartoframes)\n",
      "  Downloading https://files.pythonhosted.org/packages/35/9e/f73325d0466ce5bdc36333f1aeb2892ead7b76e79bdb5c8b0493961fa098/google_resumable_media-0.5.0-py2.py3-none-any.whl\n",
      "Collecting google-cloud-core<2.0dev,>=1.0.3 (from google-cloud-bigquery==1.22.0->cartoframes)\n",
      "  Downloading https://files.pythonhosted.org/packages/89/3c/8a7531839028c9690e6d14c650521f3bbaf26e53baaeb2784b8c3eb2fb97/google_cloud_core-1.3.0-py2.py3-none-any.whl\n",
      "Collecting protobuf>=3.6.0 (from google-cloud-bigquery==1.22.0->cartoframes)\n",
      "  Downloading https://files.pythonhosted.org/packages/92/30/1b7ccde09bf0c535d11f18a574ed7d7572c729a8f754fd568b297be08b61/protobuf-3.11.3-cp37-cp37m-win_amd64.whl (1.0MB)\n",
      "Collecting google-auth>=1.2.0 (from google-cloud-storage==1.23.0->cartoframes)\n",
      "  Downloading https://files.pythonhosted.org/packages/dc/1a/c3c2f3aa4190d8154a146ad33aa5479c8d193cc6211abe5c535921d93389/google_auth-1.13.1-py2.py3-none-any.whl (87kB)\n",
      "Requirement already satisfied: fiona in c:\\users\\tola\\anaconda3\\lib\\site-packages (from geopandas<1.0,>=0.6.0->cartoframes) (1.8.4)\n",
      "Requirement already satisfied: shapely in c:\\users\\tola\\anaconda3\\lib\\site-packages (from geopandas<1.0,>=0.6.0->cartoframes) (1.6.4.post1)\n",
      "Requirement already satisfied: pyproj in c:\\users\\tola\\anaconda3\\lib\\site-packages (from geopandas<1.0,>=0.6.0->cartoframes) (1.9.6)\n",
      "Requirement already satisfied: pandas>=0.23.0 in c:\\users\\tola\\anaconda3\\lib\\site-packages (from geopandas<1.0,>=0.6.0->cartoframes) (0.25.1)\n",
      "Requirement already satisfied: requests>=2.7.0 in c:\\users\\tola\\anaconda3\\lib\\site-packages (from carto<2.0,>=1.10.1->cartoframes) (2.22.0)\n",
      "Collecting pyrestcli==0.6.11 (from carto<2.0,>=1.10.1->cartoframes)\n",
      "  Downloading https://files.pythonhosted.org/packages/af/24/d3e7638e30f36396caa4ddc1e25d3f1b5ff76d91738166996e74a9cb4fc0/pyrestcli-0.6.11.tar.gz\n",
      "Requirement already satisfied: MarkupSafe>=0.23 in c:\\users\\tola\\anaconda3\\lib\\site-packages (from jinja2<3.0,>=2.10.1->cartoframes) (1.1.1)\n",
      "Collecting google-api-core[grpc]<2.0.0dev,>=1.14.0 (from google-cloud-bigquery-storage==0.7.0->cartoframes)\n",
      "  Downloading https://files.pythonhosted.org/packages/63/7e/a523169b0cc9ce62d56e07571db927286a94b1a5f51ac220bd97db825c77/google_api_core-1.16.0-py2.py3-none-any.whl (70kB)\n",
      "Requirement already satisfied: six in c:\\users\\tola\\anaconda3\\lib\\site-packages (from google-resumable-media!=0.4.0,<0.6.0dev,>=0.3.1->google-cloud-bigquery==1.22.0->cartoframes) (1.12.0)\n",
      "Requirement already satisfied: setuptools in c:\\users\\tola\\anaconda3\\lib\\site-packages (from protobuf>=3.6.0->google-cloud-bigquery==1.22.0->cartoframes) (41.4.0)\n",
      "Collecting pyasn1-modules>=0.2.1 (from google-auth>=1.2.0->google-cloud-storage==1.23.0->cartoframes)\n",
      "  Downloading https://files.pythonhosted.org/packages/95/de/214830a981892a3e286c3794f41ae67a4495df1108c3da8a9f62159b9a9d/pyasn1_modules-0.2.8-py2.py3-none-any.whl (155kB)\n",
      "Collecting rsa<4.1,>=3.1.4 (from google-auth>=1.2.0->google-cloud-storage==1.23.0->cartoframes)\n",
      "  Downloading https://files.pythonhosted.org/packages/02/e5/38518af393f7c214357079ce67a317307936896e961e35450b70fad2a9cf/rsa-4.0-py2.py3-none-any.whl\n",
      "Collecting cachetools<5.0,>=2.0.0 (from google-auth>=1.2.0->google-cloud-storage==1.23.0->cartoframes)\n",
      "  Downloading https://files.pythonhosted.org/packages/08/6a/abf83cb951617793fd49c98cb9456860f5df66ff89883c8660aa0672d425/cachetools-4.0.0-py3-none-any.whl\n",
      "Requirement already satisfied: attrs>=17 in c:\\users\\tola\\anaconda3\\lib\\site-packages (from fiona->geopandas<1.0,>=0.6.0->cartoframes) (19.2.0)\n",
      "Requirement already satisfied: click<8,>=4.0 in c:\\users\\tola\\anaconda3\\lib\\site-packages (from fiona->geopandas<1.0,>=0.6.0->cartoframes) (7.0)\n",
      "Requirement already satisfied: cligj>=0.5 in c:\\users\\tola\\anaconda3\\lib\\site-packages (from fiona->geopandas<1.0,>=0.6.0->cartoframes) (0.5.0)\n",
      "Requirement already satisfied: click-plugins>=1.0 in c:\\users\\tola\\anaconda3\\lib\\site-packages (from fiona->geopandas<1.0,>=0.6.0->cartoframes) (1.1.1)\n",
      "Requirement already satisfied: munch in c:\\users\\tola\\anaconda3\\lib\\site-packages (from fiona->geopandas<1.0,>=0.6.0->cartoframes) (2.5.0)\n",
      "Requirement already satisfied: python-dateutil>=2.6.1 in c:\\users\\tola\\anaconda3\\lib\\site-packages (from pandas>=0.23.0->geopandas<1.0,>=0.6.0->cartoframes) (2.8.0)\n",
      "Requirement already satisfied: numpy>=1.13.3 in c:\\users\\tola\\anaconda3\\lib\\site-packages (from pandas>=0.23.0->geopandas<1.0,>=0.6.0->cartoframes) (1.16.5)\n",
      "Requirement already satisfied: pytz>=2017.2 in c:\\users\\tola\\anaconda3\\lib\\site-packages (from pandas>=0.23.0->geopandas<1.0,>=0.6.0->cartoframes) (2019.3)\n",
      "Requirement already satisfied: chardet<3.1.0,>=3.0.2 in c:\\users\\tola\\anaconda3\\lib\\site-packages (from requests>=2.7.0->carto<2.0,>=1.10.1->cartoframes) (3.0.4)\n",
      "Requirement already satisfied: urllib3!=1.25.0,!=1.25.1,<1.26,>=1.21.1 in c:\\users\\tola\\anaconda3\\lib\\site-packages (from requests>=2.7.0->carto<2.0,>=1.10.1->cartoframes) (1.24.2)\n",
      "Requirement already satisfied: certifi>=2017.4.17 in c:\\users\\tola\\anaconda3\\lib\\site-packages (from requests>=2.7.0->carto<2.0,>=1.10.1->cartoframes) (2019.9.11)\n",
      "Requirement already satisfied: idna<2.9,>=2.5 in c:\\users\\tola\\anaconda3\\lib\\site-packages (from requests>=2.7.0->carto<2.0,>=1.10.1->cartoframes) (2.8)\n",
      "Requirement already satisfied: future>=0.15.2 in c:\\users\\tola\\anaconda3\\lib\\site-packages\\future-0.17.1-py3.7.egg (from pyrestcli==0.6.11->carto<2.0,>=1.10.1->cartoframes) (0.17.1)\n",
      "Collecting googleapis-common-protos<2.0dev,>=1.6.0 (from google-api-core[grpc]<2.0.0dev,>=1.14.0->google-cloud-bigquery-storage==0.7.0->cartoframes)\n",
      "  Downloading https://files.pythonhosted.org/packages/05/46/168fd780f594a4d61122f7f3dc0561686084319ad73b4febbf02ae8b32cf/googleapis-common-protos-1.51.0.tar.gz\n",
      "Collecting grpcio<2.0dev,>=1.8.2; extra == \"grpc\" (from google-api-core[grpc]<2.0.0dev,>=1.14.0->google-cloud-bigquery-storage==0.7.0->cartoframes)\n",
      "  Downloading https://files.pythonhosted.org/packages/e3/76/c57d515a3c27d669c9eb5b457f0f898b7a1982f55723ccdee44884756cdd/grpcio-1.28.1-cp37-cp37m-win_amd64.whl (2.0MB)\n",
      "Collecting pyasn1<0.5.0,>=0.4.6 (from pyasn1-modules>=0.2.1->google-auth>=1.2.0->google-cloud-storage==1.23.0->cartoframes)\n",
      "  Downloading https://files.pythonhosted.org/packages/62/1e/a94a8d635fa3ce4cfc7f506003548d0a2447ae76fd5ca53932970fe3053f/pyasn1-0.4.8-py2.py3-none-any.whl (77kB)\n",
      "Building wheels for collected packages: carto, pyrestcli, googleapis-common-protos\n",
      "  Building wheel for carto (setup.py): started\n",
      "  Building wheel for carto (setup.py): finished with status 'done'\n",
      "  Created wheel for carto: filename=carto-1.10.1-cp37-none-any.whl size=34944 sha256=dc352b62486d9dbd68cfff977f0fd3a073685419d88c92e62e39311741b1ffad\n",
      "  Stored in directory: C:\\Users\\Tola\\AppData\\Local\\pip\\Cache\\wheels\\7c\\ab\\3e\\44d4155ae3eca0c8f39ac7adbc6d0330cc601cd7f067ec3e0e\n",
      "  Building wheel for pyrestcli (setup.py): started\n",
      "  Building wheel for pyrestcli (setup.py): finished with status 'done'\n",
      "  Created wheel for pyrestcli: filename=pyrestcli-0.6.11-cp37-none-any.whl size=8505 sha256=ff0d050d19119dd53c3de02915ab9603d5c4f46a2ffddda9097e87da42626950\n",
      "  Stored in directory: C:\\Users\\Tola\\AppData\\Local\\pip\\Cache\\wheels\\2f\\bb\\11\\396a62e2d1e718f2bfb02b66726240fbc8d98640bfc0cf1688\n",
      "  Building wheel for googleapis-common-protos (setup.py): started\n",
      "  Building wheel for googleapis-common-protos (setup.py): finished with status 'done'\n",
      "  Created wheel for googleapis-common-protos: filename=googleapis_common_protos-1.51.0-cp37-none-any.whl size=77603 sha256=a1bcbc86c505ffbcc5d45088d5e501570491265348f3cda2d7ef5c3af512df5e\n",
      "  Stored in directory: C:\\Users\\Tola\\AppData\\Local\\pip\\Cache\\wheels\\2c\\f9\\7f\\6eb87e636072bf467e25348bbeb96849333e6a080dca78f706\n",
      "Successfully built carto pyrestcli googleapis-common-protos\n",
      "Installing collected packages: fastavro, semantic-version, google-resumable-media, protobuf, googleapis-common-protos, pyasn1, pyasn1-modules, rsa, cachetools, google-auth, grpcio, google-api-core, google-cloud-core, google-cloud-bigquery, google-cloud-storage, unidecode, appdirs, pyrestcli, carto, google-cloud-bigquery-storage, cartoframes\n",
      "Successfully installed appdirs-1.4.3 cachetools-4.0.0 carto-1.10.1 cartoframes-1.0.2 fastavro-0.22.7 google-api-core-1.16.0 google-auth-1.13.1 google-cloud-bigquery-1.22.0 google-cloud-bigquery-storage-0.7.0 google-cloud-core-1.3.0 google-cloud-storage-1.23.0 google-resumable-media-0.5.0 googleapis-common-protos-1.51.0 grpcio-1.28.1 protobuf-3.11.3 pyasn1-0.4.8 pyasn1-modules-0.2.8 pyrestcli-0.6.11 rsa-4.0 semantic-version-2.8.4 unidecode-1.1.1\n"
     ]
    }
   ],
   "source": [
    "!pip install cartoframes"
   ]
  },
  {
   "cell_type": "code",
   "execution_count": 2,
   "metadata": {
    "colab": {
     "base_uri": "https://localhost:8080/",
     "height": 34
    },
    "colab_type": "code",
    "id": "MiYJ3cPRXYPm",
    "outputId": "dc39eee1-48d4-4681-8f02-1cafea17852d"
   },
   "outputs": [
    {
     "ename": "ModuleNotFoundError",
     "evalue": "No module named 'google.colab'",
     "output_type": "error",
     "traceback": [
      "\u001b[1;31m---------------------------------------------------------------------------\u001b[0m",
      "\u001b[1;31mModuleNotFoundError\u001b[0m                       Traceback (most recent call last)",
      "\u001b[1;32m<ipython-input-2-f48870d50797>\u001b[0m in \u001b[0;36m<module>\u001b[1;34m\u001b[0m\n\u001b[1;32m----> 1\u001b[1;33m \u001b[1;32mfrom\u001b[0m \u001b[0mgoogle\u001b[0m\u001b[1;33m.\u001b[0m\u001b[0mcolab\u001b[0m \u001b[1;32mimport\u001b[0m \u001b[0mauth\u001b[0m\u001b[1;33m\u001b[0m\u001b[1;33m\u001b[0m\u001b[0m\n\u001b[0m\u001b[0;32m      2\u001b[0m \u001b[1;32mfrom\u001b[0m \u001b[0mgoogle\u001b[0m\u001b[1;33m.\u001b[0m\u001b[0mcloud\u001b[0m \u001b[1;32mimport\u001b[0m \u001b[0mbigquery\u001b[0m\u001b[1;33m\u001b[0m\u001b[1;33m\u001b[0m\u001b[0m\n\u001b[0;32m      3\u001b[0m \u001b[1;32mfrom\u001b[0m \u001b[0mcartoframes\u001b[0m\u001b[1;33m.\u001b[0m\u001b[0mviz\u001b[0m \u001b[1;32mimport\u001b[0m \u001b[0mLayer\u001b[0m\u001b[1;33m\u001b[0m\u001b[1;33m\u001b[0m\u001b[0m\n\u001b[0;32m      4\u001b[0m \u001b[0mauth\u001b[0m\u001b[1;33m.\u001b[0m\u001b[0mauthenticate_user\u001b[0m\u001b[1;33m(\u001b[0m\u001b[1;33m)\u001b[0m\u001b[1;33m\u001b[0m\u001b[1;33m\u001b[0m\u001b[0m\n\u001b[0;32m      5\u001b[0m \u001b[0mprint\u001b[0m\u001b[1;33m(\u001b[0m\u001b[1;34m'Authenticated'\u001b[0m\u001b[1;33m)\u001b[0m\u001b[1;33m\u001b[0m\u001b[1;33m\u001b[0m\u001b[0m\n",
      "\u001b[1;31mModuleNotFoundError\u001b[0m: No module named 'google.colab'"
     ]
    }
   ],
   "source": [
    "from google.colab import auth\n",
    "from google.cloud import bigquery\n",
    "from cartoframes.viz import Layer\n",
    "auth.authenticate_user()\n",
    "print('Authenticated')"
   ]
  },
  {
   "cell_type": "code",
   "execution_count": null,
   "metadata": {
    "colab": {
     "base_uri": "https://localhost:8080/",
     "height": 692
    },
    "colab_type": "code",
    "id": "Dn9me8C8XZYK",
    "outputId": "71ba625a-737a-4185-a432-27b92abcdd51"
   },
   "outputs": [],
   "source": [
    "####### REPLACE THIS WITH YOUR OWN GCLOUD PROJECT YOU WANT TO BE BILLED####\n",
    "bq_client = bigquery.Client(project='carto-do')\n",
    "\n",
    "##Buffer of 10 kilometers around a point with 24 vertices on the output polygon\n",
    "q = '''\n",
    "SELECT d.POPCY,g.geom FROM `carto-do.ags.demographics_sociodemographic_usa_blockgroup_2015_yearly_2019` as d INNER JOIN `carto-do.ags.geography_usa_blockgroup_2015` as g ON d.geoid=g.geoid WHERE \n",
    "ST_DWITHIN(g.geom,ST_GEOGPOINT(-73.95209,40.736333),20000)\n",
    "'''\n",
    "df = bq_client.query(q).to_dataframe()\n",
    "\n",
    "Layer(df,geom_col='geom')\n",
    "\n"
   ]
  },
  {
   "cell_type": "code",
   "execution_count": 0,
   "metadata": {
    "colab": {},
    "colab_type": "code",
    "id": "yteOKelbxtpt"
   },
   "outputs": [],
   "source": []
  }
 ],
 "metadata": {
  "colab": {
   "collapsed_sections": [],
   "name": "visualize_bigquery_in_cartoframes.ipynb",
   "provenance": []
  },
  "kernelspec": {
   "display_name": "Python 3",
   "language": "python",
   "name": "python3"
  },
  "language_info": {
   "codemirror_mode": {
    "name": "ipython",
    "version": 3
   },
   "file_extension": ".py",
   "mimetype": "text/x-python",
   "name": "python",
   "nbconvert_exporter": "python",
   "pygments_lexer": "ipython3",
   "version": "3.7.4"
  }
 },
 "nbformat": 4,
 "nbformat_minor": 1
}
