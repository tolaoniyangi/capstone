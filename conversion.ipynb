{
 "cells": [
  {
   "cell_type": "code",
   "execution_count": null,
   "metadata": {},
   "outputs": [],
   "source": [
    "jupyter nbconvert --to latex data_derived_narratives.ipynb\n",
    "\n",
    "\n",
    "# https://github.com/jupyter/nbconvert/issues/799\n",
    "The error occurs while building the PDF. \n",
    "Till this step, the notebook(.ipynb file) is already converted to .tex file.\n",
    "So, what you can do, open that .tex file using MikTex (Windows).\n",
    "Change that to XeLatex and click the green play button besides it. \n",
    "It will ask for installations using a pop-up box. \n",
    "Install all. Then, you will have your pdf for that noteboo\n",
    "# jupyter nbconvert --to pdf data_derived_narratives.ipynb\n"
   ]
  }
 ],
 "metadata": {
  "kernelspec": {
   "display_name": "Python 3",
   "language": "python",
   "name": "python3"
  },
  "language_info": {
   "codemirror_mode": {
    "name": "ipython",
    "version": 3
   },
   "file_extension": ".py",
   "mimetype": "text/x-python",
   "name": "python",
   "nbconvert_exporter": "python",
   "pygments_lexer": "ipython3",
   "version": "3.7.4"
  }
 },
 "nbformat": 4,
 "nbformat_minor": 2
}
