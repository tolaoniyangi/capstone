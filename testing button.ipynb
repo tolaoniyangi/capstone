{
 "cells": [
  {
   "cell_type": "code",
   "execution_count": 8,
   "metadata": {},
   "outputs": [],
   "source": [
    "import geopandas as gpd\n",
    "import pandas as pd\n",
    "import numpy as np\n",
    "from shapely.geometry import Point, Polygon\n",
    "import matplotlib.pyplot as plt\n",
    "from fiona.crs import from_epsg\n",
    "import urllib, json, requests \n",
    "import geojson"
   ]
  },
  {
   "cell_type": "code",
   "execution_count": 9,
   "metadata": {},
   "outputs": [],
   "source": [
    "from ipyleaflet import Map, GeoData, GeoJSON, basemaps, basemap_to_tiles, Icon, Circle, Marker, LayerGroup, WidgetControl\n",
    "import ipywidgets as widgets\n",
    "from ipywidgets import Button \n",
    "from IPython.display import display, clear_output\n",
    "\n",
    "button = Button(description=\"Generate Text\")\n",
    "output = widgets.Output()"
   ]
  },
  {
   "cell_type": "code",
   "execution_count": 10,
   "metadata": {},
   "outputs": [],
   "source": [
    "def find_location():\n",
    "    lat = '40.7210907'\n",
    "    lon = '-73.9877836'\n",
    "    \n",
    "    #Contruct request URL\n",
    "    url = f'https://geo.fcc.gov/api/census/block/find?'\n",
    "\n",
    "    # api call using variables instead of directly is way easier\n",
    "    data_url = f'{url}lat={lat}&lon={lon}&format=json'\n",
    "    #Get response from API\n",
    "    response=requests.get(data_url)\n",
    "\n",
    "    #Parse json in response\n",
    "    data = response.json()\n",
    "#     print(response.text)\n",
    "\n",
    "    #Extracting the county and state being studied \n",
    "    state = data['results'][0]['state_fips']\n",
    "    county_fips = data['results'][0]['county_fips']\n",
    "\n",
    "    #Separating out the county fips from the state\n",
    "    county = county_fips[2:]\n",
    "\n",
    "#     print(state, county)\n",
    "    \n",
    "    return state"
   ]
  },
  {
   "cell_type": "code",
   "execution_count": 21,
   "metadata": {},
   "outputs": [],
   "source": [
    "def download_acs():\n",
    "    find_location()\n",
    "    \n",
    "    state = find_location()\n",
    "    \n",
    "    api_key = '9330dc4bf086a84f19fb412bb15f232507301de6'\n",
    "    acs_url = f'https://api.census.gov/data/2018/acs/acs5/'\n",
    "\n",
    "    pop_sex = 'B01003_001E,B01001_002E,B01001_026E'\n",
    "    household_type = 'B11001_002E,B11001_007E'\n",
    "    education = 'B15003_001E,B15003_017E,B15003_018E,B15003_019E,B15003_020E,B15003_021E,B15003_022E,B15003_023E,B15003_024E,B15003_025E'\n",
    "    household_income = 'B19001_002E,B19001_003E,B19001_004E,B19001_005E,B19001_006E,B19001_007E,B19001_008E,B19001_009E,B19001_010E,B19001_011E,B19001_012E,B19001_013E,B19001_014E,B19001_015E,B19001_016E,B19001_017E'\n",
    "    means_of_transport = 'B08301_002E,B08301_003E,B08301_003E,B08301_010E,B08301_016E,B08301_017E,B08301_018E,B08301_019E,B08301_020E,B08301_021E'\n",
    "    travel_time = 'B08303_002E,B08303_003E,B08303_004E,B08303_005E,B08303_006E,B08303_007E,B08303_008E,B08303_009E,B08303_010E,B08303_011E,B08303_012E,B08303_013E'\n",
    "\n",
    "    # api call using variables instead of directly is way easier\n",
    "    pop_sex_url = f'{acs_url}?&get={pop_sex}&for=tract:*&in=state:{state}%20county:*&key={api_key}'\n",
    "    household_type_url = f'{acs_url}?&get={household_type}&for=tract:*&in=state:{state}%20county:*&key={api_key}'\n",
    "    education_url = f'{acs_url}?&get={education}&for=tract:*&in=state:{state}%20county:*&key={api_key}'\n",
    "    household_income_url = f'{acs_url}?&get={household_income}&for=tract:*&in=state:{state}%20county:*&key={api_key}'\n",
    "    means_of_transport_url = f'{acs_url}?&get={means_of_transport}&for=tract:*&in=state:{state}%20county:*&key={api_key}'\n",
    "    travel_time_url = f'{acs_url}?&get={travel_time}&for=tract:*&in=state:{state}%20county:*&key={api_key}'\n",
    "\n",
    "    response_acs1=requests.get(pop_sex_url)\n",
    "    response_acs2=requests.get(household_type_url)\n",
    "    response_acs3=requests.get(education_url)\n",
    "    response_acs4=requests.get(household_income_url)\n",
    "    response_acs5=requests.get(means_of_transport_url)\n",
    "    response_acs6=requests.get(travel_time_url)\n",
    "    # print(response_acs.text)\n",
    "\n",
    "    #load the response into a JSON\n",
    "    data_acs1=response_acs1.json()\n",
    "    data_acs2=response_acs2.json()\n",
    "    data_acs3=response_acs3.json()\n",
    "    data_acs4=response_acs4.json()\n",
    "    data_acs5=response_acs5.json()\n",
    "    data_acs6=response_acs6.json()\n",
    "\n",
    "    #ignoring the first element which is column names, replacing columns with the columns from the table\n",
    "    acs1=pd.DataFrame(data_acs1[1:], columns=data_acs1[0])\n",
    "    acs2=pd.DataFrame(data_acs2[1:], columns=data_acs2[0])\n",
    "    acs3=pd.DataFrame(data_acs3[1:], columns=data_acs3[0])\n",
    "    acs4=pd.DataFrame(data_acs4[1:], columns=data_acs4[0])\n",
    "    acs5=pd.DataFrame(data_acs5[1:], columns=data_acs5[0])\n",
    "    acs6=pd.DataFrame(data_acs6[1:], columns=data_acs6[0])\n",
    "    \n",
    "    return acs1, acs2, acs3, acs4, acs5, acs6"
   ]
  },
  {
   "cell_type": "code",
   "execution_count": 12,
   "metadata": {},
   "outputs": [],
   "source": [
    "# def import_censustracts():\n",
    "#     ##Adding in census geographies\n",
    "#     state='STATE=36'\n",
    "\n",
    "#     # census tracts link\n",
    "#     endpoint = 'https://tigerweb.geo.census.gov/arcgis/rest/services/TIGERweb/Tracts_Blocks/MapServer/4/query'\n",
    "#     s = requests.session()\n",
    "#     s.params = {\n",
    "#         'where': 'STATE=36 AND COUNTY=',\n",
    "#         'text': '',\n",
    "#         'objectIds': '',\n",
    "#         'time': '',\n",
    "#         'geometry': '[[-2336502.536,-20037700.],[1.1615796196E7,2.0656504635E7]]',\n",
    "#         'geometryType': 'esriGeometryEnvelope',\n",
    "#         'inSR': 102100, # EPSG 3857\n",
    "#         'spatialRel': 'esriSpatialRelIntersects',\n",
    "#         'relationParam': '',\n",
    "#     #specify fields\n",
    "#         'outFields': 'GEOID,STATE,COUNTY,TRACT,STGEOMETRY, OBJECTID',\n",
    "#         'returnGeometry': True,\n",
    "#         'returnTrueCurves': False,\n",
    "#         'maxAllowableOffset': '',\n",
    "#         'geometryPrecision': '',\n",
    "#         'outSR': '',\n",
    "#         'returnIdsOnly': False,\n",
    "#         'returnCountOnly': False,\n",
    "#         'orderByFields': '',\n",
    "#         'groupByFieldsForStatistics': '',\n",
    "#         'outStatistics': '',\n",
    "#         'returnZ': False,\n",
    "#         'returnM': False,\n",
    "#         'gdbVersion': '',\n",
    "#         'returnDistinctValues': False,\n",
    "#         'f': 'geojson',        \n",
    "#     }\n",
    "#     start = 0\n",
    "#     done = False\n",
    "#     features = []\n",
    "#     crs = None\n",
    "#     while not done:\n",
    "#         r = s.get(endpoint, params={\n",
    "#             'resultOffset': start,\n",
    "#             'resultRecordCount': 32,\n",
    "#         })\n",
    "#         r.raise_for_status()\n",
    "#         tracts = geojson.loads(r.text)\n",
    "#         newfeats = tracts.__geo_interface__['features']\n",
    "#         if newfeats:\n",
    "#             features.extend(newfeats)\n",
    "#             crs=tracts.__geo_interface__['crs']\n",
    "#             start += len(newfeats)\n",
    "#             print(\"Received\", len(newfeats), \"entries,\", start, \"total\")\n",
    "#         else:\n",
    "#             done = True\n",
    "#     tracts_df = gpd.GeoDataFrame.from_features(features, crs=crs)\n",
    "    \n",
    "#     return tracts_df"
   ]
  },
  {
   "cell_type": "code",
   "execution_count": 20,
   "metadata": {},
   "outputs": [
    {
     "data": {
      "application/vnd.jupyter.widget-view+json": {
       "model_id": "044d90644fee445687651de07b071cbe",
       "version_major": 2,
       "version_minor": 0
      },
      "text/plain": [
       "Button(description='Generate Text', style=ButtonStyle())"
      ]
     },
     "metadata": {},
     "output_type": "display_data"
    },
    {
     "data": {
      "application/vnd.jupyter.widget-view+json": {
       "model_id": "45e21e115aba4e829a79cb4195bb29f2",
       "version_major": 2,
       "version_minor": 0
      },
      "text/plain": [
       "Output()"
      ]
     },
     "metadata": {},
     "output_type": "display_data"
    }
   ],
   "source": [
    "display(button, output)\n",
    "\n",
    "def on_button_clicked(b):\n",
    "    output.clear_output()\n",
    "    \n",
    "    test=find_location()\n",
    "    acs1, acs2, acs3, acs4, acs5, acs6 = download_acs()\n",
    "#     tracts_df = import_censustracts()\n",
    "    \n",
    "#     return test\n",
    "    display(acs1, acs2, acs3, acs4, acs5, acs6) \n",
    "    \n",
    "\n",
    "\n",
    "    with output:\n",
    "        print(\"Button clicked.\")\n",
    "\n",
    "button.on_click(on_button_clicked)"
   ]
  },
  {
   "cell_type": "code",
   "execution_count": 14,
   "metadata": {},
   "outputs": [
    {
     "ename": "NameError",
     "evalue": "name 'acs1' is not defined",
     "output_type": "error",
     "traceback": [
      "\u001b[1;31m---------------------------------------------------------------------------\u001b[0m",
      "\u001b[1;31mNameError\u001b[0m                                 Traceback (most recent call last)",
      "\u001b[1;32m<ipython-input-14-1ca79ba17069>\u001b[0m in \u001b[0;36m<module>\u001b[1;34m\u001b[0m\n\u001b[1;32m----> 1\u001b[1;33m \u001b[0mdisplay\u001b[0m\u001b[1;33m(\u001b[0m\u001b[0macs1\u001b[0m\u001b[1;33m)\u001b[0m\u001b[1;33m\u001b[0m\u001b[1;33m\u001b[0m\u001b[0m\n\u001b[0m",
      "\u001b[1;31mNameError\u001b[0m: name 'acs1' is not defined"
     ]
    }
   ],
   "source": [
    "display(acs1)"
   ]
  },
  {
   "cell_type": "code",
   "execution_count": null,
   "metadata": {},
   "outputs": [],
   "source": []
  },
  {
   "cell_type": "code",
   "execution_count": null,
   "metadata": {},
   "outputs": [],
   "source": []
  }
 ],
 "metadata": {
  "kernelspec": {
   "display_name": "Python 3",
   "language": "python",
   "name": "python3"
  }
 },
 "nbformat": 4,
 "nbformat_minor": 2
}
