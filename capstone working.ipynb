{
 "cells": [
  {
   "cell_type": "code",
   "execution_count": 1,
   "metadata": {},
   "outputs": [],
   "source": [
    "# links\n",
    "\n",
    "# acs\n",
    "# https://api.census.gov/data/2018/acs/acs5/profile/examples.html\n",
    "# https://api.census.gov/data/2018/acs/acs5/profile/geography.html\n",
    "# https://api.census.gov/data/2018/acs/acs5/variables.html\n",
    "# https://data.census.gov/cedsci/table?q=United%20States\n",
    "# https://www.census.gov/data/developers/data-sets/acs-5year.html\n",
    "\n",
    "# qwi\n",
    "# https://www.census.gov/data/developers/data-sets/qwi.html\n",
    "# https://api.census.gov/data/timeseries/qwi/sa/variables.html\n",
    "# https://api.census.gov/data/timeseries/qwi/sa/examples.html\n",
    "# https://api.census.gov/data/timeseries/qwi.html\n",
    "# https://lehd.ces.census.gov/doc/QWIPU_Data_Schema.pdf\n",
    "# https://lehd.ces.census.gov/doc/QWI_101.pdf"
   ]
  },
  {
   "cell_type": "code",
   "execution_count": 6,
   "metadata": {},
   "outputs": [
    {
     "data": {
      "text/plain": [
       "'C:\\\\Users\\\\Tola\\\\Documents\\\\Github\\\\capstone'"
      ]
     },
     "execution_count": 6,
     "metadata": {},
     "output_type": "execute_result"
    }
   ],
   "source": [
    "%pwd"
   ]
  },
  {
   "cell_type": "code",
   "execution_count": 7,
   "metadata": {},
   "outputs": [
    {
     "name": "stdout",
     "output_type": "stream",
     "text": [
      "[WinError 3] The system cannot find the path specified: 'Documents\\\\Github\\\\capstone'\n",
      "C:\\Users\\Tola\\Documents\\Github\\capstone\n"
     ]
    }
   ],
   "source": [
    "%cd Documents\\Github\\capstone"
   ]
  },
  {
   "cell_type": "code",
   "execution_count": 8,
   "metadata": {},
   "outputs": [],
   "source": [
    "#manipulate dataframes/geodataframes in python\n",
    "import pandas as pd\n",
    "import geopandas as gpd\n",
    "\n",
    "#make API calls with python\n",
    "import requests\n",
    "\n",
    "#allows us to store results of API call cleanly\n",
    "import json\n",
    "\n",
    "#for parsing the urls"
   ]
  },
  {
   "cell_type": "code",
   "execution_count": 9,
   "metadata": {},
   "outputs": [],
   "source": [
    "import numpy as np\n",
    "from shapely.geometry import Point\n",
    "from fiona.crs import from_epsg"
   ]
  },
  {
   "cell_type": "code",
   "execution_count": 10,
   "metadata": {},
   "outputs": [],
   "source": [
    "from ipyleaflet import Map, GeoData, GeoJSON, basemaps, basemap_to_tiles, Icon, Circle, Marker, LayerGroup, WidgetControl\n",
    "from ipywidgets import Button \n",
    "import ipywidgets as widgets"
   ]
  },
  {
   "cell_type": "code",
   "execution_count": 22,
   "metadata": {},
   "outputs": [
    {
     "data": {
      "application/vnd.jupyter.widget-view+json": {
       "model_id": "4ddb4fbeff4341a79f2491151ee6a9c2",
       "version_major": 2,
       "version_minor": 0
      },
      "text/plain": [
       "Map(center=[40.7210907, -73.9877836], controls=(ZoomControl(options=['position', 'zoom_in_text', 'zoom_in_titl…"
      ]
     },
     "metadata": {},
     "output_type": "display_data"
    }
   ],
   "source": [
    "#drawing basic map\n",
    "center = (40.7210907,-73.9877836)\n",
    "basemap = basemap_to_tiles(basemaps.CartoDB.Positron)\n",
    "\n",
    "icon = Icon(icon_url='icon.png', icon_size=[15, 15])\n",
    "marker = Marker(location=center, draggable=False, icon=icon, opacity = 0)\n",
    "\n",
    "m = Map(layers=(basemap, ), center=center, zoom=15, min_zoom = 11, max_zoom = 20)\n",
    "\n",
    "###HALF-MI BUFFER\n",
    "#set location of center as location of the point\n",
    "markerlocation=marker.location\n",
    "    \n",
    "radius = 402 #in-meters\n",
    "color = \"black\"\n",
    "fill_color = \"white\"\n",
    "fill_opacity = .2\n",
    "weight = 2\n",
    "\n",
    "##click on map to add marker, removes old marker as well\n",
    "def handle_click(**kwargs):\n",
    "    if kwargs.get('type') == 'click':\n",
    "        layer_group.clear_layers();\n",
    "        marker = Marker(location=kwargs.get('coordinates'), draggable=False, icon=icon, opacity = 0)\n",
    "        layer_group.add_layer(marker)\n",
    "        \n",
    "        #updating the circle's location\n",
    "        markerlocation=marker.location\n",
    "        circle.location = markerlocation\n",
    "        layer_group.add_layer(circle);\n",
    "\n",
    "        ########################### adding the black overlay\n",
    "        df2 = pd.DataFrame(markerlocation)\n",
    "\n",
    "        df=df2.transpose()\n",
    "        df.columns=['Latitude','Longitude']\n",
    "\n",
    "        #creating a geodataframe from the point\n",
    "        gdf = gpd.GeoDataFrame(\n",
    "            df, geometry=gpd.points_from_xy(df.Longitude, df.Latitude))\n",
    "        #creating circle for cut\n",
    "        # gdf.crs = 'EPSG:4326'\n",
    "        gdf.crs = from_epsg(3857)\n",
    "        test=gdf.copy()\n",
    "        #making buffer\n",
    "        test['geometry'] = test.geometry.buffer(.004,  cap_style=1, join_style=1)\n",
    "        # change back\n",
    "        test.crs = from_epsg(3857)\n",
    "        #creating rectangle for cut\n",
    "        rect_orig=gdf.copy()\n",
    "        rect_orig['geometry'] = rect_orig.geometry.buffer(4,  cap_style=1, join_style=1)\n",
    "        #difference\n",
    "        diff = gpd.overlay(rect_orig, test, how='difference')\n",
    "\n",
    "        geo_data = GeoData(geo_dataframe = diff,\n",
    "                       style={'fillColor': 'black', 'color':'black', 'weight':2,'fillOpacity':0.5},\n",
    "    #                    hover_style={'fillColor': 'red' , 'fillOpacity': 0.2},\n",
    "                       name = 'Boundary')\n",
    "        layer_group.add_layer(geo_data)\n",
    "        ################\n",
    "        \n",
    "m.on_interaction(handle_click)\n",
    "######\n",
    "\n",
    "#create half-mi buffer\n",
    "circle = Circle()\n",
    "circle.location = markerlocation\n",
    "circle.radius = radius\n",
    "circle.color = color\n",
    "circle.fill_color = fill_color\n",
    "circle.fill_opacity = fill_opacity\n",
    "circle.weight = weight\n",
    "circle.opacity = 0\n",
    "\n",
    "###########\n",
    "\n",
    "    \n",
    "# def on_location_changed(event):\n",
    "# #remove any circles existing first\n",
    "#     layer_group.clear_layers();\n",
    "\n",
    "# #update location of center as location of the point\n",
    "#     markerlocation = marker.location\n",
    "#     circle.location = markerlocation\n",
    "#     layer_group.add_layer(circle);\n",
    "        \n",
    "# pass\n",
    "# marker.observe(on_location_changed, 'location')\n",
    "# #######\n",
    "\n",
    "\n",
    "#adding button that performs the analysis on click \n",
    "button = Button(description=\"Analyze\")\n",
    "\n",
    "def on_button_clicked(b):   \n",
    "    #extracting the marker location for the buffer\n",
    "    location=circle.location\n",
    "    \n",
    "    df2 = pd.DataFrame(location)\n",
    "\n",
    "    df=df2.transpose()\n",
    "    df.columns=['Latitude','Longitude']\n",
    "\n",
    "    #creating a geodataframe from the point\n",
    "    gdf = gpd.GeoDataFrame(\n",
    "        df, geometry=gpd.points_from_xy(df.Longitude, df.Latitude))\n",
    "#creating circle for cut\n",
    "    # gdf.crs = 'EPSG:4326'\n",
    "    gdf.crs = from_epsg(3857)\n",
    "    test=gdf.copy()\n",
    "    #making buffer\n",
    "    test['geometry'] = test.geometry.buffer(.004,  cap_style=1, join_style=1)\n",
    "    # change back\n",
    "    test.crs = from_epsg(3857)\n",
    "#creating rectangle for cut\n",
    "    rect_orig=gdf.copy()\n",
    "    rect_orig['geometry'] = rect_orig.geometry.buffer(4,  cap_style=1, join_style=1)\n",
    "#difference\n",
    "    diff = gpd.overlay(rect_orig, test, how='difference')\n",
    "\n",
    "    geo_data = GeoData(geo_dataframe = diff,\n",
    "                   style={'fillColor': 'black', 'color':'black', 'weight':2,'fillOpacity':0.5},\n",
    "#                    hover_style={'fillColor': 'red' , 'fillOpacity': 0.2},\n",
    "                   name = 'Boundary')\n",
    "    layer_group.add_layer(geo_data)\n",
    "    \n",
    "button.on_click(on_button_clicked)\n",
    "\n",
    "    \n",
    "widget_control = WidgetControl(widget=button, position='topright')\n",
    "m.add_control(widget_control)\n",
    "\n",
    "\n",
    "layer_group = LayerGroup(layers=(marker, circle))\n",
    "m.add_layer(layer_group)\n",
    "\n",
    "display(m)"
   ]
  },
  {
   "cell_type": "code",
   "execution_count": 30,
   "metadata": {},
   "outputs": [
    {
     "name": "stdout",
     "output_type": "stream",
     "text": [
      "40.7210907 + -73.9877836\n"
     ]
    }
   ],
   "source": [
    "#Extracting latitude and longitude values as separate strings from marker location ie from center\n",
    "lat = str(markerlocation[0])\n",
    "lon = str(markerlocation[1])\n",
    "print(lat,'+', lon)"
   ]
  },
  {
   "cell_type": "code",
   "execution_count": 35,
   "metadata": {},
   "outputs": [
    {
     "name": "stdout",
     "output_type": "stream",
     "text": [
      "{\"input\":{\"lat\":40.7210907,\"lon\":-73.9877836},\"results\":[{\"block_fips\":\"360610030012000\",\"bbox\":[-73.988354,40.719833,-73.98695,40.721234],\"county_fips\":\"36061\",\"county_name\":\"New York\",\"state_fips\":\"36\",\"state_code\":\"NY\",\"state_name\":\"New York\",\"block_pop_2015\":504,\"amt\":\"AMT001\",\"bea\":\"BEA010\",\"bta\":\"BTA321\",\"cma\":\"CMA001\",\"eag\":\"EAG001\",\"ivm\":\"IVM001\",\"mea\":\"MEA002\",\"mta\":\"MTA001\",\"pea\":\"PEA001\",\"rea\":\"REA001\",\"rpc\":\"RPC001\",\"vpc\":\"VPC001\"},{\"block_fips\":\"360610030012001\",\"bbox\":[-73.989114,40.720077,-73.987769,40.721462],\"county_fips\":\"36061\",\"county_name\":\"New York\",\"state_fips\":\"36\",\"state_code\":\"NY\",\"state_name\":\"New York\",\"block_pop_2015\":531,\"amt\":\"AMT001\",\"bea\":\"BEA010\",\"bta\":\"BTA321\",\"cma\":\"CMA001\",\"eag\":\"EAG001\",\"ivm\":\"IVM001\",\"mea\":\"MEA002\",\"mta\":\"MTA001\",\"pea\":\"PEA001\",\"rea\":\"REA001\",\"rpc\":\"RPC001\",\"vpc\":\"VPC001\"}]}\n",
      "36\n",
      "36061\n",
      "New York\n"
     ]
    }
   ],
   "source": [
    "#Figure out which state and census block a latitude/longitude is in\n",
    "#USING PARAMETERS \n",
    "\n",
    "#Encode parameters \n",
    "# lat = '42.3295'\n",
    "# lon = '-71.0826'\n",
    "\n",
    "#Contruct request URL\n",
    "url = f'https://geo.fcc.gov/api/census/block/find?'\n",
    "\n",
    "# api call using variables instead of directly is way easier\n",
    "data_url = f'{url}lat={lat}&lon={lon}&format=json'\n",
    "#Get response from API\n",
    "response=requests.get(data_url)\n",
    "\n",
    "#Parse json in response\n",
    "data = response.json()\n",
    "\n",
    "print(response.text)\n",
    "\n",
    "#Print FIPS code\n",
    "print(data['results'][0]['state_fips'])\n",
    "print(data['results'][0]['county_fips'])\n",
    "print(data['results'][0]['county_name'])"
   ]
  },
  {
   "cell_type": "code",
   "execution_count": 38,
   "metadata": {},
   "outputs": [
    {
     "name": "stdout",
     "output_type": "stream",
     "text": [
      "36\n",
      "36061\n"
     ]
    }
   ],
   "source": [
    "#Extracting the county and state being studied \n",
    "state = data['results'][0]['state_fips']\n",
    "county_fips = data['results'][0]['county_fips']\n",
    "\n",
    "print(state)\n",
    "print(county_fips)"
   ]
  },
  {
   "cell_type": "code",
   "execution_count": 41,
   "metadata": {},
   "outputs": [
    {
     "name": "stdout",
     "output_type": "stream",
     "text": [
      "061\n"
     ]
    }
   ],
   "source": [
    "#Separating out the county fips from the state\n",
    "county = county_fips[2:]\n",
    "\n",
    "print(county)"
   ]
  },
  {
   "cell_type": "code",
   "execution_count": null,
   "metadata": {},
   "outputs": [],
   "source": []
  },
  {
   "cell_type": "code",
   "execution_count": 55,
   "metadata": {},
   "outputs": [],
   "source": [
    "#Downloading census \n",
    "\n",
    "# api_key = 9330dc4bf086a84f19fb412bb15f232507301de6\n",
    "with open('census_key.txt') as key:\n",
    "    api_key=key.read().strip()\n",
    " \n",
    "# here is defining the variables...\n",
    "# state='36' #state will be defined outside of here\n",
    "# county='005,047,061' #as will county...should i bother putting county there?  \n",
    "# tract='001002'\n",
    "time='2019-Q2'\n",
    "\n",
    "MSA_short='metropolitan%20statistical%20area/micropolitan%20statistical%20area'\n",
    "acs_url = f'https://api.census.gov/data/2018/acs/acs5/'\n",
    "qwi_url = f'https://api.census.gov/data/timeseries/qwi/sa'"
   ]
  },
  {
   "cell_type": "code",
   "execution_count": 56,
   "metadata": {},
   "outputs": [
    {
     "data": {
      "text/html": [
       "<div>\n",
       "<style scoped>\n",
       "    .dataframe tbody tr th:only-of-type {\n",
       "        vertical-align: middle;\n",
       "    }\n",
       "\n",
       "    .dataframe tbody tr th {\n",
       "        vertical-align: top;\n",
       "    }\n",
       "\n",
       "    .dataframe thead th {\n",
       "        text-align: right;\n",
       "    }\n",
       "</style>\n",
       "<table border=\"1\" class=\"dataframe\">\n",
       "  <thead>\n",
       "    <tr style=\"text-align: right;\">\n",
       "      <th></th>\n",
       "      <th>B01003_001E</th>\n",
       "      <th>state</th>\n",
       "      <th>county</th>\n",
       "      <th>tract</th>\n",
       "    </tr>\n",
       "  </thead>\n",
       "  <tbody>\n",
       "    <tr>\n",
       "      <td>0</td>\n",
       "      <td>2579</td>\n",
       "      <td>36</td>\n",
       "      <td>061</td>\n",
       "      <td>003700</td>\n",
       "    </tr>\n",
       "    <tr>\n",
       "      <td>1</td>\n",
       "      <td>3022</td>\n",
       "      <td>36</td>\n",
       "      <td>061</td>\n",
       "      <td>008601</td>\n",
       "    </tr>\n",
       "    <tr>\n",
       "      <td>2</td>\n",
       "      <td>16684</td>\n",
       "      <td>36</td>\n",
       "      <td>061</td>\n",
       "      <td>004400</td>\n",
       "    </tr>\n",
       "    <tr>\n",
       "      <td>3</td>\n",
       "      <td>4313</td>\n",
       "      <td>36</td>\n",
       "      <td>061</td>\n",
       "      <td>008603</td>\n",
       "    </tr>\n",
       "    <tr>\n",
       "      <td>4</td>\n",
       "      <td>0</td>\n",
       "      <td>36</td>\n",
       "      <td>061</td>\n",
       "      <td>008602</td>\n",
       "    </tr>\n",
       "  </tbody>\n",
       "</table>\n",
       "</div>"
      ],
      "text/plain": [
       "  B01003_001E state county   tract\n",
       "0        2579    36    061  003700\n",
       "1        3022    36    061  008601\n",
       "2       16684    36    061  004400\n",
       "3        4313    36    061  008603\n",
       "4           0    36    061  008602"
      ]
     },
     "execution_count": 56,
     "metadata": {},
     "output_type": "execute_result"
    }
   ],
   "source": [
    "# https://api.census.gov/data/2018/acs/acs5/profile?get=DP04_0001E&for=tract:*&in=state:36%20county:005,047&key=9330dc4bf086a84f19fb412bb15f232507301de6\n",
    "NAME_acs='B01003_001E'\n",
    "\n",
    "# api call using variables instead of directly is way easier\n",
    "acs_data_url = f'{acs_url}?&get={NAME_acs}&for=tract:*&in=state:{state}%20county:{county}&key={api_key}'\n",
    "response_acs=requests.get(acs_data_url)\n",
    "# print(response_acs.text)\n",
    "\n",
    "#load the response into a JSON\n",
    "data_acs=response_acs.json()\n",
    "#ignoring the first element which is column names, replacing columns with the columns from the table\n",
    "acs=pd.DataFrame(data_acs[1:], columns=data_acs[0])\n",
    "\n",
    "acs.head()"
   ]
  },
  {
   "cell_type": "code",
   "execution_count": 62,
   "metadata": {},
   "outputs": [
    {
     "data": {
      "text/html": [
       "<div>\n",
       "<style scoped>\n",
       "    .dataframe tbody tr th:only-of-type {\n",
       "        vertical-align: middle;\n",
       "    }\n",
       "\n",
       "    .dataframe tbody tr th {\n",
       "        vertical-align: top;\n",
       "    }\n",
       "\n",
       "    .dataframe thead th {\n",
       "        text-align: right;\n",
       "    }\n",
       "</style>\n",
       "<table border=\"1\" class=\"dataframe\">\n",
       "  <thead>\n",
       "    <tr style=\"text-align: right;\">\n",
       "      <th></th>\n",
       "      <th>geography</th>\n",
       "      <th>industry</th>\n",
       "      <th>sex</th>\n",
       "      <th>time</th>\n",
       "      <th>state</th>\n",
       "      <th>metropolitan statistical area/micropolitan statistical area</th>\n",
       "    </tr>\n",
       "  </thead>\n",
       "  <tbody>\n",
       "    <tr>\n",
       "      <td>0</td>\n",
       "      <td>3610580</td>\n",
       "      <td>1111</td>\n",
       "      <td>0</td>\n",
       "      <td>2019-Q2</td>\n",
       "      <td>36</td>\n",
       "      <td>10580</td>\n",
       "    </tr>\n",
       "    <tr>\n",
       "      <td>1</td>\n",
       "      <td>3610580</td>\n",
       "      <td>1111</td>\n",
       "      <td>1</td>\n",
       "      <td>2019-Q2</td>\n",
       "      <td>36</td>\n",
       "      <td>10580</td>\n",
       "    </tr>\n",
       "    <tr>\n",
       "      <td>2</td>\n",
       "      <td>3610580</td>\n",
       "      <td>1111</td>\n",
       "      <td>2</td>\n",
       "      <td>2019-Q2</td>\n",
       "      <td>36</td>\n",
       "      <td>10580</td>\n",
       "    </tr>\n",
       "    <tr>\n",
       "      <td>3</td>\n",
       "      <td>3610580</td>\n",
       "      <td>1112</td>\n",
       "      <td>0</td>\n",
       "      <td>2019-Q2</td>\n",
       "      <td>36</td>\n",
       "      <td>10580</td>\n",
       "    </tr>\n",
       "    <tr>\n",
       "      <td>4</td>\n",
       "      <td>3610580</td>\n",
       "      <td>1112</td>\n",
       "      <td>1</td>\n",
       "      <td>2019-Q2</td>\n",
       "      <td>36</td>\n",
       "      <td>10580</td>\n",
       "    </tr>\n",
       "  </tbody>\n",
       "</table>\n",
       "</div>"
      ],
      "text/plain": [
       "  geography industry sex     time state  \\\n",
       "0   3610580     1111   0  2019-Q2    36   \n",
       "1   3610580     1111   1  2019-Q2    36   \n",
       "2   3610580     1111   2  2019-Q2    36   \n",
       "3   3610580     1112   0  2019-Q2    36   \n",
       "4   3610580     1112   1  2019-Q2    36   \n",
       "\n",
       "  metropolitan statistical area/micropolitan statistical area  \n",
       "0                                              10580           \n",
       "1                                              10580           \n",
       "2                                              10580           \n",
       "3                                              10580           \n",
       "4                                              10580           "
      ]
     },
     "execution_count": 62,
     "metadata": {},
     "output_type": "execute_result"
    }
   ],
   "source": [
    "# \thttps://api.census.gov/data/timeseries/qwi/sa?get=year,agegrp,quarter&for=metropolitan%20statistical%20area/micropolitan%20statistical%20area:*&in=state:24&time=2010-Q1&key=YOUR_KEY_GOES_HERE\n",
    "NAME_qwi='geography,industry,sex'\n",
    "\n",
    "# api call using variables instead of directly is way easier\n",
    "qwi_data_url = f'{qwi_url}?&get={NAME_qwi}&for={MSA_short}:*&in=state:{state}&time={time}&key={api_key}'\n",
    "response_qwi=requests.get(qwi_data_url)\n",
    "# print(response_qwi.text)\n",
    "\n",
    "#load the response into a JSON\n",
    "data_qwi=response_qwi.json()\n",
    "#ignoring the first element which is just column names, replacing columns with the columns from the table\n",
    "qwi=pd.DataFrame(data_qwi[1:], columns=data_qwi[0])\n",
    "\n",
    "qwi.head()"
   ]
  },
  {
   "cell_type": "code",
   "execution_count": null,
   "metadata": {},
   "outputs": [],
   "source": [
    "qwi: geography,industry,sex,agegrp,education,firmsize\n",
    "\n",
    "acs:\n",
    "population, sex: B01003_001E,B01001_002E,B01001_026E, \n",
    "education: B15003_001E,B15003_017E,B15003_018E,B15003_019E,B15003_020E,B15003_021E,B15003_022E,B15003_023E,B15003_024E,B15003_025E\n",
    "english or no: B16001_001E,B16001_002E\n",
    "household income: B19001_002E,B19001_003E,B19001_004E,B19001_005E,B19001_006E,B19001_007E,B19001_008E,B19001_009E,B19001_010E,B19001_011E,B19001_012E,B19001_013E,B19001_014E,B19001_015E,B19001_016E, B19001_017E\n",
    "median rent as percentage of income: B25071_001E\n",
    "means of transportation to work: B08301_001E, B08301_002E, B08301_003E, B08301_003E, B08301_010E, B08301_016E, B08301_017E, B08301_018E, B08301_019E, B08301_021E\n",
    "travel time to work: B08303_002E, B08303_003E, B08303_004E, B08303_005E, B08303_006E, B08303_007E, B08303_008E, B08303_009E, B08303_010E, B08303_011E, B08303_012E, B08303_013E\n",
    "household type: B11001_002E, B11001_007E"
   ]
  },
  {
   "cell_type": "code",
   "execution_count": null,
   "metadata": {},
   "outputs": [],
   "source": []
  },
  {
   "cell_type": "code",
   "execution_count": null,
   "metadata": {},
   "outputs": [],
   "source": []
  },
  {
   "cell_type": "code",
   "execution_count": null,
   "metadata": {},
   "outputs": [],
   "source": []
  },
  {
   "cell_type": "code",
   "execution_count": null,
   "metadata": {},
   "outputs": [],
   "source": []
  },
  {
   "cell_type": "code",
   "execution_count": null,
   "metadata": {},
   "outputs": [],
   "source": []
  },
  {
   "cell_type": "code",
   "execution_count": null,
   "metadata": {},
   "outputs": [],
   "source": []
  },
  {
   "cell_type": "code",
   "execution_count": null,
   "metadata": {},
   "outputs": [],
   "source": []
  },
  {
   "cell_type": "code",
   "execution_count": null,
   "metadata": {},
   "outputs": [],
   "source": []
  },
  {
   "cell_type": "code",
   "execution_count": null,
   "metadata": {},
   "outputs": [],
   "source": [
    "#proportional split\n"
   ]
  }
 ],
 "metadata": {
  "kernelspec": {
   "display_name": "Python 3",
   "language": "python",
   "name": "python3"
  },
  "language_info": {
   "codemirror_mode": {
    "name": "ipython",
    "version": 3
   },
   "file_extension": ".py",
   "mimetype": "text/x-python",
   "name": "python",
   "nbconvert_exporter": "python",
   "pygments_lexer": "ipython3",
   "version": "3.7.4"
  }
 },
 "nbformat": 4,
 "nbformat_minor": 2
}
