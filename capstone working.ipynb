{
 "cells": [
  {
   "cell_type": "code",
   "execution_count": 32,
   "metadata": {},
   "outputs": [],
   "source": [
    "# links\n",
    "\n",
    "# acs\n",
    "# https://api.census.gov/data/2018/acs/acs5/profile/examples.html\n",
    "# https://api.census.gov/data/2018/acs/acs5/profile/geography.html\n",
    "# https://api.census.gov/data/2018/acs/acs5/variables.html\n",
    "# https://data.census.gov/cedsci/table?q=United%20States\n",
    "# https://www.census.gov/data/developers/data-sets/acs-5year.html\n",
    "\n",
    "# qwi\n",
    "# https://www.census.gov/data/developers/data-sets/qwi.html\n",
    "# https://api.census.gov/data/timeseries/qwi/sa/variables.html\n",
    "# https://api.census.gov/data/timeseries/qwi/sa/examples.html\n",
    "# https://api.census.gov/data/timeseries/qwi.html\n",
    "# https://lehd.ces.census.gov/doc/QWIPU_Data_Schema.pdf\n",
    "# https://lehd.ces.census.gov/doc/QWI_101.pdf"
   ]
  },
  {
   "cell_type": "code",
   "execution_count": 33,
   "metadata": {},
   "outputs": [
    {
     "data": {
      "text/plain": [
       "'C:\\\\Users\\\\Tola\\\\Documents\\\\Github\\\\capstone'"
      ]
     },
     "execution_count": 33,
     "metadata": {},
     "output_type": "execute_result"
    }
   ],
   "source": [
    "%pwd"
   ]
  },
  {
   "cell_type": "code",
   "execution_count": 34,
   "metadata": {},
   "outputs": [
    {
     "name": "stdout",
     "output_type": "stream",
     "text": [
      "[WinError 3] The system cannot find the path specified: 'Documents/Github/capstone'\n",
      "C:\\Users\\Tola\\Documents\\Github\\capstone\n"
     ]
    }
   ],
   "source": [
    "%cd Documents/Github/capstone"
   ]
  },
  {
   "cell_type": "code",
   "execution_count": 35,
   "metadata": {},
   "outputs": [],
   "source": [
    "#manipulate dataframes/geodataframes in python\n",
    "import pandas as pd\n",
    "import geopandas as gpd\n",
    "\n",
    "#make API calls with python\n",
    "import requests\n",
    "\n",
    "#allows us to store results of API call cleanly\n",
    "import json"
   ]
  },
  {
   "cell_type": "code",
   "execution_count": 36,
   "metadata": {},
   "outputs": [],
   "source": [
    "import numpy as np\n",
    "from shapely.geometry import Point, Polygon\n",
    "from fiona.crs import from_epsg\n",
    "import matplotlib.pyplot as plt\n",
    "%matplotlib inline"
   ]
  },
  {
   "cell_type": "code",
   "execution_count": 37,
   "metadata": {},
   "outputs": [],
   "source": [
    "from ipyleaflet import Map, GeoData, GeoJSON, basemaps, basemap_to_tiles, Icon, Circle, Marker, LayerGroup, WidgetControl\n",
    "from ipywidgets import Button \n",
    "import ipywidgets as widgets"
   ]
  },
  {
   "cell_type": "code",
   "execution_count": 38,
   "metadata": {},
   "outputs": [
    {
     "name": "stdout",
     "output_type": "stream",
     "text": [
      "[40.7210907, -73.9877836]\n"
     ]
    },
    {
     "data": {
      "application/vnd.jupyter.widget-view+json": {
       "model_id": "da5bc8286a8a467da03a835f91bb95e6",
       "version_major": 2,
       "version_minor": 0
      },
      "text/plain": [
       "Map(center=[40.7210907, -73.9877836], controls=(ZoomControl(options=['position', 'zoom_in_text', 'zoom_in_titl…"
      ]
     },
     "metadata": {},
     "output_type": "display_data"
    },
    {
     "name": "stdout",
     "output_type": "stream",
     "text": [
      "           0\n",
      "0  40.716194\n",
      "1 -74.000992\n",
      "    Latitude  Longitude\n",
      "0  40.716194 -74.000992\n",
      "{'init': 'epsg:3857', 'no_defs': True}\n",
      "           0\n",
      "0  40.720943\n",
      "1 -73.993780\n",
      "    Latitude  Longitude\n",
      "0  40.720943  -73.99378\n",
      "{'init': 'epsg:3857', 'no_defs': True}\n"
     ]
    }
   ],
   "source": [
    "#drawing basic map\n",
    "center = (40.7210907,-73.9877836)\n",
    "basemap = basemap_to_tiles(basemaps.CartoDB.Positron)\n",
    "\n",
    "icon = Icon(icon_url='icon.png', icon_size=[15, 15])\n",
    "marker = Marker(location=center, draggable=False, icon=icon, opacity = 0.8)\n",
    "\n",
    "m = Map(layers=(basemap, ), center=center, zoom=15, min_zoom = 11, max_zoom = 20)\n",
    "\n",
    "###HALF-MI BUFFER\n",
    "#set location of center as location of the point\n",
    "markerlocation=marker.location\n",
    "print(markerlocation)\n",
    "    \n",
    "radius = 402 #in-meters\n",
    "color = \"black\"\n",
    "fill_color = \"white\"\n",
    "fill_opacity = .2\n",
    "weight = 2\n",
    "\n",
    "##click on map to add marker, removes old marker as well\n",
    "def handle_click(**kwargs):\n",
    "    if kwargs.get('type') == 'click':\n",
    "        layer_group.clear_layers();\n",
    "        marker = Marker(location=kwargs.get('coordinates'), draggable=False, icon=icon, opacity = 0.8)\n",
    "        layer_group.add_layer(marker)\n",
    "        \n",
    "        #updating the circle's location\n",
    "        markerlocation=marker.location\n",
    "        circle.location = markerlocation\n",
    "        layer_group.add_layer(circle);\n",
    "        \n",
    "m.on_interaction(handle_click)\n",
    "######\n",
    "\n",
    "#create half-mi buffer\n",
    "circle = Circle()\n",
    "circle.location = markerlocation\n",
    "circle.radius = radius\n",
    "circle.color = color\n",
    "circle.fill_color = fill_color\n",
    "circle.fill_opacity = fill_opacity\n",
    "circle.weight = weight\n",
    "###########\n",
    "\n",
    "    \n",
    "# def on_location_changed(event):\n",
    "# #remove any circles existing first\n",
    "#     layer_group.clear_layers();\n",
    "\n",
    "# #update location of center as location of the point\n",
    "#     markerlocation = marker.location\n",
    "#     circle.location = markerlocation\n",
    "#     layer_group.add_layer(circle);\n",
    "        \n",
    "# pass\n",
    "# marker.observe(on_location_changed, 'location')\n",
    "# #######\n",
    "\n",
    "\n",
    "#adding button that performs the analysis on click \n",
    "button = Button(description=\"Analyze\")\n",
    "\n",
    "def on_button_clicked(b):   \n",
    "    #extracting the marker location for the buffer\n",
    "    location=circle.location\n",
    "    \n",
    "    df2 = pd.DataFrame(location)\n",
    "    print(df2)\n",
    "\n",
    "    df=df2.transpose()\n",
    "    df.columns=['Latitude','Longitude']\n",
    "    print(df.head())\n",
    "\n",
    "    #creating a geodataframe from the point\n",
    "    gdf = gpd.GeoDataFrame(\n",
    "        df, geometry=gpd.points_from_xy(df.Longitude, df.Latitude))\n",
    "#creating circle for cut\n",
    "    # gdf.crs = 'EPSG:4326'\n",
    "    gdf.crs = from_epsg(3857)\n",
    "    print(gdf.crs)\n",
    "    test=gdf.copy()\n",
    "    #making buffer\n",
    "    test['geometry'] = test.geometry.buffer(.004,  cap_style=1, join_style=1)\n",
    "    # change back\n",
    "    test.crs = from_epsg(3857)\n",
    "#creating rectangle for cut\n",
    "    rect_orig=gdf.copy()\n",
    "    rect_orig['geometry'] = rect_orig.geometry.buffer(4,  cap_style=1, join_style=1)\n",
    "#difference\n",
    "    diff = gpd.overlay(rect_orig, test, how='difference')\n",
    "\n",
    "    geo_data = GeoData(geo_dataframe = diff,\n",
    "                   style={'fillColor': 'black', 'color':'black', 'weight':2,'fillOpacity':0.5},\n",
    "#                    hover_style={'fillColor': 'red' , 'fillOpacity': 0.2},\n",
    "                   name = 'Boundary')\n",
    "    layer_group.add_layer(geo_data)\n",
    "    \n",
    "button.on_click(on_button_clicked)\n",
    "\n",
    "    \n",
    "widget_control = WidgetControl(widget=button, position='bottomleft')\n",
    "m.add_control(widget_control)\n",
    "\n",
    "\n",
    "layer_group = LayerGroup(layers=(marker, circle))\n",
    "m.add_layer(layer_group)\n",
    "\n",
    "display(m)"
   ]
  },
  {
   "cell_type": "code",
   "execution_count": null,
   "metadata": {},
   "outputs": [],
   "source": [
    "##what state does this fall in?\n"
   ]
  },
  {
   "cell_type": "code",
   "execution_count": null,
   "metadata": {},
   "outputs": [],
   "source": [
    "##Adding in MSAs and Census Tracts for states "
   ]
  },
  {
   "cell_type": "code",
   "execution_count": 26,
   "metadata": {},
   "outputs": [
    {
     "ename": "NameError",
     "evalue": "name 'zip_shp_to_gdf' is not defined",
     "output_type": "error",
     "traceback": [
      "\u001b[1;31m---------------------------------------------------------------------------\u001b[0m",
      "\u001b[1;31mNameError\u001b[0m                                 Traceback (most recent call last)",
      "\u001b[1;32m<ipython-input-26-e582fd0f92b5>\u001b[0m in \u001b[0;36m<module>\u001b[1;34m\u001b[0m\n\u001b[0;32m      1\u001b[0m \u001b[0mzipped_shp_url\u001b[0m \u001b[1;33m=\u001b[0m \u001b[1;34m'https://www2.census.gov/geo/tiger/TIGER2019/STATE/tl_2019_us_state.zip'\u001b[0m\u001b[1;33m\u001b[0m\u001b[1;33m\u001b[0m\u001b[0m\n\u001b[0;32m      2\u001b[0m \u001b[1;33m\u001b[0m\u001b[0m\n\u001b[1;32m----> 3\u001b[1;33m \u001b[0mall_ca_tract_geo\u001b[0m \u001b[1;33m=\u001b[0m \u001b[0mzip_shp_to_gdf\u001b[0m\u001b[1;33m(\u001b[0m\u001b[0mzipped_shp_url\u001b[0m\u001b[1;33m)\u001b[0m\u001b[1;33m\u001b[0m\u001b[1;33m\u001b[0m\u001b[0m\n\u001b[0m\u001b[0;32m      4\u001b[0m \u001b[0malameda_tract_geo\u001b[0m \u001b[1;33m=\u001b[0m \u001b[0mall_ca_tract_geo\u001b[0m\u001b[1;33m[\u001b[0m\u001b[0mall_ca_tract_geo\u001b[0m\u001b[1;33m.\u001b[0m\u001b[0mCOUNTYFP\u001b[0m\u001b[1;33m==\u001b[0m\u001b[1;34m'001'\u001b[0m\u001b[1;33m]\u001b[0m\u001b[1;33m\u001b[0m\u001b[1;33m\u001b[0m\u001b[0m\n\u001b[0;32m      5\u001b[0m \u001b[0malameda_tract_geo\u001b[0m \u001b[1;33m=\u001b[0m \u001b[0malameda_tract_geo\u001b[0m\u001b[1;33m.\u001b[0m\u001b[0mset_index\u001b[0m\u001b[1;33m(\u001b[0m\u001b[1;34m\"GEOID\"\u001b[0m\u001b[1;33m)\u001b[0m\u001b[1;33m[\u001b[0m\u001b[1;34m'geometry'\u001b[0m\u001b[1;33m]\u001b[0m\u001b[1;33m.\u001b[0m\u001b[0mto_crs\u001b[0m\u001b[1;33m(\u001b[0m\u001b[0mepsg\u001b[0m\u001b[1;33m=\u001b[0m\u001b[1;36m3310\u001b[0m\u001b[1;33m)\u001b[0m\u001b[1;33m\u001b[0m\u001b[1;33m\u001b[0m\u001b[0m\n",
      "\u001b[1;31mNameError\u001b[0m: name 'zip_shp_to_gdf' is not defined"
     ]
    }
   ],
   "source": [
    "zipped_shp_url = 'https://www2.census.gov/geo/tiger/TIGER2019/STATE/tl_2019_us_state.zip'\n",
    "\n",
    "all_ca_tract_geo = zip_shp_to_gdf(zipped_shp_url)\n",
    "alameda_tract_geo = all_ca_tract_geo[all_ca_tract_geo.COUNTYFP=='001']\n",
    "alameda_tract_geo = alameda_tract_geo.set_index(\"GEOID\")['geometry'].to_crs(epsg=3310)\n",
    "alameda_tract_geo.head()"
   ]
  },
  {
   "cell_type": "code",
   "execution_count": 29,
   "metadata": {},
   "outputs": [],
   "source": [
    "import geojson"
   ]
  },
  {
   "cell_type": "code",
   "execution_count": 30,
   "metadata": {},
   "outputs": [
    {
     "name": "stdout",
     "output_type": "stream",
     "text": [
      "Received 32 entries, 32 total\n",
      "Received 32 entries, 64 total\n",
      "Received 32 entries, 96 total\n",
      "Received 32 entries, 128 total\n",
      "Received 32 entries, 160 total\n",
      "Received 32 entries, 192 total\n",
      "Received 32 entries, 224 total\n",
      "Received 32 entries, 256 total\n",
      "Received 32 entries, 288 total\n",
      "Received 32 entries, 320 total\n",
      "Received 32 entries, 352 total\n",
      "Received 32 entries, 384 total\n",
      "Received 32 entries, 416 total\n",
      "Received 32 entries, 448 total\n",
      "Received 32 entries, 480 total\n",
      "Received 32 entries, 512 total\n",
      "Received 32 entries, 544 total\n",
      "Received 32 entries, 576 total\n",
      "Received 32 entries, 608 total\n",
      "Received 32 entries, 640 total\n",
      "Received 32 entries, 672 total\n",
      "Received 32 entries, 704 total\n",
      "Received 32 entries, 736 total\n",
      "Received 32 entries, 768 total\n",
      "Received 32 entries, 800 total\n",
      "Received 32 entries, 832 total\n",
      "Received 32 entries, 864 total\n",
      "Received 32 entries, 896 total\n",
      "Received 32 entries, 928 total\n",
      "Received 32 entries, 960 total\n",
      "Received 32 entries, 992 total\n",
      "Received 32 entries, 1024 total\n",
      "Received 32 entries, 1056 total\n",
      "Received 32 entries, 1088 total\n",
      "Received 32 entries, 1120 total\n",
      "Received 32 entries, 1152 total\n",
      "Received 32 entries, 1184 total\n",
      "Received 32 entries, 1216 total\n",
      "Received 32 entries, 1248 total\n",
      "Received 32 entries, 1280 total\n",
      "Received 32 entries, 1312 total\n",
      "Received 32 entries, 1344 total\n",
      "Received 32 entries, 1376 total\n",
      "Received 32 entries, 1408 total\n",
      "Received 32 entries, 1440 total\n",
      "Received 32 entries, 1472 total\n",
      "Received 32 entries, 1504 total\n",
      "Received 32 entries, 1536 total\n",
      "Received 32 entries, 1568 total\n",
      "Received 32 entries, 1600 total\n",
      "Received 32 entries, 1632 total\n",
      "Received 32 entries, 1664 total\n",
      "Received 32 entries, 1696 total\n",
      "Received 32 entries, 1728 total\n",
      "Received 32 entries, 1760 total\n",
      "Received 32 entries, 1792 total\n",
      "Received 32 entries, 1824 total\n",
      "Received 32 entries, 1856 total\n",
      "Received 32 entries, 1888 total\n",
      "Received 32 entries, 1920 total\n",
      "Received 32 entries, 1952 total\n",
      "Received 32 entries, 1984 total\n",
      "Received 32 entries, 2016 total\n",
      "Received 32 entries, 2048 total\n",
      "Received 32 entries, 2080 total\n",
      "Received 32 entries, 2112 total\n",
      "Received 32 entries, 2144 total\n",
      "Received 32 entries, 2176 total\n",
      "Received 32 entries, 2208 total\n",
      "Received 32 entries, 2240 total\n",
      "Received 32 entries, 2272 total\n",
      "Received 32 entries, 2304 total\n",
      "Received 32 entries, 2336 total\n",
      "Received 32 entries, 2368 total\n",
      "Received 32 entries, 2400 total\n",
      "Received 32 entries, 2432 total\n",
      "Received 32 entries, 2464 total\n",
      "Received 32 entries, 2496 total\n",
      "Received 32 entries, 2528 total\n",
      "Received 32 entries, 2560 total\n",
      "Received 32 entries, 2592 total\n",
      "Received 32 entries, 2624 total\n",
      "Received 32 entries, 2656 total\n",
      "Received 32 entries, 2688 total\n",
      "Received 32 entries, 2720 total\n",
      "Received 32 entries, 2752 total\n",
      "Received 32 entries, 2784 total\n",
      "Received 32 entries, 2816 total\n",
      "Received 32 entries, 2848 total\n",
      "Received 32 entries, 2880 total\n",
      "Received 32 entries, 2912 total\n",
      "Received 32 entries, 2944 total\n",
      "Received 32 entries, 2976 total\n",
      "Received 32 entries, 3008 total\n",
      "Received 32 entries, 3040 total\n",
      "Received 32 entries, 3072 total\n",
      "Received 32 entries, 3104 total\n",
      "Received 32 entries, 3136 total\n",
      "Received 32 entries, 3168 total\n",
      "Received 32 entries, 3200 total\n",
      "Received 32 entries, 3232 total\n",
      "Received 1 entries, 3233 total\n",
      "Wall time: 8min\n"
     ]
    }
   ],
   "source": [
    "%%time\n",
    "endpoint = 'https://tigerweb.geo.census.gov/arcgis/rest/services/TIGERweb/tigerWMS_ACS2015/MapServer/84/query'\n",
    "s = requests.session()\n",
    "s.params = {\n",
    "    'where': '',\n",
    "    'text': '',\n",
    "    'objectIds': '',\n",
    "    'time': '',\n",
    "    'geometry': '[[-2336502.536,-20037700.],[1.1615796196E7,2.0656504635E7]]',\n",
    "    'geometryType': 'esriGeometryEnvelope',\n",
    "    'inSR': 102100, # EPSG 3857\n",
    "    'spatialRel': 'esriSpatialRelIntersects',\n",
    "    'relationParam': '',\n",
    "    'outFields': 'STATE,COUNTY,BASENAME,NAME,STGEOMETRY',\n",
    "    'returnGeometry': True,\n",
    "    'returnTrueCurves': False,\n",
    "    'maxAllowableOffset': '',\n",
    "    'geometryPrecision': '',\n",
    "    'outSR': '',\n",
    "    'returnIdsOnly': False,\n",
    "    'returnCountOnly': False,\n",
    "    'orderByFields': '',\n",
    "    'groupByFieldsForStatistics': '',\n",
    "    'outStatistics': '',\n",
    "    'returnZ': False,\n",
    "    'returnM': False,\n",
    "    'gdbVersion': '',\n",
    "    'returnDistinctValues': False,\n",
    "    'f': 'geojson',        \n",
    "}\n",
    "start = 0\n",
    "done = False\n",
    "features = []\n",
    "crs = None\n",
    "while not done:\n",
    "    r = s.get(endpoint, params={\n",
    "        'resultOffset': start,\n",
    "        'resultRecordCount': 32,\n",
    "    })\n",
    "    r.raise_for_status()\n",
    "    counties = geojson.loads(r.text)\n",
    "    newfeats = counties.__geo_interface__['features']\n",
    "    if newfeats:\n",
    "        features.extend(newfeats)\n",
    "        crs=counties.__geo_interface__['crs']\n",
    "        start += len(newfeats)\n",
    "        print(\"Received\", len(newfeats), \"entries,\", start, \"total\")\n",
    "    else:\n",
    "        done = True\n",
    "counties_df = gpd.GeoDataFrame.from_features(features, crs=crs)"
   ]
  },
  {
   "cell_type": "code",
   "execution_count": 28,
   "metadata": {},
   "outputs": [
    {
     "ename": "NameError",
     "evalue": "name 'counties_df' is not defined",
     "output_type": "error",
     "traceback": [
      "\u001b[1;31m---------------------------------------------------------------------------\u001b[0m",
      "\u001b[1;31mNameError\u001b[0m                                 Traceback (most recent call last)",
      "\u001b[1;32m<ipython-input-28-df2e4893e159>\u001b[0m in \u001b[0;36m<module>\u001b[1;34m\u001b[0m\n\u001b[1;32m----> 1\u001b[1;33m \u001b[0mcounties_df\u001b[0m\u001b[1;33m\u001b[0m\u001b[1;33m\u001b[0m\u001b[0m\n\u001b[0m",
      "\u001b[1;31mNameError\u001b[0m: name 'counties_df' is not defined"
     ]
    }
   ],
   "source": [
    "counties_df"
   ]
  },
  {
   "cell_type": "code",
   "execution_count": null,
   "metadata": {},
   "outputs": [],
   "source": [
    "# key = 9330dc4bf086a84f19fb412bb15f232507301de6\n",
    "with open('census_key.txt') as key:\n",
    "    api_key=key.read().strip()\n",
    " \n",
    "# here is defining the variables...\n",
    "NAME_acs='B01003_001E,B25074_001E'\n",
    "state='36'\n",
    "county='005,047,061'\n",
    "# tract='001002'\n",
    "time='2019-Q2'\n",
    "NAME_qwi='geography,industry,sex,agegrp,education,firmsize'\n",
    "MSA_short='metropolitan%20statistical%20area/micropolitan%20statistical%20area'"
   ]
  },
  {
   "cell_type": "code",
   "execution_count": null,
   "metadata": {},
   "outputs": [],
   "source": [
    "acs_url = f'https://api.census.gov/data/2018/acs/acs5/'\n",
    "qwi_url = f'https://api.census.gov/data/timeseries/qwi/sa'"
   ]
  },
  {
   "cell_type": "code",
   "execution_count": null,
   "metadata": {},
   "outputs": [],
   "source": [
    "# \thttps://api.census.gov/data/timeseries/qwi/sa?get=year,agegrp,quarter&for=metropolitan%20statistical%20area/micropolitan%20statistical%20area:*&in=state:24&time=2010-Q1&key=YOUR_KEY_GOES_HERE\n",
    "\n",
    "# api call using variables instead of directly is way easier\n",
    "qwi_data_url = f'{qwi_url}?&get={NAME_qwi}&for={MSA_short}:*&in=state:{state}&time={time}&key={api_key}'\n",
    "response_qwi=requests.get(qwi_data_url)\n",
    "print(response_qwi.text)"
   ]
  },
  {
   "cell_type": "code",
   "execution_count": null,
   "metadata": {},
   "outputs": [],
   "source": [
    "# https://api.census.gov/data/2018/acs/acs5/profile?get=DP04_0001E&for=tract:*&in=state:36%20county:005,047&key=9330dc4bf086a84f19fb412bb15f232507301de6\n",
    "\n",
    "# api call using variables instead of directly is way easier\n",
    "acs_data_url = f'{acs_url}?&get={NAME_acs}&for=tract:*&in=state:{state}%20county:{county}&key={api_key}'\n",
    "response_acs=requests.get(acs_data_url)\n",
    "print(response_acs.text)"
   ]
  },
  {
   "cell_type": "code",
   "execution_count": null,
   "metadata": {},
   "outputs": [],
   "source": [
    "#load the response into a JSON\n",
    "data_acs=response_acs.json()\n",
    "#ignoring the first element which is column names, replacing columns with the columns from the table\n",
    "acs=pd.DataFrame(data_acs[1:], columns=data_acs[0])\n",
    "\n",
    "acs.head()"
   ]
  },
  {
   "cell_type": "code",
   "execution_count": null,
   "metadata": {},
   "outputs": [],
   "source": [
    "#load the response into a JSON\n",
    "data_qwi=response_qwi.json()\n",
    "#ignoring the first element which is just column names, replacing columns with the columns from the table\n",
    "qwi=pd.DataFrame(data_qwi[1:], columns=data_qwi[0])\n",
    "\n",
    "qwi.head()"
   ]
  },
  {
   "cell_type": "code",
   "execution_count": null,
   "metadata": {},
   "outputs": [],
   "source": []
  },
  {
   "cell_type": "code",
   "execution_count": null,
   "metadata": {},
   "outputs": [],
   "source": []
  },
  {
   "cell_type": "code",
   "execution_count": null,
   "metadata": {},
   "outputs": [],
   "source": []
  },
  {
   "cell_type": "code",
   "execution_count": null,
   "metadata": {},
   "outputs": [],
   "source": []
  },
  {
   "cell_type": "code",
   "execution_count": null,
   "metadata": {},
   "outputs": [],
   "source": [
    "#proportional split\n"
   ]
  }
 ],
 "metadata": {
  "kernelspec": {
   "display_name": "Python 3",
   "language": "python",
   "name": "python3"
  },
  "language_info": {
   "codemirror_mode": {
    "name": "ipython",
    "version": 3
   },
   "file_extension": ".py",
   "mimetype": "text/x-python",
   "name": "python",
   "nbconvert_exporter": "python",
   "pygments_lexer": "ipython3",
   "version": "3.7.4"
  }
 },
 "nbformat": 4,
 "nbformat_minor": 2
}
