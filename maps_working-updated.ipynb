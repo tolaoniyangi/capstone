{
 "cells": [
  {
   "cell_type": "code",
   "execution_count": 272,
   "metadata": {},
   "outputs": [],
   "source": [
    "import geopandas as gpd\n",
    "import pandas as pd\n",
    "import numpy as np\n",
    "from shapely.geometry import Point, Polygon\n",
    "import matplotlib.pyplot as plt\n",
    "from fiona.crs import from_epsg"
   ]
  },
  {
   "cell_type": "code",
   "execution_count": 273,
   "metadata": {},
   "outputs": [],
   "source": [
    "import urllib, json, requests \n",
    "import geojson"
   ]
  },
  {
   "cell_type": "code",
   "execution_count": 274,
   "metadata": {},
   "outputs": [],
   "source": [
    "from ipyleaflet import Map, GeoData, GeoJSON, basemaps, basemap_to_tiles, Icon, Circle, Marker, LayerGroup, WidgetControl\n",
    "import ipywidgets as widgets\n",
    "from ipywidgets import Button \n",
    "from IPython.display import display, clear_output"
   ]
  },
  {
   "cell_type": "code",
   "execution_count": 4,
   "metadata": {},
   "outputs": [],
   "source": [
    "#drawing basic map\n",
    "center = (40.7210907,-73.9877836)\n",
    "basemap = basemap_to_tiles(basemaps.CartoDB.Positron)\n",
    "\n",
    "m = Map(layers=(basemap, ), center=center, zoom=15, min_zoom = 7, max_zoom = 20)\n",
    "\n",
    "button = Button(description=\"Generate Text\")\n",
    "output = widgets.Output()\n",
    "\n",
    "widget_control = WidgetControl(widget=button, position='topright')\n",
    "m.add_control(widget_control)"
   ]
  },
  {
   "cell_type": "code",
   "execution_count": 5,
   "metadata": {},
   "outputs": [],
   "source": [
    "def extract_location():       \n",
    "    global gdf, lat, lon\n",
    "    \n",
    "    lat = str(markerlocation[0])\n",
    "    lon = str(markerlocation[1])\n",
    "    \n",
    "    df2 = pd.DataFrame(markerlocation)\n",
    "    df=df2.transpose()\n",
    "    df.columns=['Latitude','Longitude']\n",
    "\n",
    "    gdf = gpd.GeoDataFrame(df, geometry=gpd.points_from_xy(df.Longitude, df.Latitude))\n",
    "    \n",
    "    return gdf"
   ]
  },
  {
   "cell_type": "code",
   "execution_count": 6,
   "metadata": {},
   "outputs": [],
   "source": [
    "draggable=False\n",
    "marker_opacity=1\n",
    "icon = Icon(icon_url='icon.png', icon_size=[15, 15])\n",
    "\n",
    "marker = Marker(location=center, draggable=draggable, icon=icon, opacity=marker_opacity)\n",
    "\n",
    "markerlocation = marker.location \n",
    "\n",
    "layer_group = LayerGroup(layers=(marker, ))\n",
    "m.add_layer(layer_group)\n",
    "   \n",
    "def update_marker(**kwargs):\n",
    "    \n",
    "    if kwargs.get('type') == 'click':\n",
    "        layer_group.clear_layers();\n",
    "        \n",
    "        marker = Marker(location=kwargs.get('coordinates'), draggable=draggable, icon=icon, opacity=marker_opacity, options=['rise_on_hover'])  \n",
    "        \n",
    "        global markerlocation\n",
    "        markerlocation = marker.location \n",
    "        \n",
    "        layer_group.add_layer(marker)\n",
    "    \n",
    "        draw_update_buffer(**kwargs)\n",
    "    \n",
    "m.on_interaction(update_marker)"
   ]
  },
  {
   "cell_type": "code",
   "execution_count": 176,
   "metadata": {},
   "outputs": [],
   "source": [
    "def draw_update_buffer(**kwargs):     \n",
    "    m.on_interaction(update_marker)\n",
    "    extract_location()\n",
    "    \n",
    "    global half_mi\n",
    "    half_mi=gdf.copy()\n",
    "    half_mi['geometry'] = half_mi.geometry.buffer(.004,  cap_style=1, join_style=1)\n",
    "\n",
    "    map_extent = gdf.copy()\n",
    "    map_extent['geometry'] = map_extent.buffer(1,  cap_style=1, join_style=1)\n",
    "\n",
    "    diff_half_mi = gpd.overlay(map_extent, half_mi, how='difference')\n",
    "    \n",
    "    half_mi_buffer = GeoData(geo_dataframe = diff_half_mi,\n",
    "                       style={'color': \"black\", \\\n",
    "                              'fillColor': \"#000000\", \\\n",
    "                              'fillOpacity': .2, \\\n",
    "                              'opacity': 1, \\\n",
    "                              'weight': 2},\n",
    "                       name = \"Test\")\n",
    "\n",
    "    layer_group.add_layer(half_mi_buffer) "
   ]
  },
  {
   "cell_type": "code",
   "execution_count": 177,
   "metadata": {},
   "outputs": [
    {
     "data": {
      "application/vnd.jupyter.widget-view+json": {
       "model_id": "e071a663b0c749cdb74c8eb05112bb71",
       "version_major": 2,
       "version_minor": 0
      },
      "text/plain": [
       "Map(center=[40.7210907, -73.9877836], controls=(ZoomControl(options=['position', 'zoom_in_text', 'zoom_in_titl…"
      ]
     },
     "metadata": {},
     "output_type": "display_data"
    }
   ],
   "source": [
    "draw_update_buffer()\n",
    "\n",
    "m"
   ]
  },
  {
   "cell_type": "code",
   "execution_count": 265,
   "metadata": {},
   "outputs": [
    {
     "data": {
      "text/html": [
       "<div>\n",
       "<style scoped>\n",
       "    .dataframe tbody tr th:only-of-type {\n",
       "        vertical-align: middle;\n",
       "    }\n",
       "\n",
       "    .dataframe tbody tr th {\n",
       "        vertical-align: top;\n",
       "    }\n",
       "\n",
       "    .dataframe thead th {\n",
       "        text-align: right;\n",
       "    }\n",
       "</style>\n",
       "<table border=\"1\" class=\"dataframe\">\n",
       "  <thead>\n",
       "    <tr style=\"text-align: right;\">\n",
       "      <th></th>\n",
       "      <th>Latitude</th>\n",
       "      <th>Longitude</th>\n",
       "      <th>geometry</th>\n",
       "    </tr>\n",
       "  </thead>\n",
       "  <tbody>\n",
       "    <tr>\n",
       "      <td>0</td>\n",
       "      <td>40.72294</td>\n",
       "      <td>-73.997499</td>\n",
       "      <td>POINT (-73.99750 40.72294)</td>\n",
       "    </tr>\n",
       "  </tbody>\n",
       "</table>\n",
       "</div>"
      ],
      "text/plain": [
       "   Latitude  Longitude                    geometry\n",
       "0  40.72294 -73.997499  POINT (-73.99750 40.72294)"
      ]
     },
     "execution_count": 265,
     "metadata": {},
     "output_type": "execute_result"
    }
   ],
   "source": [
    "gdf"
   ]
  },
  {
   "cell_type": "code",
   "execution_count": 335,
   "metadata": {},
   "outputs": [
    {
     "name": "stdout",
     "output_type": "stream",
     "text": [
      "Received 11 entries, 11 total\n"
     ]
    },
    {
     "data": {
      "text/plain": [
       "<matplotlib.axes._subplots.AxesSubplot at 0x1f7e7a1db08>"
      ]
     },
     "execution_count": 335,
     "metadata": {},
     "output_type": "execute_result"
    },
    {
     "data": {
      "image/png": "[encoded data removed]",
      "text/plain": [
       "<Figure size 432x288 with 1 Axes>"
      ]
     },
     "metadata": {
      "needs_background": "light"
     },
     "output_type": "display_data"
    }
   ],
   "source": [
    "def import_censustracts():\n",
    "    bounding_box = half_mi.envelope\n",
    "    df = gpd.GeoDataFrame(gpd.GeoSeries(bounding_box), columns=['geometry'])\n",
    "    minx, miny, maxx, maxy = df.geometry.total_bounds\n",
    "    bounds = minx, miny, maxx, maxy\n",
    "\n",
    "    # census tracts link\n",
    "    endpoint = 'https://tigerweb.geo.census.gov/arcgis/rest/services/TIGERweb/Tracts_Blocks/MapServer/4/query'\n",
    "    s = requests.session()\n",
    "    s.params = {\n",
    "        'geometry': str(bounds),\n",
    "        'geometryType': 'esriGeometryEnvelope',\n",
    "        'inSR': 4326,\n",
    "        'spatialRel': 'esriSpatialRelIntersects',\n",
    "        'outFields': 'GEOID,STATE,NAME,STGEOMETRY,OBJECTID',\n",
    "        'returnGeometry': True,\n",
    "        'f': 'geojson',        \n",
    "    }\n",
    "    start = 0\n",
    "    done = False\n",
    "    features = []\n",
    "    crs = None\n",
    "    while not done:\n",
    "        r = s.get(endpoint, params={\n",
    "            'resultOffset': start,\n",
    "            'resultRecordCount': 32,\n",
    "        })\n",
    "        censusgeo = geojson.loads(r.text)\n",
    "        newfeats = censusgeo.__geo_interface__['features']\n",
    "        if newfeats:\n",
    "            features.extend(newfeats)\n",
    "            crs=censusgeo.__geo_interface__['crs']\n",
    "            start += len(newfeats)\n",
    "            print(\"Received\", len(newfeats), \"entries,\", start, \"total\")\n",
    "        else:\n",
    "            done = True\n",
    "\n",
    "    tracts = gpd.GeoDataFrame.from_features(features, crs=crs)\n",
    "    return tracts"
   ]
  },
  {
   "cell_type": "code",
   "execution_count": null,
   "metadata": {},
   "outputs": [],
   "source": []
  },
  {
   "cell_type": "code",
   "execution_count": null,
   "metadata": {},
   "outputs": [],
   "source": []
  },
  {
   "cell_type": "code",
   "execution_count": 10,
   "metadata": {},
   "outputs": [],
   "source": [
    "def download_acs():  \n",
    "    api_key = '9330dc4bf086a84f19fb412bb15f232507301de6'\n",
    "    acs_url = f'https://api.census.gov/data/2018/acs/acs5/'\n",
    "#BUT NO NEED FOR SEPARATE TABLES ANYMORE, NO?\n",
    "    pop_sex = 'B01003_001E,B01001_002E,B01001_026E'\n",
    "    household_type = 'B11001_002E,B11001_007E'\n",
    "    education = 'B15003_001E,B15003_017E,B15003_018E,B15003_019E,B15003_020E,B15003_021E,B15003_022E,B15003_023E,B15003_024E,B15003_025E'\n",
    "    household_income = 'B19001_002E,B19001_003E,B19001_004E,B19001_005E,B19001_006E,B19001_007E,B19001_008E,B19001_009E,B19001_010E,B19001_011E,B19001_012E,B19001_013E,B19001_014E,B19001_015E,B19001_016E,B19001_017E'\n",
    "    means_of_transport = 'B08301_002E,B08301_003E,B08301_003E,B08301_010E,B08301_016E,B08301_017E,B08301_018E,B08301_019E,B08301_020E,B08301_021E'\n",
    "    travel_time = 'B08303_002E,B08303_003E,B08303_004E,B08303_005E,B08303_006E,B08303_007E,B08303_008E,B08303_009E,B08303_010E,B08303_011E,B08303_012E,B08303_013E'\n",
    "\n",
    "    # api call using variables instead of directly is way easier\n",
    "    pop_sex_url = f'{acs_url}?&get={pop_sex}&for=tract:*&in=state:{state}%20county:*&key={api_key}'\n",
    "    household_type_url = f'{acs_url}?&get={household_type}&for=tract:*&in=state:{state}%20county:*&key={api_key}'\n",
    "    education_url = f'{acs_url}?&get={education}&for=tract:*&in=state:{state}%20county:*&key={api_key}'\n",
    "    household_income_url = f'{acs_url}?&get={household_income}&for=tract:*&in=state:{state}%20county:*&key={api_key}'\n",
    "    means_of_transport_url = f'{acs_url}?&get={means_of_transport}&for=tract:*&in=state:{state}%20county:*&key={api_key}'\n",
    "    travel_time_url = f'{acs_url}?&get={travel_time}&for=tract:*&in=state:{state}%20county:*&key={api_key}'\n",
    "\n",
    "    #load the response into a JSON\n",
    "    data_acs1=requests.get(pop_sex_url).json()\n",
    "    data_acs2=requests.get(household_type_url).json()\n",
    "    data_acs3=requests.get(education_url).json()\n",
    "    data_acs4=requests.get(household_income_url).json()\n",
    "    data_acs5=requests.get(means_of_transport_url).json()\n",
    "    data_acs6=requests.get(travel_time_url).json()\n",
    "    # print(response_acs.text)\n",
    "\n",
    "    #ignoring the first element which is column names, replacing columns with the columns from the table\n",
    "    acs1=pd.DataFrame(data_acs1[1:], columns=data_acs1[0])\n",
    "    acs2=pd.DataFrame(data_acs2[1:], columns=data_acs2[0])\n",
    "    acs3=pd.DataFrame(data_acs3[1:], columns=data_acs3[0])\n",
    "    acs4=pd.DataFrame(data_acs4[1:], columns=data_acs4[0])\n",
    "    acs5=pd.DataFrame(data_acs5[1:], columns=data_acs5[0])\n",
    "    acs6=pd.DataFrame(data_acs6[1:], columns=data_acs6[0])\n",
    "    \n",
    "    return acs1, acs2, acs3, acs4, acs5, acs6"
   ]
  },
  {
   "cell_type": "code",
   "execution_count": 12,
   "metadata": {},
   "outputs": [],
   "source": [
    "def join_acs():\n",
    "    #Combine all acs tables\n",
    "    acs_only = [acs1, acs2, acs3, acs4, acs5, acs6]\n",
    "    acs_only = [df.set_index('tract') for df in acs_only]\n",
    "    acs_only = acs_only[0].join(acs_only[1:])\n",
    "\n",
    "    #drop duplicate columns\n",
    "    acs_only = acs_only.loc[:,~acs_only.columns.duplicated()]\n",
    "\n",
    "    acs_only.rename(columns = { 'state_x': 'state',\\\n",
    "                                'county_x': 'county',\\\n",
    "                            }, inplace=True)\n",
    "    # #GEOID = state+county+tract\n",
    "    acs_only[\"GEOID\"]= acs_only['state'].astype(str)+acs_only['county'].astype(str)+acs_only['tract'].astype(str)\n",
    "\n",
    "    \n",
    "    tracts_df[\"area\"]=tracts_df[area]\n",
    "    tracts_clipped = gpd.clip(tracts_df, test)\n",
    "    tracts_clipped[\"area\"]=tracts_clipped[area]\n",
    "\n",
    "    #only join after calculating tracts area and clipping to boundary \n",
    "    acs_tracts = pd.merge(tracts_df, acs_only, on='GEOID', how='left')\n",
    "\n",
    "    return acs_only, acs_tracts\n",
    "# #rename headings, concatenate datasets, summarize etc\n",
    "# #CENSUS TRACTS\n",
    "\n",
    "# # acs1.rename(columns = {'B01003_001E':'pop',\\\n",
    "# #                        'B01001_002E':'male',\\\n",
    "# #                        'B01001_026E':'female'\\\n",
    "# #                       }, inplace = True) \n",
    "\n",
    "# # acs2.rename(columns = {'B11001_002E':'family',\\\n",
    "# #                        'B11001_007E':'nonfamily'\\\n",
    "# #                       }, inplace = True) \n",
    "\n",
    "# # # acs3[\"lessthan9thgrade\"]=acs3['']+acs3['']+acs3['']+acs3['']+acs3['']+acs3['']+acs3['']+acs3['']+acs3['']+acs3['']\n",
    "# # # acs3[\"9thto12thgrade\"]= acs3['']+acs3['']+acs3['']+acs3['']+acs3['']+acs3['']+acs3['']+acs3['']+acs3['']+acs3['']\n",
    "# # acs3[\"highschoolgraduate_GED\"]= acs3['B15003_017E']+acs3['B15003_018E']\n",
    "# # acs3[\"some_college\"]= acs3['B15003_019E']+acs3['B15003_020E']\n",
    "# # acs3[\"associate_degree\"] = acs3['B15003_021E']\n",
    "# # acs3[\"bachelors_degree\"] = acs3['B15003_022E']\n",
    "# # acs3[\"graduate_or_professional_degree\"] = acs3['B15003_023E']+acs3['B15003_024E']\n",
    "# # acs3['doctoratedegree'] = acs3[\"B15003_025E\"]\n",
    "# # acs3.drop(['B15003_001E','B15003_017E','B15003_018E','B15003_019E','B15003_020E','B15003_021E','B15003_022E','B15003_023E','B15003_024E','B15003_025E'], axis = 1) \n",
    "\n",
    "# # acs4[\"lessthan10000\"]= acs4['B19001_002E']\n",
    "# # acs4[\"10000to34999\"]= acs4['B19001_003E']+acs4['B19001_004E']+acs4['B19001_005E']+acs4['B19001_006E']+acs4['B19001_007E']\n",
    "# # acs4[\"35000to49999\"] = acs4['B19001_008E']+acs4['B19001_009E']+acs4['B19001_010E']\n",
    "# # acs4[\"50000to74999\"] = acs4['B19001_011E']+acs4['B19001_011E']\n",
    "# # acs4[\"75000to99000\"] = acs4['B19001_013E']\n",
    "# # acs4['100000to199000'] = acs4[\"B19001_014E\"]+acs4['B19001_015E']+acs4['B19001_016E']\n",
    "# # acs4['200000ormore'] = acs4[\"B19001_017E\"]\n",
    "# # acs4.drop(['B19001_002E','B19001_003E','B19001_004E','B19001_005E','B19001_006E','B19001_007E','B19001_008E','B19001_009E','B19001_010E','B19001_011E','B19001_012E','B19001_013E','B19001_014E','B19001_015E','B19001_016E','B19001_017E'])\n",
    "\n",
    "# # acs5.rename(columns = {'B08301_003E':'car_truck_van_drove_alone',\\\n",
    "# #                        'B08301_004E':'car_truck_van_carpool',\\\n",
    "# #                        'B08301_010E':'public_transportation',\\\n",
    "# #                        'B08301_016E':'taxicab',\\\n",
    "# #                        'B08301_017E':'motorcycle',\\\n",
    "# #                        'B08301_018E':'bicycle',\\\n",
    "# #                        'B08301_019E':'walked',\\\n",
    "# #                        'B08301_021E':'worked_at_home',\\\n",
    "# #                        'B08301_020E':'other_means'\\\n",
    "# #                       }, inplace = True) \n",
    "\n",
    "# # acs6[\"lessthan10mins\"]= acs6['B08303_002E']+acs6['B08303_003E']\n",
    "# # acs6[\"10to29mins\"]= acs6['B08303_004E']+acs6['B08303_005E']+acs6['B08303_006E']+acs6['B08303_007E']\n",
    "# # acs6[\"30to59mins\"]= acs6['B08303_008E']+acs6['B08303_009E']+acs6['B08303_010E']+acs6['B08303_011E']\n",
    "# # acs6[\"60minsormore\"]= acs6['B08303_012E']+acs6['B08303_013E']\n",
    "# # acs6.drop(['B08303_002E','B08303_003E','B08303_004E','B08303_005E','B08303_006E','B08303_007E','B08303_008E','B08303_009E','B08303_010E','B08303_011E','B08303_012E','B08303_013E'])"
   ]
  },
  {
   "cell_type": "code",
   "execution_count": null,
   "metadata": {},
   "outputs": [],
   "source": []
  },
  {
   "cell_type": "code",
   "execution_count": null,
   "metadata": {},
   "outputs": [],
   "source": []
  },
  {
   "cell_type": "code",
   "execution_count": null,
   "metadata": {},
   "outputs": [],
   "source": [
    "print(acs_all.columns)\n",
    "print(tracts_df.columns)"
   ]
  },
  {
   "cell_type": "code",
   "execution_count": null,
   "metadata": {},
   "outputs": [],
   "source": [
    "acs_all.head()"
   ]
  },
  {
   "cell_type": "code",
   "execution_count": null,
   "metadata": {},
   "outputs": [],
   "source": [
    "def clean_acs():"
   ]
  },
  {
   "cell_type": "code",
   "execution_count": null,
   "metadata": {},
   "outputs": [],
   "source": [
    "def proportional_split():"
   ]
  },
  {
   "cell_type": "code",
   "execution_count": null,
   "metadata": {},
   "outputs": [],
   "source": [
    "def aggregate():"
   ]
  },
  {
   "cell_type": "code",
   "execution_count": null,
   "metadata": {},
   "outputs": [],
   "source": [
    "def summary_stats():"
   ]
  },
  {
   "cell_type": "code",
   "execution_count": null,
   "metadata": {},
   "outputs": [],
   "source": [
    "#CHARTS!!! comes after cleaning the data and before buttons"
   ]
  },
  {
   "cell_type": "code",
   "execution_count": null,
   "metadata": {},
   "outputs": [],
   "source": [
    "def generate_text():"
   ]
  },
  {
   "cell_type": "code",
   "execution_count": null,
   "metadata": {},
   "outputs": [],
   "source": [
    "display(button, output)\n",
    "\n",
    "def on_button_clicked(b):\n",
    "    output.clear_output()\n",
    "    \n",
    "    global state, county\n",
    "    state, county = find_location()\n",
    "    \n",
    "    global acs1, acs2, acs3, acs4, acs5, acs6\n",
    "    acs1, acs2, acs3, acs4, acs5, acs6 = download_acs()\n",
    "    \n",
    "    global acs\n",
    "    acs=join_acs()\n",
    "    \n",
    "    global tracts_df\n",
    "    tracts_df = import_censustracts()\n",
    "    \n",
    "    with output:\n",
    "        print(\"Button clicked.\")\n",
    "\n",
    "button.on_click(on_button_clicked)"
   ]
  },
  {
   "cell_type": "code",
   "execution_count": null,
   "metadata": {},
   "outputs": [],
   "source": [
    "# button.on_click(on_button_clicked)\n",
    "m.on_interaction(handle_click)\n",
    "# marker.observe(on_location_changed, 'location')\n",
    "    \n",
    "m"
   ]
  },
  {
   "cell_type": "code",
   "execution_count": null,
   "metadata": {},
   "outputs": [],
   "source": [
    "acs.head()"
   ]
  },
  {
   "cell_type": "code",
   "execution_count": null,
   "metadata": {},
   "outputs": [],
   "source": [
    "#Combine all acs tables\n",
    "acs_only = [acs1, acs2, acs3, acs4, acs5, acs6]\n",
    "acs_only = [df.set_index('tract') for df in acs_only]\n",
    "acs_only = acs_only[0].join(acs_only[1:])\n",
    "\n",
    "#drop duplicate columns\n",
    "acs_only = acs_only.loc[:,~acs_only.columns.duplicated()]\n",
    "\n",
    "acs_only.rename(columns = { 'state_x': 'state',\\\n",
    "                            'county_x': 'county',\\\n",
    "                        }, inplace=True)\n",
    "# #GEOID = state+county+tract\n",
    "acs_only[\"GEOID\"]= acs_only['state'].astype(str)+acs_only['county'].astype(str)+acs_only['tract'].astype(str)\n",
    "\n",
    "acs_only.head()\n",
    "\n",
    "#     return acs_only"
   ]
  },
  {
   "cell_type": "code",
   "execution_count": null,
   "metadata": {},
   "outputs": [],
   "source": []
  },
  {
   "cell_type": "code",
   "execution_count": null,
   "metadata": {},
   "outputs": [],
   "source": [
    "tracts_df.plot()"
   ]
  },
  {
   "cell_type": "code",
   "execution_count": null,
   "metadata": {},
   "outputs": [],
   "source": []
  },
  {
   "cell_type": "code",
   "execution_count": null,
   "metadata": {},
   "outputs": [],
   "source": []
  },
  {
   "cell_type": "code",
   "execution_count": null,
   "metadata": {},
   "outputs": [],
   "source": []
  },
  {
   "cell_type": "code",
   "execution_count": null,
   "metadata": {},
   "outputs": [],
   "source": []
  },
  {
   "cell_type": "code",
   "execution_count": null,
   "metadata": {},
   "outputs": [],
   "source": []
  },
  {
   "cell_type": "code",
   "execution_count": null,
   "metadata": {},
   "outputs": [],
   "source": []
  },
  {
   "cell_type": "code",
   "execution_count": null,
   "metadata": {},
   "outputs": [],
   "source": []
  },
  {
   "cell_type": "code",
   "execution_count": null,
   "metadata": {
    "scrolled": true
   },
   "outputs": [],
   "source": []
  },
  {
   "cell_type": "code",
   "execution_count": null,
   "metadata": {},
   "outputs": [],
   "source": []
  },
  {
   "cell_type": "code",
   "execution_count": null,
   "metadata": {},
   "outputs": [],
   "source": []
  },
  {
   "cell_type": "code",
   "execution_count": null,
   "metadata": {},
   "outputs": [],
   "source": []
  },
  {
   "cell_type": "code",
   "execution_count": null,
   "metadata": {},
   "outputs": [],
   "source": []
  },
  {
   "cell_type": "code",
   "execution_count": null,
   "metadata": {},
   "outputs": [],
   "source": [
    "from shapely.geometry import Polygon\n",
    "import geopandas as gpd\n",
    "import pandas as pd\n",
    "import numpy as np\n",
    "import requests\n",
    "\n",
    "def get_geography(geoid):\n",
    "    # https://api.censusreporter.org/1.0/geo/tiger2016/16000US5367000?geom=true\n",
    "\n",
    "    api_url = 'https://api.censusreporter.org/1.0/geo/tiger2016/{0}?geom=true'\n",
    "    data = requests.get(api_url.format(geoid)).json()\n",
    "\n",
    "\n",
    "    # Get Features\n",
    "    fdf = pd.DataFrame({\n",
    "                        'Geoid': geoid,\n",
    "                        'LandArea': data['properties']['aland'] / 2589988,\n",
    "                        'Population': data['properties']['population']\n",
    "                        }, index=[0])\n",
    "    fdf['PopulationDensity'] = fdf.Population / fdf.LandArea\n",
    "\n",
    "    # Convert Points into Geopandas Geometry\n",
    "    numpy_points =   np.array(data['geometry']['coordinates'][0])\n",
    "    fdf['Geometry'] = Polygon(numpy_points)\n",
    "\n",
    "    return gpd.GeoDataFrame(fdf, crs='epsg:4326', geometry = 'Geometry')\n",
    "\n",
    "get_geography('86000US78666').plot()"
   ]
  },
  {
   "cell_type": "code",
   "execution_count": null,
   "metadata": {},
   "outputs": [],
   "source": []
  },
  {
   "cell_type": "code",
   "execution_count": null,
   "metadata": {
    "scrolled": false
   },
   "outputs": [],
   "source": [
    "# #drawing basic map\n",
    "# center = (40.7210907,-73.9877836)\n",
    "# basemap = basemap_to_tiles(basemaps.CartoDB.Positron)\n",
    "\n",
    "# icon = Icon(icon_url='icon.png', icon_size=[15, 15])\n",
    "# marker = Marker(location=center, draggable=False, icon=icon, opacity = 0.8)\n",
    "\n",
    "# m = Map(layers=(basemap, ), center=center, zoom=15, min_zoom = 11, max_zoom = 20, ax=ax, fig=fig)\n",
    "\n",
    "# ###HALF-MI BUFFER\n",
    "# #set location of center as location of the point\n",
    "# markerlocation=marker.location\n",
    "# print(markerlocation)\n",
    "    \n",
    "# radius = 402 #in-meters\n",
    "# color = \"black\"\n",
    "# fill_color = \"white\"\n",
    "# fill_opacity = .2\n",
    "# weight = 2\n",
    "\n",
    "# ##click on map to add marker, removes old marker as well\n",
    "# def handle_click(**kwargs):\n",
    "#     if kwargs.get('type') == 'click':\n",
    "#         layer_group.clear_layers();\n",
    "#         marker = Marker(location=kwargs.get('coordinates'), draggable=False, icon=icon, opacity = 0.8)\n",
    "#         layer_group.add_layer(marker)\n",
    "        \n",
    "#         #updating the circle's location\n",
    "#         markerlocation=marker.location\n",
    "#         circle.location = markerlocation\n",
    "#         layer_group.add_layer(circle);\n",
    "        \n",
    "# m.on_interaction(handle_click)\n",
    "# ######\n",
    "\n",
    "# #create half-mi buffer\n",
    "# circle = Circle()\n",
    "# circle.location = markerlocation\n",
    "# circle.radius = radius\n",
    "# circle.color = color\n",
    "# circle.fill_color = fill_color\n",
    "# circle.fill_opacity = fill_opacity\n",
    "# circle.weight = weight\n",
    "# ###########\n",
    "\n",
    "    \n",
    "# # def on_location_changed(event):\n",
    "# # #remove any circles existing first\n",
    "# #     layer_group.clear_layers();\n",
    "\n",
    "# # #update location of center as location of the point\n",
    "# #     markerlocation = marker.location\n",
    "# #     circle.location = markerlocation\n",
    "# #     layer_group.add_layer(circle);\n",
    "        \n",
    "# # pass\n",
    "# # marker.observe(on_location_changed, 'location')\n",
    "# # #######\n",
    "\n",
    "\n",
    "# # #adding button that performs the analysis on click \n",
    "# # button = Button(description=\"Reset\")\n",
    "\n",
    "# # def on_button_clicked(b, geo_json):   \n",
    "    \n",
    "# # button.on_click(on_button_clicked)\n",
    "\n",
    "    \n",
    "# # widget_control = WidgetControl(widget=button, position='topright')\n",
    "# # m.add_control(widget_control)\n",
    "\n",
    "# m.add_control(LayersControl())\n",
    "\n",
    "# layer_group = LayerGroup(layers=(marker, circle))\n",
    "# m.add_layer(layer_group)\n",
    "\n",
    "# # display(m)"
   ]
  }
 ],
 "metadata": {
  "kernelspec": {
   "display_name": "Python 3",
   "language": "python",
   "name": "python3"
  },
  "language_info": {
   "codemirror_mode": {
    "name": "ipython",
    "version": 3
   },
   "file_extension": ".py",
   "mimetype": "text/x-python",
   "name": "python",
   "nbconvert_exporter": "python",
   "pygments_lexer": "ipython3",
   "version": "3.7.4"
  }
 },
 "nbformat": 4,
 "nbformat_minor": 4
}
